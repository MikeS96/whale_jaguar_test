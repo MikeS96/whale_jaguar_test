{
 "cells": [
  {
   "cell_type": "code",
   "execution_count": 42,
   "metadata": {},
   "outputs": [
    {
     "name": "stderr",
     "output_type": "stream",
     "text": [
      "[nltk_data] Downloading package stopwords to\n",
      "[nltk_data]     /home/sherlock/nltk_data...\n",
      "[nltk_data]   Package stopwords is already up-to-date!\n",
      "[nltk_data] Downloading package punkt to /home/sherlock/nltk_data...\n",
      "[nltk_data]   Package punkt is already up-to-date!\n",
      "[nltk_data] Downloading package wordnet to /home/sherlock/nltk_data...\n",
      "[nltk_data]   Package wordnet is already up-to-date!\n"
     ]
    },
    {
     "data": {
      "text/plain": [
       "True"
      ]
     },
     "execution_count": 42,
     "metadata": {},
     "output_type": "execute_result"
    }
   ],
   "source": [
    "# Miscellaneous\n",
    "import numpy as np \n",
    "import pandas as pd\n",
    "import matplotlib.pyplot as plt\n",
    "import seaborn as sns\n",
    "import plotly.figure_factory as ff\n",
    "import plotly.graph_objects as go\n",
    "import plotly.express as px\n",
    "from plotly.subplots import make_subplots\n",
    "from wordcloud import WordCloud\n",
    "\n",
    "# Sklearn imports\n",
    "from sklearn.preprocessing import LabelEncoder\n",
    "from sklearn.model_selection import train_test_split\n",
    "\n",
    "# Deep learning\n",
    "import tensorflow as tf\n",
    "from tensorflow.keras.preprocessing.text import Tokenizer\n",
    "from tensorflow.keras.preprocessing.sequence import pad_sequences\n",
    "\n",
    "# Libraries for NLTK\n",
    "from nltk.corpus import stopwords\n",
    "from nltk.tokenize import word_tokenize\n",
    "from nltk.stem import WordNetLemmatizer\n",
    "import nltk\n",
    "\n",
    "# custom methods\n",
    "from utils import category_ngram, plot_history, plot_cmatrix, display_wordcloud\n",
    "\n",
    "# Others\n",
    "import os\n",
    "import re\n",
    "\n",
    "# Seaborn style\n",
    "sns.set_style('whitegrid')\n",
    "\n",
    "nltk.download('stopwords')\n",
    "nltk.download('punkt')\n",
    "nltk.download('wordnet')"
   ]
  },
  {
   "cell_type": "markdown",
   "metadata": {},
   "source": [
    "## Dataset Description\n",
    "\n",
    "The file contains 202,372 records. Each json record contains following attributes:\n",
    "\n",
    "-  `category`: Category article belongs to\n",
    "-  `headline`: Headline of the article \n",
    "-  `authors`: Person authored the article\n",
    "-  `link`: Link to the post\n",
    "-  `short_description`: Short description of the article\n",
    "-  `date`: Date the article was published\n",
    "\n",
    "The next step is to load the dataset"
   ]
  },
  {
   "cell_type": "code",
   "execution_count": 2,
   "metadata": {},
   "outputs": [
    {
     "name": "stdout",
     "output_type": "stream",
     "text": [
      "(200853, 6)\n"
     ]
    },
    {
     "data": {
      "text/html": [
       "<div>\n",
       "<style scoped>\n",
       "    .dataframe tbody tr th:only-of-type {\n",
       "        vertical-align: middle;\n",
       "    }\n",
       "\n",
       "    .dataframe tbody tr th {\n",
       "        vertical-align: top;\n",
       "    }\n",
       "\n",
       "    .dataframe thead th {\n",
       "        text-align: right;\n",
       "    }\n",
       "</style>\n",
       "<table border=\"1\" class=\"dataframe\">\n",
       "  <thead>\n",
       "    <tr style=\"text-align: right;\">\n",
       "      <th></th>\n",
       "      <th>category</th>\n",
       "      <th>headline</th>\n",
       "      <th>authors</th>\n",
       "      <th>link</th>\n",
       "      <th>short_description</th>\n",
       "      <th>date</th>\n",
       "    </tr>\n",
       "  </thead>\n",
       "  <tbody>\n",
       "    <tr>\n",
       "      <th>0</th>\n",
       "      <td>CRIME</td>\n",
       "      <td>There Were 2 Mass Shootings In Texas Last Week...</td>\n",
       "      <td>Melissa Jeltsen</td>\n",
       "      <td>https://www.huffingtonpost.com/entry/texas-ama...</td>\n",
       "      <td>She left her husband. He killed their children...</td>\n",
       "      <td>2018-05-26</td>\n",
       "    </tr>\n",
       "    <tr>\n",
       "      <th>1</th>\n",
       "      <td>ENTERTAINMENT</td>\n",
       "      <td>Will Smith Joins Diplo And Nicky Jam For The 2...</td>\n",
       "      <td>Andy McDonald</td>\n",
       "      <td>https://www.huffingtonpost.com/entry/will-smit...</td>\n",
       "      <td>Of course it has a song.</td>\n",
       "      <td>2018-05-26</td>\n",
       "    </tr>\n",
       "    <tr>\n",
       "      <th>2</th>\n",
       "      <td>ENTERTAINMENT</td>\n",
       "      <td>Hugh Grant Marries For The First Time At Age 57</td>\n",
       "      <td>Ron Dicker</td>\n",
       "      <td>https://www.huffingtonpost.com/entry/hugh-gran...</td>\n",
       "      <td>The actor and his longtime girlfriend Anna Ebe...</td>\n",
       "      <td>2018-05-26</td>\n",
       "    </tr>\n",
       "    <tr>\n",
       "      <th>3</th>\n",
       "      <td>ENTERTAINMENT</td>\n",
       "      <td>Jim Carrey Blasts 'Castrato' Adam Schiff And D...</td>\n",
       "      <td>Ron Dicker</td>\n",
       "      <td>https://www.huffingtonpost.com/entry/jim-carre...</td>\n",
       "      <td>The actor gives Dems an ass-kicking for not fi...</td>\n",
       "      <td>2018-05-26</td>\n",
       "    </tr>\n",
       "    <tr>\n",
       "      <th>4</th>\n",
       "      <td>ENTERTAINMENT</td>\n",
       "      <td>Julianna Margulies Uses Donald Trump Poop Bags...</td>\n",
       "      <td>Ron Dicker</td>\n",
       "      <td>https://www.huffingtonpost.com/entry/julianna-...</td>\n",
       "      <td>The \"Dietland\" actress said using the bags is ...</td>\n",
       "      <td>2018-05-26</td>\n",
       "    </tr>\n",
       "  </tbody>\n",
       "</table>\n",
       "</div>"
      ],
      "text/plain": [
       "        category                                           headline  \\\n",
       "0          CRIME  There Were 2 Mass Shootings In Texas Last Week...   \n",
       "1  ENTERTAINMENT  Will Smith Joins Diplo And Nicky Jam For The 2...   \n",
       "2  ENTERTAINMENT    Hugh Grant Marries For The First Time At Age 57   \n",
       "3  ENTERTAINMENT  Jim Carrey Blasts 'Castrato' Adam Schiff And D...   \n",
       "4  ENTERTAINMENT  Julianna Margulies Uses Donald Trump Poop Bags...   \n",
       "\n",
       "           authors                                               link  \\\n",
       "0  Melissa Jeltsen  https://www.huffingtonpost.com/entry/texas-ama...   \n",
       "1    Andy McDonald  https://www.huffingtonpost.com/entry/will-smit...   \n",
       "2       Ron Dicker  https://www.huffingtonpost.com/entry/hugh-gran...   \n",
       "3       Ron Dicker  https://www.huffingtonpost.com/entry/jim-carre...   \n",
       "4       Ron Dicker  https://www.huffingtonpost.com/entry/julianna-...   \n",
       "\n",
       "                                   short_description       date  \n",
       "0  She left her husband. He killed their children... 2018-05-26  \n",
       "1                           Of course it has a song. 2018-05-26  \n",
       "2  The actor and his longtime girlfriend Anna Ebe... 2018-05-26  \n",
       "3  The actor gives Dems an ass-kicking for not fi... 2018-05-26  \n",
       "4  The \"Dietland\" actress said using the bags is ... 2018-05-26  "
      ]
     },
     "execution_count": 2,
     "metadata": {},
     "output_type": "execute_result"
    }
   ],
   "source": [
    "# Loading the dataset\n",
    "news_category = pd.read_json('dataset/News_Category_Dataset_v2.json', lines=True)\n",
    "print(news_category.shape)\n",
    "news_category.head()"
   ]
  },
  {
   "cell_type": "markdown",
   "metadata": {},
   "source": [
    "This dataset contains a total of 6 features and 200853 samples.\n",
    "\n",
    "For a further dig into the dataset, the function ``describe`` of pandas is used. There we can see samples the number of unique categories which are 41. Additionally, It is possible to see that there are repeated headlines, authord and short_descriptions. The last information will be used to filter the dataset."
   ]
  },
  {
   "cell_type": "code",
   "execution_count": 3,
   "metadata": {},
   "outputs": [
    {
     "name": "stderr",
     "output_type": "stream",
     "text": [
      "<ipython-input-3-c99a2d68ffff>:2: FutureWarning: Treating datetime data as categorical rather than numeric in `.describe` is deprecated and will be removed in a future version of pandas. Specify `datetime_is_numeric=True` to silence this warning and adopt the future behavior now.\n",
      "  news_category.describe()\n"
     ]
    },
    {
     "data": {
      "text/html": [
       "<div>\n",
       "<style scoped>\n",
       "    .dataframe tbody tr th:only-of-type {\n",
       "        vertical-align: middle;\n",
       "    }\n",
       "\n",
       "    .dataframe tbody tr th {\n",
       "        vertical-align: top;\n",
       "    }\n",
       "\n",
       "    .dataframe thead th {\n",
       "        text-align: right;\n",
       "    }\n",
       "</style>\n",
       "<table border=\"1\" class=\"dataframe\">\n",
       "  <thead>\n",
       "    <tr style=\"text-align: right;\">\n",
       "      <th></th>\n",
       "      <th>category</th>\n",
       "      <th>headline</th>\n",
       "      <th>authors</th>\n",
       "      <th>link</th>\n",
       "      <th>short_description</th>\n",
       "      <th>date</th>\n",
       "    </tr>\n",
       "  </thead>\n",
       "  <tbody>\n",
       "    <tr>\n",
       "      <th>count</th>\n",
       "      <td>200853</td>\n",
       "      <td>200853</td>\n",
       "      <td>200853</td>\n",
       "      <td>200853</td>\n",
       "      <td>200853</td>\n",
       "      <td>200853</td>\n",
       "    </tr>\n",
       "    <tr>\n",
       "      <th>unique</th>\n",
       "      <td>41</td>\n",
       "      <td>199344</td>\n",
       "      <td>27993</td>\n",
       "      <td>200812</td>\n",
       "      <td>178353</td>\n",
       "      <td>2309</td>\n",
       "    </tr>\n",
       "    <tr>\n",
       "      <th>top</th>\n",
       "      <td>POLITICS</td>\n",
       "      <td>Sunday Roundup</td>\n",
       "      <td></td>\n",
       "      <td>https://www.huffingtonpost.comhttp://www.newre...</td>\n",
       "      <td></td>\n",
       "      <td>2013-01-17 00:00:00</td>\n",
       "    </tr>\n",
       "    <tr>\n",
       "      <th>freq</th>\n",
       "      <td>32739</td>\n",
       "      <td>90</td>\n",
       "      <td>36620</td>\n",
       "      <td>2</td>\n",
       "      <td>19712</td>\n",
       "      <td>100</td>\n",
       "    </tr>\n",
       "    <tr>\n",
       "      <th>first</th>\n",
       "      <td>NaN</td>\n",
       "      <td>NaN</td>\n",
       "      <td>NaN</td>\n",
       "      <td>NaN</td>\n",
       "      <td>NaN</td>\n",
       "      <td>2012-01-28 00:00:00</td>\n",
       "    </tr>\n",
       "    <tr>\n",
       "      <th>last</th>\n",
       "      <td>NaN</td>\n",
       "      <td>NaN</td>\n",
       "      <td>NaN</td>\n",
       "      <td>NaN</td>\n",
       "      <td>NaN</td>\n",
       "      <td>2018-05-26 00:00:00</td>\n",
       "    </tr>\n",
       "  </tbody>\n",
       "</table>\n",
       "</div>"
      ],
      "text/plain": [
       "        category        headline authors  \\\n",
       "count     200853          200853  200853   \n",
       "unique        41          199344   27993   \n",
       "top     POLITICS  Sunday Roundup           \n",
       "freq       32739              90   36620   \n",
       "first        NaN             NaN     NaN   \n",
       "last         NaN             NaN     NaN   \n",
       "\n",
       "                                                     link short_description  \\\n",
       "count                                              200853            200853   \n",
       "unique                                             200812            178353   \n",
       "top     https://www.huffingtonpost.comhttp://www.newre...                     \n",
       "freq                                                    2             19712   \n",
       "first                                                 NaN               NaN   \n",
       "last                                                  NaN               NaN   \n",
       "\n",
       "                       date  \n",
       "count                200853  \n",
       "unique                 2309  \n",
       "top     2013-01-17 00:00:00  \n",
       "freq                    100  \n",
       "first   2012-01-28 00:00:00  \n",
       "last    2018-05-26 00:00:00  "
      ]
     },
     "execution_count": 3,
     "metadata": {},
     "output_type": "execute_result"
    }
   ],
   "source": [
    "# Describe info of the dataset\n",
    "news_category.describe()"
   ]
  },
  {
   "cell_type": "markdown",
   "metadata": {},
   "source": [
    "Another important step is to check for Null or NaN values. Although it was already seen with the `describe` method that there is not NaN, The following cell prints the sum of NaN in the dataset."
   ]
  },
  {
   "cell_type": "code",
   "execution_count": 4,
   "metadata": {},
   "outputs": [
    {
     "data": {
      "text/plain": [
       "category             0\n",
       "headline             0\n",
       "authors              0\n",
       "link                 0\n",
       "short_description    0\n",
       "date                 0\n",
       "dtype: int64"
      ]
     },
     "execution_count": 4,
     "metadata": {},
     "output_type": "execute_result"
    }
   ],
   "source": [
    "# Checking for NaNs\n",
    "news_category.isna().sum()"
   ]
  },
  {
   "cell_type": "markdown",
   "metadata": {},
   "source": [
    "The next cell prints all the categories within the dataset, this is a very good insight about the number of categories and their names."
   ]
  },
  {
   "cell_type": "code",
   "execution_count": 5,
   "metadata": {},
   "outputs": [
    {
     "name": "stdout",
     "output_type": "stream",
     "text": [
      "The Categories in the dataset are: \n",
      "\n",
      "['CRIME' 'ENTERTAINMENT' 'WORLD NEWS' 'IMPACT' 'POLITICS' 'WEIRD NEWS'\n",
      " 'BLACK VOICES' 'WOMEN' 'COMEDY' 'QUEER VOICES' 'SPORTS' 'BUSINESS'\n",
      " 'TRAVEL' 'MEDIA' 'TECH' 'RELIGION' 'SCIENCE' 'LATINO VOICES' 'EDUCATION'\n",
      " 'COLLEGE' 'PARENTS' 'ARTS & CULTURE' 'STYLE' 'GREEN' 'TASTE'\n",
      " 'HEALTHY LIVING' 'THE WORLDPOST' 'GOOD NEWS' 'WORLDPOST' 'FIFTY' 'ARTS'\n",
      " 'WELLNESS' 'PARENTING' 'HOME & LIVING' 'STYLE & BEAUTY' 'DIVORCE'\n",
      " 'WEDDINGS' 'FOOD & DRINK' 'MONEY' 'ENVIRONMENT' 'CULTURE & ARTS']\n",
      "The total number of features are: 41\n"
     ]
    }
   ],
   "source": [
    "# Print unique categories\n",
    "print('The Categories in the dataset are: \\n')\n",
    "print(news_category.category.unique())\n",
    "print('The total number of features are: {}'.format(len(news_category.category.unique())))"
   ]
  },
  {
   "cell_type": "markdown",
   "metadata": {},
   "source": [
    "To following cell prints a short description's example."
   ]
  },
  {
   "cell_type": "code",
   "execution_count": 6,
   "metadata": {},
   "outputs": [
    {
     "name": "stdout",
     "output_type": "stream",
     "text": [
      "A short description: There's a great mini-series joining this week.\n"
     ]
    }
   ],
   "source": [
    "print('A short description: {}'.format(news_category.iloc[7][\"short_description\"]))"
   ]
  },
  {
   "cell_type": "markdown",
   "metadata": {},
   "source": [
    "## Visualizing data\n",
    "\n",
    "To gain more insights about the dataset, I will plot the number of samples belonging to an specific category in a barplot. This will plot will show if the datasetet is balanced."
   ]
  },
  {
   "cell_type": "code",
   "execution_count": 7,
   "metadata": {},
   "outputs": [
    {
     "data": {
      "image/png": "[encoded data removed]",
      "text/plain": [
       "<Figure size 720x864 with 1 Axes>"
      ]
     },
     "metadata": {},
     "output_type": "display_data"
    }
   ],
   "source": [
    "# Create new dataframe\n",
    "bars_df = pd.DataFrame(news_category['category'].value_counts()).reset_index()\n",
    "# Plotting\n",
    "plt.figure(figsize=(10, 12))\n",
    "bars = sns.barplot(data = bars_df, y = 'index', x = 'category', palette='deep')\n",
    "plt.title('Number of news in each category', loc='left', fontsize=20)\n",
    "plt.xlabel(\"\")\n",
    "plt.ylabel(\"\")\n",
    "ax = bars\n",
    "# Adding values in each bar \n",
    "# https://stackoverflow.com/questions/49820549/labeling-horizontal-barplot-with-values-in-seaborn\n",
    "for p in ax.patches:\n",
    "    width = p.get_width()    # get bar length\n",
    "    ax.text(width + 1,       # set the text at 1 unit right of the bar\n",
    "            p.get_y() + p.get_height() / 2, # get Y coordinate + X coordinate / 2\n",
    "            '{:1.0f}'.format(width), # set variable to display, 2 decimals\n",
    "            ha = 'left',   # horizontal alignment\n",
    "            va = 'center')  # vertical alignment\n",
    "    \n",
    "plt.show()"
   ]
  },
  {
   "cell_type": "markdown",
   "metadata": {},
   "source": [
    "From the last plot we can see that the `category` \"Politics\" is the most common one in the dataset. Moreover, the category with less samples is `Education`, however, it seems to be a reasonable value to train a neural network. The last Barplot give us considerable good insights about what are the most frequent categories."
   ]
  },
  {
   "cell_type": "markdown",
   "metadata": {},
   "source": [
    "Another interesting insight would be the average lenght of the `headlines` and `descriptions` in the dataset, to do so, a probability, dense function will be plotted for each of these features."
   ]
  },
  {
   "cell_type": "code",
   "execution_count": 60,
   "metadata": {},
   "outputs": [
    {
     "data": {
      "application/vnd.plotly.v1+json": {
       "config": {
        "plotlyServerURL": "https://plot.ly"
       },
       "data": [
        {
         "legendgroup": "ht",
         "marker": {
          "color": "rgb(31, 119, 180)"
         },
         "mode": "lines",
         "name": "ht",
         "showlegend": true,
         "type": "scatter",
         "x": [
          0,
          0.64,
          1.28,
          1.92,
          2.56,
          3.2,
          3.84,
          4.48,
          5.12,
          5.76,
          6.4,
          7.04,
          7.68,
          8.32,
          8.96,
          9.6,
          10.24,
          10.88,
          11.52,
          12.16,
          12.8,
          13.44,
          14.08,
          14.72,
          15.36,
          16,
          16.64,
          17.28,
          17.92,
          18.56,
          19.2,
          19.84,
          20.48,
          21.12,
          21.76,
          22.4,
          23.04,
          23.68,
          24.32,
          24.96,
          25.6,
          26.24,
          26.88,
          27.52,
          28.16,
          28.8,
          29.44,
          30.08,
          30.72,
          31.36,
          32,
          32.64,
          33.28,
          33.92,
          34.56,
          35.2,
          35.84,
          36.48,
          37.12,
          37.76,
          38.4,
          39.04,
          39.68,
          40.32,
          40.96,
          41.6,
          42.24,
          42.88,
          43.52,
          44.16,
          44.8,
          45.44,
          46.08,
          46.72,
          47.36,
          48,
          48.64,
          49.28,
          49.92,
          50.56,
          51.2,
          51.84,
          52.48,
          53.12,
          53.76,
          54.4,
          55.04,
          55.68,
          56.32,
          56.96,
          57.6,
          58.24,
          58.88,
          59.52,
          60.16,
          60.8,
          61.44,
          62.08,
          62.72,
          63.36,
          64,
          64.64,
          65.28,
          65.92,
          66.56,
          67.2,
          67.84,
          68.48,
          69.12,
          69.76,
          70.4,
          71.04,
          71.68,
          72.32,
          72.96,
          73.6,
          74.24,
          74.88,
          75.52,
          76.16,
          76.8,
          77.44,
          78.08,
          78.72,
          79.36,
          80,
          80.64,
          81.28,
          81.92,
          82.56,
          83.2,
          83.84,
          84.48,
          85.12,
          85.76,
          86.4,
          87.04,
          87.68,
          88.32,
          88.96,
          89.6,
          90.24,
          90.88,
          91.52,
          92.16,
          92.8,
          93.44,
          94.08,
          94.72,
          95.36,
          96,
          96.64,
          97.28,
          97.92,
          98.56,
          99.2,
          99.84,
          100.48,
          101.12,
          101.76,
          102.4,
          103.04,
          103.68,
          104.32,
          104.96,
          105.6,
          106.24,
          106.88,
          107.52,
          108.16,
          108.8,
          109.44,
          110.08,
          110.72,
          111.36,
          112,
          112.64,
          113.28,
          113.92,
          114.56,
          115.2,
          115.84,
          116.48,
          117.12,
          117.76,
          118.4,
          119.04,
          119.68,
          120.32,
          120.96,
          121.6,
          122.24,
          122.88,
          123.52,
          124.16,
          124.8,
          125.44,
          126.08,
          126.72,
          127.36,
          128,
          128.64,
          129.28,
          129.92,
          130.56,
          131.2,
          131.84,
          132.48,
          133.12,
          133.76,
          134.4,
          135.04,
          135.68,
          136.32,
          136.96,
          137.6,
          138.24,
          138.88,
          139.52,
          140.16,
          140.8,
          141.44,
          142.08,
          142.72,
          143.36,
          144,
          144.64,
          145.28,
          145.92,
          146.56,
          147.2,
          147.84,
          148.48,
          149.12,
          149.76,
          150.4,
          151.04,
          151.68,
          152.32,
          152.96,
          153.6,
          154.24,
          154.88,
          155.52,
          156.16,
          156.8,
          157.44,
          158.08,
          158.72,
          159.36,
          160,
          160.64,
          161.28,
          161.92,
          162.56,
          163.2,
          163.84,
          164.48,
          165.12,
          165.76,
          166.4,
          167.04,
          167.68,
          168.32,
          168.96,
          169.6,
          170.24,
          170.88,
          171.52,
          172.16,
          172.8,
          173.44,
          174.08,
          174.72,
          175.36,
          176,
          176.64,
          177.28,
          177.92,
          178.56,
          179.2,
          179.84,
          180.48,
          181.12,
          181.76,
          182.4,
          183.04,
          183.68,
          184.32,
          184.96,
          185.6,
          186.24,
          186.88,
          187.52,
          188.16,
          188.8,
          189.44,
          190.08,
          190.72,
          191.36,
          192,
          192.64,
          193.28,
          193.92,
          194.56,
          195.2,
          195.84,
          196.48,
          197.12,
          197.76,
          198.4,
          199.04,
          199.68,
          200.32,
          200.96,
          201.6,
          202.24,
          202.88,
          203.52,
          204.16,
          204.8,
          205.44,
          206.08,
          206.72,
          207.36,
          208,
          208.64,
          209.28,
          209.92,
          210.56,
          211.2,
          211.84,
          212.48,
          213.12,
          213.76,
          214.4,
          215.04,
          215.68,
          216.32,
          216.96,
          217.6,
          218.24,
          218.88,
          219.52,
          220.16,
          220.8,
          221.44,
          222.08,
          222.72,
          223.36,
          224,
          224.64,
          225.28,
          225.92,
          226.56,
          227.2,
          227.84,
          228.48,
          229.12,
          229.76,
          230.4,
          231.04,
          231.68,
          232.32,
          232.96,
          233.6,
          234.24,
          234.88,
          235.52,
          236.16,
          236.8,
          237.44,
          238.08,
          238.72,
          239.36,
          240,
          240.64,
          241.28,
          241.92,
          242.56,
          243.2,
          243.84,
          244.48,
          245.12,
          245.76,
          246.4,
          247.04,
          247.68,
          248.32,
          248.96,
          249.6,
          250.24,
          250.88,
          251.52,
          252.16,
          252.8,
          253.44,
          254.08,
          254.72,
          255.36,
          256,
          256.64,
          257.28,
          257.92,
          258.56,
          259.2,
          259.84,
          260.48,
          261.12,
          261.76,
          262.4,
          263.04,
          263.68,
          264.32,
          264.96,
          265.6,
          266.24,
          266.88,
          267.52,
          268.16,
          268.8,
          269.44,
          270.08,
          270.72,
          271.36,
          272,
          272.64,
          273.28,
          273.92,
          274.56,
          275.2,
          275.84,
          276.48,
          277.12,
          277.76,
          278.4,
          279.04,
          279.68,
          280.32,
          280.96,
          281.6,
          282.24,
          282.88,
          283.52,
          284.16,
          284.8,
          285.44,
          286.08,
          286.72,
          287.36,
          288,
          288.64,
          289.28,
          289.92,
          290.56,
          291.2,
          291.84,
          292.48,
          293.12,
          293.76,
          294.4,
          295.04,
          295.68,
          296.32,
          296.96,
          297.6,
          298.24,
          298.88,
          299.52,
          300.16,
          300.8,
          301.44,
          302.08,
          302.72,
          303.36,
          304,
          304.64,
          305.28,
          305.92,
          306.56,
          307.2,
          307.84,
          308.48,
          309.12,
          309.76,
          310.4,
          311.04,
          311.68,
          312.32,
          312.96,
          313.6,
          314.24,
          314.88,
          315.52,
          316.16,
          316.8,
          317.44,
          318.08,
          318.72,
          319.36
         ],
         "xaxis": "x",
         "y": [
          1.0107660047746817e-05,
          1.3007370980204206e-05,
          1.7960858083730814e-05,
          2.6757616528279775e-05,
          4.094275614088755e-05,
          6.123251170565582e-05,
          8.743065051086422e-05,
          0.00011888347627101463,
          0.0001551077871897089,
          0.00019619338026827574,
          0.0002429440177676681,
          0.00029698606884380853,
          0.00036085731509309215,
          0.00043774028599278506,
          0.0005306542819421369,
          0.0006414966979719128,
          0.0007705979670967688,
          0.0009170286582167142,
          0.001079175624699202,
          0.0012548481021157501,
          0.0014408326535106529,
          0.0016328799171935798,
          0.0018271312902230594,
          0.002022312612717367,
          0.002220430726887709,
          0.002424661899138572,
          0.002636002748785642,
          0.002851676883502156,
          0.0030666299396184117,
          0.0032767913076783297,
          0.00348175102841158,
          0.0036853209446058867,
          0.0038938897087853314,
          0.004113676649945107,
          0.004348444406859993,
          0.004598603500979693,
          0.004861503396319418,
          0.005132376870780735,
          0.005406084048473993,
          0.005679833153621542,
          0.005955466073011341,
          0.006238747309919675,
          0.006534984238688155,
          0.006843965130325554,
          0.00715846380239211,
          0.007467835127378697,
          0.007764235430627838,
          0.008047100329909521,
          0.00832278413414891,
          0.008599765801178426,
          0.008883160355337,
          0.009172542531584104,
          0.009463779784518133,
          0.009752089438694983,
          0.010033608465572854,
          0.010305655674253544,
          0.010567411318426112,
          0.010821205626782626,
          0.01107291598082502,
          0.01133088523160649,
          0.011604474141522504,
          0.01190266722865181,
          0.012231296035787683,
          0.012588451282548574,
          0.012961373751647435,
          0.013329379218107616,
          0.013673155749499582,
          0.013984689414958519,
          0.014270369435556398,
          0.014544727112352177,
          0.01481975011650807,
          0.015097965232796993,
          0.015373516675347613,
          0.01563863815720958,
          0.015889878161889463,
          0.01613032147288222,
          0.016367039225156806,
          0.01660525804631616,
          0.01684325965647424,
          0.017073115700601372,
          0.01728826872945851,
          0.017491733355008185,
          0.017696840229662048,
          0.017919760116011457,
          0.018171393505105403,
          0.01845523784600572,
          0.018769368441148144,
          0.01910654770138584,
          0.01945192660297921,
          0.019784296408801614,
          0.020084650252669246,
          0.02034722682383862,
          0.020583696720790853,
          0.02081608719762343,
          0.021063415035610746,
          0.021331684228278424,
          0.021612813505450936,
          0.021889710525291987,
          0.02214058920537068,
          0.02233950744193038,
          0.022456959281977492,
          0.022465747651759554,
          0.022351167959695085,
          0.022117995884993146,
          0.02178805142531678,
          0.021389900540366602,
          0.020947719753086395,
          0.02047503779148477,
          0.019975086654416538,
          0.01944698261082607,
          0.018894629730291365,
          0.01833224223427953,
          0.017780870549387318,
          0.01725715391915313,
          0.016763255200554297,
          0.016286658399719718,
          0.01580943518270313,
          0.015318284423580152,
          0.01480789834332585,
          0.014278504634729992,
          0.013733585792940475,
          0.013180578340687522,
          0.012631205747044245,
          0.012097407344915144,
          0.011584458901841926,
          0.011087511330447969,
          0.010595315452844534,
          0.010098101055736166,
          0.00959330987922653,
          0.009086108761403968,
          0.00858641251255854,
          0.008105243311098437,
          0.007651496090622576,
          0.007229294625939216,
          0.006836685653961516,
          0.0064664668287125575,
          0.006108944848916893,
          0.005755483395143532,
          0.00540150573611919,
          0.005048001977744117,
          0.00470113333494902,
          0.00436993242464287,
          0.004062602483445036,
          0.0037828466514998617,
          0.0035283136612993004,
          0.00329233003928636,
          0.0030677590624379487,
          0.002850242324039887,
          0.002638975299450956,
          0.002435522575289124,
          0.002242416853654302,
          0.0020624736986816906,
          0.0018983754268233884,
          0.0017518096398398862,
          0.0016223263217720095,
          0.0015068839004451317,
          0.0014007859076482277,
          0.00129959480979278,
          0.001200811676251699,
          0.0011043853585261914,
          0.0010120460661182742,
          0.0009261438021992151,
          0.0008486905613411934,
          0.0007808549806770855,
          0.0007227325003686558,
          0.0006732251151625904,
          0.0006301936082562459,
          0.0005910795808917362,
          0.0005537145679886022,
          0.000516719442349268,
          0.00047936270329202937,
          0.0004414319566067437,
          0.0004035331793078762,
          0.00036736636257979696,
          0.0003351931211365993,
          0.0003085424964833342,
          0.00028722007365055075,
          0.0002695776858460015,
          0.0002538090467609979,
          0.00023906335410106468,
          0.0002254322261860889,
          0.0002130443398152758,
          0.0002013577429138795,
          0.0001894150993752602,
          0.00017673286814240885,
          0.00016384578357719385,
          0.00015195926227655961,
          0.00014206784642977112,
          0.00013429435048788193,
          0.00012788096914487937,
          0.00012172939590397876,
          0.00011506452879635833,
          0.00010776980074287686,
          0.00010021723685607115,
          9.285386412143275e-05,
          8.598040599955822e-05,
          7.982760134035417e-05,
          7.46304936520015e-05,
          7.04885660906214e-05,
          6.720877142656164e-05,
          6.440575107635041e-05,
          6.177200996424117e-05,
          5.919674990324313e-05,
          5.662746242164974e-05,
          5.388439186989236e-05,
          5.065024232060814e-05,
          4.6640673370316396e-05,
          4.18081942807726e-05,
          3.643592775508836e-05,
          3.106057081628459e-05,
          2.6267084887296263e-05,
          2.2477949831621506e-05,
          1.9853827582040235e-05,
          1.8330881905300973e-05,
          1.773353991113117e-05,
          1.7883317375793948e-05,
          1.8646121074414272e-05,
          1.988957237711453e-05,
          2.1379896395992606e-05,
          2.272478133901247e-05,
          2.3465804981354787e-05,
          2.3286234388192835e-05,
          2.2157341164095833e-05,
          2.0289609151947984e-05,
          1.7959756709390917e-05,
          1.540274273002772e-05,
          1.284615189858262e-05,
          1.0580125159680841e-05,
          8.92970431292673e-06,
          8.12574134910378e-06,
          8.175048867096264e-06,
          8.82057212152566e-06,
          9.620218721449651e-06,
          1.0118551355140597e-05,
          1.0035953764500325e-05,
          9.370902934973454e-06,
          8.349771507550665e-06,
          7.258579238127124e-06,
          6.274323506526161e-06,
          5.409197784393441e-06,
          4.588669845303888e-06,
          3.776005257536064e-06,
          3.0267054023470583e-06,
          2.4361457019763824e-06,
          2.0509973482915437e-06,
          1.8381647540950387e-06,
          1.7288252829720564e-06,
          1.6746454525685695e-06,
          1.6574121178885247e-06,
          1.6626168136007986e-06,
          1.6670813988841118e-06,
          1.6556600961381142e-06,
          1.632043151537804e-06,
          1.5982468551127346e-06,
          1.529248307775005e-06,
          1.38393258640599e-06,
          1.1480289933573267e-06,
          8.629449501384903e-07,
          6.108338316969177e-07,
          4.7271949680550825e-07,
          4.932865939802874e-07,
          6.659084458274975e-07,
          9.345998420890587e-07,
          1.2138804730880335e-06,
          1.42764049081714e-06,
          1.546614333186656e-06,
          1.5901252135336258e-06,
          1.5861475684053808e-06,
          1.531072478749901e-06,
          1.3947068312357077e-06,
          1.1647710963097117e-06,
          8.811196786054971e-07,
          6.258277658564155e-07,
          4.839869601213736e-07,
          5.101791757266368e-07,
          7.158975857378349e-07,
          1.0725272147233053e-06,
          1.5252130444518986e-06,
          2.0156888581173734e-06,
          2.500495834538547e-06,
          2.9453336594190634e-06,
          3.299115284442306e-06,
          3.4810005597494817e-06,
          3.4080404930391275e-06,
          3.0496351737764243e-06,
          2.463470672088745e-06,
          1.7800627493893457e-06,
          1.1455939786258219e-06,
          6.645282174721454e-07,
          3.7806901739416507e-07,
          2.8076047798872077e-07,
          3.476406319500668e-07,
          5.433564070860561e-07,
          8.103823670553592e-07,
          1.0609697917973277e-06,
          1.1987021657327358e-06,
          1.164993490299825e-06,
          9.734777035923765e-07,
          6.998168709592029e-07,
          4.3487465683796136e-07,
          2.4086444663909836e-07,
          1.4045096116211703e-07,
          1.3459661874900454e-07,
          2.230768032048965e-07,
          4.0597841242241136e-07,
          6.64785187507098e-07,
          9.429055969268786e-07,
          1.1528804470695108e-06,
          1.2189633164289828e-06,
          1.1287373739663988e-06,
          9.507295167588728e-07,
          7.989341965962766e-07,
          7.669827018489251e-07,
          8.7434609740043e-07,
          1.0552939414242047e-06,
          1.1963867347701324e-06,
          1.2021207722202252e-06,
          1.0484277181868946e-06,
          7.883492782731866e-07,
          5.100090624405386e-07,
          2.8368448375212107e-07,
          1.3564556588812866e-07,
          5.5752138608507754e-08,
          1.969678166156619e-08,
          5.981420529802436e-09,
          1.5613057838087797e-09,
          3.503046740277753e-10,
          6.755821339244827e-11,
          1.1199138569432256e-11,
          1.595751687658375e-12,
          1.954430521461752e-13,
          2.057545221328927e-14,
          1.8618846468751856e-15,
          1.4482061500667563e-16,
          9.682447129193983e-18,
          5.581736678244839e-19,
          6.784946237569719e-20,
          8.029824604772741e-19,
          1.3690962149376073e-17,
          2.0093938139129463e-16,
          2.5349635913727764e-15,
          2.7488600080942674e-14,
          2.562168860221987e-13,
          2.052754926163381e-12,
          1.4136460570622016e-11,
          8.367938855250929e-11,
          4.257655700259521e-10,
          1.862073452084785e-09,
          6.999988178631601e-09,
          2.2618928805501326e-08,
          6.282333529784052e-08,
          1.499837382744156e-07,
          3.0778084476679993e-07,
          5.42891734301102e-07,
          8.231123166654538e-07,
          1.072702270767263e-06,
          1.2016376530331507e-06,
          1.157023248768645e-06,
          9.576016187614266e-07,
          6.812427388128559e-07,
          4.165749297794101e-07,
          2.189568830452197e-07,
          9.892323336700399e-08,
          3.8416007979491473e-08,
          1.2823317386547812e-08,
          3.6792794846250322e-09,
          9.074012955444594e-10,
          1.9235799422031595e-10,
          3.505058845068342e-11,
          5.489775895900444e-12,
          7.390743791283628e-13,
          8.552555619546293e-14,
          8.507028660299497e-15,
          7.273343749301014e-16,
          5.3452073850795754e-17,
          3.3765192873033367e-18,
          1.8333616334127975e-19,
          8.556600807991884e-21,
          3.432642953781494e-22,
          1.1836688612829406e-23,
          3.5083752752144613e-25,
          8.938323924127782e-27,
          1.9574035240108994e-28,
          3.6845026320101746e-30,
          5.96144587256631e-32,
          8.290840645888648e-34,
          9.911052106518401e-36,
          1.0183924705651498e-37,
          8.994661599608443e-40,
          6.828553347698094e-42,
          4.4560167358330346e-44,
          2.499419470628084e-46,
          1.2050517918978204e-48,
          4.993976631190409e-51,
          1.7789409299196564e-53,
          5.446917256038808e-56,
          1.4335546613411956e-58,
          3.243037460319357e-61,
          6.306144267786372e-64,
          1.0540229509748466e-66,
          1.5142949077743963e-69,
          1.8700149778378505e-72,
          1.984969951958159e-75,
          1.8110774266339166e-78,
          1.4203465703982478e-81,
          9.57471520875386e-85,
          5.547938422130418e-88,
          2.76319559459869e-91,
          1.183045717707901e-94,
          2.7211998115477504e-95,
          6.528817068394903e-92,
          1.348584260056599e-88,
          2.3943955774394558e-85,
          3.654163250042531e-82,
          4.79351640801769e-79,
          5.404987821565777e-76,
          5.2385301761949056e-73,
          4.364137335405203e-70,
          3.125083290468389e-67,
          1.9235302179386134e-64,
          1.0176786385581885e-61,
          4.628033913165e-59,
          1.8090752644951813e-56,
          6.078423666985789e-54,
          1.755494720030008e-51,
          4.357950738518464e-49,
          9.299066097841259e-47,
          1.70557405674159e-44,
          2.6889087035413178e-42,
          3.643810316786875e-40,
          4.244335383676245e-38,
          4.2495002189119803e-36,
          3.6571287203152846e-34,
          2.705308928477005e-32,
          1.7201555220501216e-30,
          9.401405625891945e-29,
          4.4166409669624786e-27,
          1.783469271007041e-25,
          6.190324193820835e-24,
          1.8468659993094523e-22,
          4.7362171576326994e-21,
          1.0440037443122902e-19,
          1.978093129565475e-18,
          3.221555677518272e-17,
          4.509815525581593e-16,
          5.4265791515349246e-15,
          5.6126470855301006e-14,
          4.989804811341002e-13,
          3.813059729720026e-12,
          2.504597184278969e-11,
          1.414087868424258e-10,
          6.862607074677059e-10,
          2.862701724458365e-09,
          1.0264488071877744e-08,
          3.163535540616125e-08,
          8.380740051175148e-08,
          1.9083861289231303e-07,
          3.735290308784828e-07,
          6.284296967746898e-07,
          9.08789429703799e-07,
          1.1296504071340325e-06,
          1.2069772606215614e-06,
          1.1084812254213418e-06,
          8.750478946364266e-07,
          5.937580838285635e-07,
          3.463071637041571e-07,
          1.7361515972657735e-07,
          7.481489000376874e-08,
          2.7711668048722295e-08,
          8.82290337724667e-09,
          2.4145411260507197e-09,
          5.679785303042834e-10,
          1.148427176135782e-10,
          1.995948039707986e-11,
          2.981736283426699e-12,
          3.82880684594195e-13,
          4.226023563508356e-14,
          4.009355816042846e-15,
          3.269578077806264e-16,
          2.2922197664292958e-17,
          1.4672865756899015e-18,
          1.7247147854759386e-18,
          2.7183375433698125e-17,
          3.841082664924525e-16,
          4.665828179805619e-15,
          4.871673738889893e-14,
          4.3722187087916087e-13,
          3.3728714545820515e-12,
          2.236515591994876e-11,
          1.274730271731224e-10,
          6.245092815006276e-10,
          2.6298666272109403e-09,
          9.51925102450105e-09,
          2.9617340862668165e-08,
          7.920700220773223e-08,
          1.8207709612177224e-07,
          3.597669703259932e-07,
          6.110285293192393e-07,
          8.920227204010335e-07,
          1.1193465708436418e-06
         ],
         "yaxis": "y"
        }
       ],
       "layout": {
        "barmode": "overlay",
        "height": 500,
        "hovermode": "closest",
        "legend": {
         "traceorder": "reversed"
        },
        "showlegend": false,
        "template": {
         "data": {
          "bar": [
           {
            "error_x": {
             "color": "#2a3f5f"
            },
            "error_y": {
             "color": "#2a3f5f"
            },
            "marker": {
             "line": {
              "color": "#E5ECF6",
              "width": 0.5
             }
            },
            "type": "bar"
           }
          ],
          "barpolar": [
           {
            "marker": {
             "line": {
              "color": "#E5ECF6",
              "width": 0.5
             }
            },
            "type": "barpolar"
           }
          ],
          "carpet": [
           {
            "aaxis": {
             "endlinecolor": "#2a3f5f",
             "gridcolor": "white",
             "linecolor": "white",
             "minorgridcolor": "white",
             "startlinecolor": "#2a3f5f"
            },
            "baxis": {
             "endlinecolor": "#2a3f5f",
             "gridcolor": "white",
             "linecolor": "white",
             "minorgridcolor": "white",
             "startlinecolor": "#2a3f5f"
            },
            "type": "carpet"
           }
          ],
          "choropleth": [
           {
            "colorbar": {
             "outlinewidth": 0,
             "ticks": ""
            },
            "type": "choropleth"
           }
          ],
          "contour": [
           {
            "colorbar": {
             "outlinewidth": 0,
             "ticks": ""
            },
            "colorscale": [
             [
              0,
              "#0d0887"
             ],
             [
              0.1111111111111111,
              "#46039f"
             ],
             [
              0.2222222222222222,
              "#7201a8"
             ],
             [
              0.3333333333333333,
              "#9c179e"
             ],
             [
              0.4444444444444444,
              "#bd3786"
             ],
             [
              0.5555555555555556,
              "#d8576b"
             ],
             [
              0.6666666666666666,
              "#ed7953"
             ],
             [
              0.7777777777777778,
              "#fb9f3a"
             ],
             [
              0.8888888888888888,
              "#fdca26"
             ],
             [
              1,
              "#f0f921"
             ]
            ],
            "type": "contour"
           }
          ],
          "contourcarpet": [
           {
            "colorbar": {
             "outlinewidth": 0,
             "ticks": ""
            },
            "type": "contourcarpet"
           }
          ],
          "heatmap": [
           {
            "colorbar": {
             "outlinewidth": 0,
             "ticks": ""
            },
            "colorscale": [
             [
              0,
              "#0d0887"
             ],
             [
              0.1111111111111111,
              "#46039f"
             ],
             [
              0.2222222222222222,
              "#7201a8"
             ],
             [
              0.3333333333333333,
              "#9c179e"
             ],
             [
              0.4444444444444444,
              "#bd3786"
             ],
             [
              0.5555555555555556,
              "#d8576b"
             ],
             [
              0.6666666666666666,
              "#ed7953"
             ],
             [
              0.7777777777777778,
              "#fb9f3a"
             ],
             [
              0.8888888888888888,
              "#fdca26"
             ],
             [
              1,
              "#f0f921"
             ]
            ],
            "type": "heatmap"
           }
          ],
          "heatmapgl": [
           {
            "colorbar": {
             "outlinewidth": 0,
             "ticks": ""
            },
            "colorscale": [
             [
              0,
              "#0d0887"
             ],
             [
              0.1111111111111111,
              "#46039f"
             ],
             [
              0.2222222222222222,
              "#7201a8"
             ],
             [
              0.3333333333333333,
              "#9c179e"
             ],
             [
              0.4444444444444444,
              "#bd3786"
             ],
             [
              0.5555555555555556,
              "#d8576b"
             ],
             [
              0.6666666666666666,
              "#ed7953"
             ],
             [
              0.7777777777777778,
              "#fb9f3a"
             ],
             [
              0.8888888888888888,
              "#fdca26"
             ],
             [
              1,
              "#f0f921"
             ]
            ],
            "type": "heatmapgl"
           }
          ],
          "histogram": [
           {
            "marker": {
             "colorbar": {
              "outlinewidth": 0,
              "ticks": ""
             }
            },
            "type": "histogram"
           }
          ],
          "histogram2d": [
           {
            "colorbar": {
             "outlinewidth": 0,
             "ticks": ""
            },
            "colorscale": [
             [
              0,
              "#0d0887"
             ],
             [
              0.1111111111111111,
              "#46039f"
             ],
             [
              0.2222222222222222,
              "#7201a8"
             ],
             [
              0.3333333333333333,
              "#9c179e"
             ],
             [
              0.4444444444444444,
              "#bd3786"
             ],
             [
              0.5555555555555556,
              "#d8576b"
             ],
             [
              0.6666666666666666,
              "#ed7953"
             ],
             [
              0.7777777777777778,
              "#fb9f3a"
             ],
             [
              0.8888888888888888,
              "#fdca26"
             ],
             [
              1,
              "#f0f921"
             ]
            ],
            "type": "histogram2d"
           }
          ],
          "histogram2dcontour": [
           {
            "colorbar": {
             "outlinewidth": 0,
             "ticks": ""
            },
            "colorscale": [
             [
              0,
              "#0d0887"
             ],
             [
              0.1111111111111111,
              "#46039f"
             ],
             [
              0.2222222222222222,
              "#7201a8"
             ],
             [
              0.3333333333333333,
              "#9c179e"
             ],
             [
              0.4444444444444444,
              "#bd3786"
             ],
             [
              0.5555555555555556,
              "#d8576b"
             ],
             [
              0.6666666666666666,
              "#ed7953"
             ],
             [
              0.7777777777777778,
              "#fb9f3a"
             ],
             [
              0.8888888888888888,
              "#fdca26"
             ],
             [
              1,
              "#f0f921"
             ]
            ],
            "type": "histogram2dcontour"
           }
          ],
          "mesh3d": [
           {
            "colorbar": {
             "outlinewidth": 0,
             "ticks": ""
            },
            "type": "mesh3d"
           }
          ],
          "parcoords": [
           {
            "line": {
             "colorbar": {
              "outlinewidth": 0,
              "ticks": ""
             }
            },
            "type": "parcoords"
           }
          ],
          "pie": [
           {
            "automargin": true,
            "type": "pie"
           }
          ],
          "scatter": [
           {
            "marker": {
             "colorbar": {
              "outlinewidth": 0,
              "ticks": ""
             }
            },
            "type": "scatter"
           }
          ],
          "scatter3d": [
           {
            "line": {
             "colorbar": {
              "outlinewidth": 0,
              "ticks": ""
             }
            },
            "marker": {
             "colorbar": {
              "outlinewidth": 0,
              "ticks": ""
             }
            },
            "type": "scatter3d"
           }
          ],
          "scattercarpet": [
           {
            "marker": {
             "colorbar": {
              "outlinewidth": 0,
              "ticks": ""
             }
            },
            "type": "scattercarpet"
           }
          ],
          "scattergeo": [
           {
            "marker": {
             "colorbar": {
              "outlinewidth": 0,
              "ticks": ""
             }
            },
            "type": "scattergeo"
           }
          ],
          "scattergl": [
           {
            "marker": {
             "colorbar": {
              "outlinewidth": 0,
              "ticks": ""
             }
            },
            "type": "scattergl"
           }
          ],
          "scattermapbox": [
           {
            "marker": {
             "colorbar": {
              "outlinewidth": 0,
              "ticks": ""
             }
            },
            "type": "scattermapbox"
           }
          ],
          "scatterpolar": [
           {
            "marker": {
             "colorbar": {
              "outlinewidth": 0,
              "ticks": ""
             }
            },
            "type": "scatterpolar"
           }
          ],
          "scatterpolargl": [
           {
            "marker": {
             "colorbar": {
              "outlinewidth": 0,
              "ticks": ""
             }
            },
            "type": "scatterpolargl"
           }
          ],
          "scatterternary": [
           {
            "marker": {
             "colorbar": {
              "outlinewidth": 0,
              "ticks": ""
             }
            },
            "type": "scatterternary"
           }
          ],
          "surface": [
           {
            "colorbar": {
             "outlinewidth": 0,
             "ticks": ""
            },
            "colorscale": [
             [
              0,
              "#0d0887"
             ],
             [
              0.1111111111111111,
              "#46039f"
             ],
             [
              0.2222222222222222,
              "#7201a8"
             ],
             [
              0.3333333333333333,
              "#9c179e"
             ],
             [
              0.4444444444444444,
              "#bd3786"
             ],
             [
              0.5555555555555556,
              "#d8576b"
             ],
             [
              0.6666666666666666,
              "#ed7953"
             ],
             [
              0.7777777777777778,
              "#fb9f3a"
             ],
             [
              0.8888888888888888,
              "#fdca26"
             ],
             [
              1,
              "#f0f921"
             ]
            ],
            "type": "surface"
           }
          ],
          "table": [
           {
            "cells": {
             "fill": {
              "color": "#EBF0F8"
             },
             "line": {
              "color": "white"
             }
            },
            "header": {
             "fill": {
              "color": "#C8D4E3"
             },
             "line": {
              "color": "white"
             }
            },
            "type": "table"
           }
          ]
         },
         "layout": {
          "annotationdefaults": {
           "arrowcolor": "#2a3f5f",
           "arrowhead": 0,
           "arrowwidth": 1
          },
          "coloraxis": {
           "colorbar": {
            "outlinewidth": 0,
            "ticks": ""
           }
          },
          "colorscale": {
           "diverging": [
            [
             0,
             "#8e0152"
            ],
            [
             0.1,
             "#c51b7d"
            ],
            [
             0.2,
             "#de77ae"
            ],
            [
             0.3,
             "#f1b6da"
            ],
            [
             0.4,
             "#fde0ef"
            ],
            [
             0.5,
             "#f7f7f7"
            ],
            [
             0.6,
             "#e6f5d0"
            ],
            [
             0.7,
             "#b8e186"
            ],
            [
             0.8,
             "#7fbc41"
            ],
            [
             0.9,
             "#4d9221"
            ],
            [
             1,
             "#276419"
            ]
           ],
           "sequential": [
            [
             0,
             "#0d0887"
            ],
            [
             0.1111111111111111,
             "#46039f"
            ],
            [
             0.2222222222222222,
             "#7201a8"
            ],
            [
             0.3333333333333333,
             "#9c179e"
            ],
            [
             0.4444444444444444,
             "#bd3786"
            ],
            [
             0.5555555555555556,
             "#d8576b"
            ],
            [
             0.6666666666666666,
             "#ed7953"
            ],
            [
             0.7777777777777778,
             "#fb9f3a"
            ],
            [
             0.8888888888888888,
             "#fdca26"
            ],
            [
             1,
             "#f0f921"
            ]
           ],
           "sequentialminus": [
            [
             0,
             "#0d0887"
            ],
            [
             0.1111111111111111,
             "#46039f"
            ],
            [
             0.2222222222222222,
             "#7201a8"
            ],
            [
             0.3333333333333333,
             "#9c179e"
            ],
            [
             0.4444444444444444,
             "#bd3786"
            ],
            [
             0.5555555555555556,
             "#d8576b"
            ],
            [
             0.6666666666666666,
             "#ed7953"
            ],
            [
             0.7777777777777778,
             "#fb9f3a"
            ],
            [
             0.8888888888888888,
             "#fdca26"
            ],
            [
             1,
             "#f0f921"
            ]
           ]
          },
          "colorway": [
           "#636efa",
           "#EF553B",
           "#00cc96",
           "#ab63fa",
           "#FFA15A",
           "#19d3f3",
           "#FF6692",
           "#B6E880",
           "#FF97FF",
           "#FECB52"
          ],
          "font": {
           "color": "#2a3f5f"
          },
          "geo": {
           "bgcolor": "white",
           "lakecolor": "white",
           "landcolor": "#E5ECF6",
           "showlakes": true,
           "showland": true,
           "subunitcolor": "white"
          },
          "hoverlabel": {
           "align": "left"
          },
          "hovermode": "closest",
          "mapbox": {
           "style": "light"
          },
          "paper_bgcolor": "white",
          "plot_bgcolor": "#E5ECF6",
          "polar": {
           "angularaxis": {
            "gridcolor": "white",
            "linecolor": "white",
            "ticks": ""
           },
           "bgcolor": "#E5ECF6",
           "radialaxis": {
            "gridcolor": "white",
            "linecolor": "white",
            "ticks": ""
           }
          },
          "scene": {
           "xaxis": {
            "backgroundcolor": "#E5ECF6",
            "gridcolor": "white",
            "gridwidth": 2,
            "linecolor": "white",
            "showbackground": true,
            "ticks": "",
            "zerolinecolor": "white"
           },
           "yaxis": {
            "backgroundcolor": "#E5ECF6",
            "gridcolor": "white",
            "gridwidth": 2,
            "linecolor": "white",
            "showbackground": true,
            "ticks": "",
            "zerolinecolor": "white"
           },
           "zaxis": {
            "backgroundcolor": "#E5ECF6",
            "gridcolor": "white",
            "gridwidth": 2,
            "linecolor": "white",
            "showbackground": true,
            "ticks": "",
            "zerolinecolor": "white"
           }
          },
          "shapedefaults": {
           "line": {
            "color": "#2a3f5f"
           }
          },
          "ternary": {
           "aaxis": {
            "gridcolor": "white",
            "linecolor": "white",
            "ticks": ""
           },
           "baxis": {
            "gridcolor": "white",
            "linecolor": "white",
            "ticks": ""
           },
           "bgcolor": "#E5ECF6",
           "caxis": {
            "gridcolor": "white",
            "linecolor": "white",
            "ticks": ""
           }
          },
          "title": {
           "x": 0.05
          },
          "xaxis": {
           "automargin": true,
           "gridcolor": "white",
           "linecolor": "white",
           "ticks": "",
           "title": {
            "standoff": 15
           },
           "zerolinecolor": "white",
           "zerolinewidth": 2
          },
          "yaxis": {
           "automargin": true,
           "gridcolor": "white",
           "linecolor": "white",
           "ticks": "",
           "title": {
            "standoff": 15
           },
           "zerolinecolor": "white",
           "zerolinewidth": 2
          }
         }
        },
        "title": {
         "text": "Relative frequence - Headline lenght",
         "x": 0.5,
         "xanchor": "center",
         "y": 0.9,
         "yanchor": "top"
        },
        "width": 500,
        "xaxis": {
         "anchor": "y2",
         "domain": [
          0,
          1
         ],
         "title": {
          "text": "Length of a headline"
         },
         "zeroline": false
        },
        "yaxis": {
         "anchor": "free",
         "domain": [
          0,
          1
         ],
         "position": 0,
         "title": {
          "text": "probability"
         }
        }
       }
      },
      "text/html": [
       "<div>                            <div id=\"a62b138a-6464-46b9-ac92-57b36f2dcdea\" class=\"plotly-graph-div\" style=\"height:500px; width:500px;\"></div>            <script type=\"text/javascript\">                require([\"plotly\"], function(Plotly) {                    window.PLOTLYENV=window.PLOTLYENV || {};                                    if (document.getElementById(\"a62b138a-6464-46b9-ac92-57b36f2dcdea\")) {                    Plotly.newPlot(                        \"a62b138a-6464-46b9-ac92-57b36f2dcdea\",                        [{\"legendgroup\": \"ht\", \"marker\": {\"color\": \"rgb(31, 119, 180)\"}, \"mode\": \"lines\", \"name\": \"ht\", \"showlegend\": true, \"type\": \"scatter\", \"x\": [0.0, 0.64, 1.28, 1.92, 2.56, 3.2, 3.84, 4.48, 5.12, 5.76, 6.4, 7.04, 7.68, 8.32, 8.96, 9.6, 10.24, 10.88, 11.52, 12.16, 12.8, 13.44, 14.08, 14.72, 15.36, 16.0, 16.64, 17.28, 17.92, 18.56, 19.2, 19.84, 20.48, 21.12, 21.76, 22.4, 23.04, 23.68, 24.32, 24.96, 25.6, 26.24, 26.88, 27.52, 28.16, 28.8, 29.44, 30.08, 30.72, 31.36, 32.0, 32.64, 33.28, 33.92, 34.56, 35.2, 35.84, 36.48, 37.12, 37.76, 38.4, 39.04, 39.68, 40.32, 40.96, 41.6, 42.24, 42.88, 43.52, 44.16, 44.8, 45.44, 46.08, 46.72, 47.36, 48.0, 48.64, 49.28, 49.92, 50.56, 51.2, 51.84, 52.48, 53.12, 53.76, 54.4, 55.04, 55.68, 56.32, 56.96, 57.6, 58.24, 58.88, 59.52, 60.16, 60.8, 61.44, 62.08, 62.72, 63.36, 64.0, 64.64, 65.28, 65.92, 66.56, 67.2, 67.84, 68.48, 69.12, 69.76, 70.4, 71.04, 71.68, 72.32, 72.96, 73.6, 74.24, 74.88, 75.52, 76.16, 76.8, 77.44, 78.08, 78.72, 79.36, 80.0, 80.64, 81.28, 81.92, 82.56, 83.2, 83.84, 84.48, 85.12, 85.76, 86.4, 87.04, 87.68, 88.32, 88.96, 89.6, 90.24, 90.88, 91.52, 92.16, 92.8, 93.44, 94.08, 94.72, 95.36, 96.0, 96.64, 97.28, 97.92, 98.56, 99.2, 99.84, 100.48, 101.12, 101.76, 102.4, 103.04, 103.68, 104.32, 104.96, 105.6, 106.24, 106.88, 107.52, 108.16, 108.8, 109.44, 110.08, 110.72, 111.36, 112.0, 112.64, 113.28, 113.92, 114.56, 115.2, 115.84, 116.48, 117.12, 117.76, 118.4, 119.04, 119.68, 120.32, 120.96, 121.6, 122.24, 122.88, 123.52, 124.16, 124.8, 125.44, 126.08, 126.72, 127.36, 128.0, 128.64, 129.28, 129.92, 130.56, 131.2, 131.84, 132.48, 133.12, 133.76, 134.4, 135.04, 135.68, 136.32, 136.96, 137.6, 138.24, 138.88, 139.52, 140.16, 140.8, 141.44, 142.08, 142.72, 143.36, 144.0, 144.64, 145.28, 145.92, 146.56, 147.2, 147.84, 148.48, 149.12, 149.76, 150.4, 151.04, 151.68, 152.32, 152.96, 153.6, 154.24, 154.88, 155.52, 156.16, 156.8, 157.44, 158.08, 158.72, 159.36, 160.0, 160.64, 161.28, 161.92, 162.56, 163.2, 163.84, 164.48, 165.12, 165.76, 166.4, 167.04, 167.68, 168.32, 168.96, 169.6, 170.24, 170.88, 171.52, 172.16, 172.8, 173.44, 174.08, 174.72, 175.36, 176.0, 176.64, 177.28, 177.92, 178.56, 179.2, 179.84, 180.48, 181.12, 181.76, 182.4, 183.04, 183.68, 184.32, 184.96, 185.6, 186.24, 186.88, 187.52, 188.16, 188.8, 189.44, 190.08, 190.72, 191.36, 192.0, 192.64, 193.28, 193.92, 194.56, 195.2, 195.84, 196.48, 197.12, 197.76, 198.4, 199.04, 199.68, 200.32, 200.96, 201.6, 202.24, 202.88, 203.52, 204.16, 204.8, 205.44, 206.08, 206.72, 207.36, 208.0, 208.64, 209.28, 209.92, 210.56, 211.2, 211.84, 212.48, 213.12, 213.76, 214.4, 215.04, 215.68, 216.32, 216.96, 217.6, 218.24, 218.88, 219.52, 220.16, 220.8, 221.44, 222.08, 222.72, 223.36, 224.0, 224.64, 225.28, 225.92, 226.56, 227.2, 227.84, 228.48, 229.12, 229.76, 230.4, 231.04, 231.68, 232.32, 232.96, 233.6, 234.24, 234.88, 235.52, 236.16, 236.8, 237.44, 238.08, 238.72, 239.36, 240.0, 240.64, 241.28, 241.92, 242.56, 243.2, 243.84, 244.48, 245.12, 245.76, 246.4, 247.04, 247.68, 248.32, 248.96, 249.6, 250.24, 250.88, 251.52, 252.16, 252.8, 253.44, 254.08, 254.72, 255.36, 256.0, 256.64, 257.28, 257.92, 258.56, 259.2, 259.84, 260.48, 261.12, 261.76, 262.4, 263.04, 263.68, 264.32, 264.96, 265.6, 266.24, 266.88, 267.52, 268.16, 268.8, 269.44, 270.08, 270.72, 271.36, 272.0, 272.64, 273.28, 273.92, 274.56, 275.2, 275.84, 276.48, 277.12, 277.76, 278.4, 279.04, 279.68, 280.32, 280.96, 281.6, 282.24, 282.88, 283.52, 284.16, 284.8, 285.44, 286.08, 286.72, 287.36, 288.0, 288.64, 289.28, 289.92, 290.56, 291.2, 291.84, 292.48, 293.12, 293.76, 294.4, 295.04, 295.68, 296.32, 296.96, 297.6, 298.24, 298.88, 299.52, 300.16, 300.8, 301.44, 302.08, 302.72, 303.36, 304.0, 304.64, 305.28, 305.92, 306.56, 307.2, 307.84, 308.48, 309.12, 309.76, 310.4, 311.04, 311.68, 312.32, 312.96, 313.6, 314.24, 314.88, 315.52, 316.16, 316.8, 317.44, 318.08, 318.72, 319.36], \"xaxis\": \"x\", \"y\": [1.0107660047746817e-05, 1.3007370980204206e-05, 1.7960858083730814e-05, 2.6757616528279775e-05, 4.094275614088755e-05, 6.123251170565582e-05, 8.743065051086422e-05, 0.00011888347627101463, 0.0001551077871897089, 0.00019619338026827574, 0.0002429440177676681, 0.00029698606884380853, 0.00036085731509309215, 0.00043774028599278506, 0.0005306542819421369, 0.0006414966979719128, 0.0007705979670967688, 0.0009170286582167142, 0.001079175624699202, 0.0012548481021157501, 0.0014408326535106529, 0.0016328799171935798, 0.0018271312902230594, 0.002022312612717367, 0.002220430726887709, 0.002424661899138572, 0.002636002748785642, 0.002851676883502156, 0.0030666299396184117, 0.0032767913076783297, 0.00348175102841158, 0.0036853209446058867, 0.0038938897087853314, 0.004113676649945107, 0.004348444406859993, 0.004598603500979693, 0.004861503396319418, 0.005132376870780735, 0.005406084048473993, 0.005679833153621542, 0.005955466073011341, 0.006238747309919675, 0.006534984238688155, 0.006843965130325554, 0.00715846380239211, 0.007467835127378697, 0.007764235430627838, 0.008047100329909521, 0.00832278413414891, 0.008599765801178426, 0.008883160355337, 0.009172542531584104, 0.009463779784518133, 0.009752089438694983, 0.010033608465572854, 0.010305655674253544, 0.010567411318426112, 0.010821205626782626, 0.01107291598082502, 0.01133088523160649, 0.011604474141522504, 0.01190266722865181, 0.012231296035787683, 0.012588451282548574, 0.012961373751647435, 0.013329379218107616, 0.013673155749499582, 0.013984689414958519, 0.014270369435556398, 0.014544727112352177, 0.01481975011650807, 0.015097965232796993, 0.015373516675347613, 0.01563863815720958, 0.015889878161889463, 0.01613032147288222, 0.016367039225156806, 0.01660525804631616, 0.01684325965647424, 0.017073115700601372, 0.01728826872945851, 0.017491733355008185, 0.017696840229662048, 0.017919760116011457, 0.018171393505105403, 0.01845523784600572, 0.018769368441148144, 0.01910654770138584, 0.01945192660297921, 0.019784296408801614, 0.020084650252669246, 0.02034722682383862, 0.020583696720790853, 0.02081608719762343, 0.021063415035610746, 0.021331684228278424, 0.021612813505450936, 0.021889710525291987, 0.02214058920537068, 0.02233950744193038, 0.022456959281977492, 0.022465747651759554, 0.022351167959695085, 0.022117995884993146, 0.02178805142531678, 0.021389900540366602, 0.020947719753086395, 0.02047503779148477, 0.019975086654416538, 0.01944698261082607, 0.018894629730291365, 0.01833224223427953, 0.017780870549387318, 0.01725715391915313, 0.016763255200554297, 0.016286658399719718, 0.01580943518270313, 0.015318284423580152, 0.01480789834332585, 0.014278504634729992, 0.013733585792940475, 0.013180578340687522, 0.012631205747044245, 0.012097407344915144, 0.011584458901841926, 0.011087511330447969, 0.010595315452844534, 0.010098101055736166, 0.00959330987922653, 0.009086108761403968, 0.00858641251255854, 0.008105243311098437, 0.007651496090622576, 0.007229294625939216, 0.006836685653961516, 0.0064664668287125575, 0.006108944848916893, 0.005755483395143532, 0.00540150573611919, 0.005048001977744117, 0.00470113333494902, 0.00436993242464287, 0.004062602483445036, 0.0037828466514998617, 0.0035283136612993004, 0.00329233003928636, 0.0030677590624379487, 0.002850242324039887, 0.002638975299450956, 0.002435522575289124, 0.002242416853654302, 0.0020624736986816906, 0.0018983754268233884, 0.0017518096398398862, 0.0016223263217720095, 0.0015068839004451317, 0.0014007859076482277, 0.00129959480979278, 0.001200811676251699, 0.0011043853585261914, 0.0010120460661182742, 0.0009261438021992151, 0.0008486905613411934, 0.0007808549806770855, 0.0007227325003686558, 0.0006732251151625904, 0.0006301936082562459, 0.0005910795808917362, 0.0005537145679886022, 0.000516719442349268, 0.00047936270329202937, 0.0004414319566067437, 0.0004035331793078762, 0.00036736636257979696, 0.0003351931211365993, 0.0003085424964833342, 0.00028722007365055075, 0.0002695776858460015, 0.0002538090467609979, 0.00023906335410106468, 0.0002254322261860889, 0.0002130443398152758, 0.0002013577429138795, 0.0001894150993752602, 0.00017673286814240885, 0.00016384578357719385, 0.00015195926227655961, 0.00014206784642977112, 0.00013429435048788193, 0.00012788096914487937, 0.00012172939590397876, 0.00011506452879635833, 0.00010776980074287686, 0.00010021723685607115, 9.285386412143275e-05, 8.598040599955822e-05, 7.982760134035417e-05, 7.46304936520015e-05, 7.04885660906214e-05, 6.720877142656164e-05, 6.440575107635041e-05, 6.177200996424117e-05, 5.919674990324313e-05, 5.662746242164974e-05, 5.388439186989236e-05, 5.065024232060814e-05, 4.6640673370316396e-05, 4.18081942807726e-05, 3.643592775508836e-05, 3.106057081628459e-05, 2.6267084887296263e-05, 2.2477949831621506e-05, 1.9853827582040235e-05, 1.8330881905300973e-05, 1.773353991113117e-05, 1.7883317375793948e-05, 1.8646121074414272e-05, 1.988957237711453e-05, 2.1379896395992606e-05, 2.272478133901247e-05, 2.3465804981354787e-05, 2.3286234388192835e-05, 2.2157341164095833e-05, 2.0289609151947984e-05, 1.7959756709390917e-05, 1.540274273002772e-05, 1.284615189858262e-05, 1.0580125159680841e-05, 8.92970431292673e-06, 8.12574134910378e-06, 8.175048867096264e-06, 8.82057212152566e-06, 9.620218721449651e-06, 1.0118551355140597e-05, 1.0035953764500325e-05, 9.370902934973454e-06, 8.349771507550665e-06, 7.258579238127124e-06, 6.274323506526161e-06, 5.409197784393441e-06, 4.588669845303888e-06, 3.776005257536064e-06, 3.0267054023470583e-06, 2.4361457019763824e-06, 2.0509973482915437e-06, 1.8381647540950387e-06, 1.7288252829720564e-06, 1.6746454525685695e-06, 1.6574121178885247e-06, 1.6626168136007986e-06, 1.6670813988841118e-06, 1.6556600961381142e-06, 1.632043151537804e-06, 1.5982468551127346e-06, 1.529248307775005e-06, 1.38393258640599e-06, 1.1480289933573267e-06, 8.629449501384903e-07, 6.108338316969177e-07, 4.7271949680550825e-07, 4.932865939802874e-07, 6.659084458274975e-07, 9.345998420890587e-07, 1.2138804730880335e-06, 1.42764049081714e-06, 1.546614333186656e-06, 1.5901252135336258e-06, 1.5861475684053808e-06, 1.531072478749901e-06, 1.3947068312357077e-06, 1.1647710963097117e-06, 8.811196786054971e-07, 6.258277658564155e-07, 4.839869601213736e-07, 5.101791757266368e-07, 7.158975857378349e-07, 1.0725272147233053e-06, 1.5252130444518986e-06, 2.0156888581173734e-06, 2.500495834538547e-06, 2.9453336594190634e-06, 3.299115284442306e-06, 3.4810005597494817e-06, 3.4080404930391275e-06, 3.0496351737764243e-06, 2.463470672088745e-06, 1.7800627493893457e-06, 1.1455939786258219e-06, 6.645282174721454e-07, 3.7806901739416507e-07, 2.8076047798872077e-07, 3.476406319500668e-07, 5.433564070860561e-07, 8.103823670553592e-07, 1.0609697917973277e-06, 1.1987021657327358e-06, 1.164993490299825e-06, 9.734777035923765e-07, 6.998168709592029e-07, 4.3487465683796136e-07, 2.4086444663909836e-07, 1.4045096116211703e-07, 1.3459661874900454e-07, 2.230768032048965e-07, 4.0597841242241136e-07, 6.64785187507098e-07, 9.429055969268786e-07, 1.1528804470695108e-06, 1.2189633164289828e-06, 1.1287373739663988e-06, 9.507295167588728e-07, 7.989341965962766e-07, 7.669827018489251e-07, 8.7434609740043e-07, 1.0552939414242047e-06, 1.1963867347701324e-06, 1.2021207722202252e-06, 1.0484277181868946e-06, 7.883492782731866e-07, 5.100090624405386e-07, 2.8368448375212107e-07, 1.3564556588812866e-07, 5.5752138608507754e-08, 1.969678166156619e-08, 5.981420529802436e-09, 1.5613057838087797e-09, 3.503046740277753e-10, 6.755821339244827e-11, 1.1199138569432256e-11, 1.595751687658375e-12, 1.954430521461752e-13, 2.057545221328927e-14, 1.8618846468751856e-15, 1.4482061500667563e-16, 9.682447129193983e-18, 5.581736678244839e-19, 6.784946237569719e-20, 8.029824604772741e-19, 1.3690962149376073e-17, 2.0093938139129463e-16, 2.5349635913727764e-15, 2.7488600080942674e-14, 2.562168860221987e-13, 2.052754926163381e-12, 1.4136460570622016e-11, 8.367938855250929e-11, 4.257655700259521e-10, 1.862073452084785e-09, 6.999988178631601e-09, 2.2618928805501326e-08, 6.282333529784052e-08, 1.499837382744156e-07, 3.0778084476679993e-07, 5.42891734301102e-07, 8.231123166654538e-07, 1.072702270767263e-06, 1.2016376530331507e-06, 1.157023248768645e-06, 9.576016187614266e-07, 6.812427388128559e-07, 4.165749297794101e-07, 2.189568830452197e-07, 9.892323336700399e-08, 3.8416007979491473e-08, 1.2823317386547812e-08, 3.6792794846250322e-09, 9.074012955444594e-10, 1.9235799422031595e-10, 3.505058845068342e-11, 5.489775895900444e-12, 7.390743791283628e-13, 8.552555619546293e-14, 8.507028660299497e-15, 7.273343749301014e-16, 5.3452073850795754e-17, 3.3765192873033367e-18, 1.8333616334127975e-19, 8.556600807991884e-21, 3.432642953781494e-22, 1.1836688612829406e-23, 3.5083752752144613e-25, 8.938323924127782e-27, 1.9574035240108994e-28, 3.6845026320101746e-30, 5.96144587256631e-32, 8.290840645888648e-34, 9.911052106518401e-36, 1.0183924705651498e-37, 8.994661599608443e-40, 6.828553347698094e-42, 4.4560167358330346e-44, 2.499419470628084e-46, 1.2050517918978204e-48, 4.993976631190409e-51, 1.7789409299196564e-53, 5.446917256038808e-56, 1.4335546613411956e-58, 3.243037460319357e-61, 6.306144267786372e-64, 1.0540229509748466e-66, 1.5142949077743963e-69, 1.8700149778378505e-72, 1.984969951958159e-75, 1.8110774266339166e-78, 1.4203465703982478e-81, 9.57471520875386e-85, 5.547938422130418e-88, 2.76319559459869e-91, 1.183045717707901e-94, 2.7211998115477504e-95, 6.528817068394903e-92, 1.348584260056599e-88, 2.3943955774394558e-85, 3.654163250042531e-82, 4.79351640801769e-79, 5.404987821565777e-76, 5.2385301761949056e-73, 4.364137335405203e-70, 3.125083290468389e-67, 1.9235302179386134e-64, 1.0176786385581885e-61, 4.628033913165e-59, 1.8090752644951813e-56, 6.078423666985789e-54, 1.755494720030008e-51, 4.357950738518464e-49, 9.299066097841259e-47, 1.70557405674159e-44, 2.6889087035413178e-42, 3.643810316786875e-40, 4.244335383676245e-38, 4.2495002189119803e-36, 3.6571287203152846e-34, 2.705308928477005e-32, 1.7201555220501216e-30, 9.401405625891945e-29, 4.4166409669624786e-27, 1.783469271007041e-25, 6.190324193820835e-24, 1.8468659993094523e-22, 4.7362171576326994e-21, 1.0440037443122902e-19, 1.978093129565475e-18, 3.221555677518272e-17, 4.509815525581593e-16, 5.4265791515349246e-15, 5.6126470855301006e-14, 4.989804811341002e-13, 3.813059729720026e-12, 2.504597184278969e-11, 1.414087868424258e-10, 6.862607074677059e-10, 2.862701724458365e-09, 1.0264488071877744e-08, 3.163535540616125e-08, 8.380740051175148e-08, 1.9083861289231303e-07, 3.735290308784828e-07, 6.284296967746898e-07, 9.08789429703799e-07, 1.1296504071340325e-06, 1.2069772606215614e-06, 1.1084812254213418e-06, 8.750478946364266e-07, 5.937580838285635e-07, 3.463071637041571e-07, 1.7361515972657735e-07, 7.481489000376874e-08, 2.7711668048722295e-08, 8.82290337724667e-09, 2.4145411260507197e-09, 5.679785303042834e-10, 1.148427176135782e-10, 1.995948039707986e-11, 2.981736283426699e-12, 3.82880684594195e-13, 4.226023563508356e-14, 4.009355816042846e-15, 3.269578077806264e-16, 2.2922197664292958e-17, 1.4672865756899015e-18, 1.7247147854759386e-18, 2.7183375433698125e-17, 3.841082664924525e-16, 4.665828179805619e-15, 4.871673738889893e-14, 4.3722187087916087e-13, 3.3728714545820515e-12, 2.236515591994876e-11, 1.274730271731224e-10, 6.245092815006276e-10, 2.6298666272109403e-09, 9.51925102450105e-09, 2.9617340862668165e-08, 7.920700220773223e-08, 1.8207709612177224e-07, 3.597669703259932e-07, 6.110285293192393e-07, 8.920227204010335e-07, 1.1193465708436418e-06], \"yaxis\": \"y\"}],                        {\"barmode\": \"overlay\", \"height\": 500, \"hovermode\": \"closest\", \"legend\": {\"traceorder\": \"reversed\"}, \"showlegend\": false, \"template\": {\"data\": {\"bar\": [{\"error_x\": {\"color\": \"#2a3f5f\"}, \"error_y\": {\"color\": \"#2a3f5f\"}, \"marker\": {\"line\": {\"color\": \"#E5ECF6\", \"width\": 0.5}}, \"type\": \"bar\"}], \"barpolar\": [{\"marker\": {\"line\": {\"color\": \"#E5ECF6\", \"width\": 0.5}}, \"type\": \"barpolar\"}], \"carpet\": [{\"aaxis\": {\"endlinecolor\": \"#2a3f5f\", \"gridcolor\": \"white\", \"linecolor\": \"white\", \"minorgridcolor\": \"white\", \"startlinecolor\": \"#2a3f5f\"}, \"baxis\": {\"endlinecolor\": \"#2a3f5f\", \"gridcolor\": \"white\", \"linecolor\": \"white\", \"minorgridcolor\": \"white\", \"startlinecolor\": \"#2a3f5f\"}, \"type\": \"carpet\"}], \"choropleth\": [{\"colorbar\": {\"outlinewidth\": 0, \"ticks\": \"\"}, \"type\": \"choropleth\"}], \"contour\": [{\"colorbar\": {\"outlinewidth\": 0, \"ticks\": \"\"}, \"colorscale\": [[0.0, \"#0d0887\"], [0.1111111111111111, \"#46039f\"], [0.2222222222222222, \"#7201a8\"], [0.3333333333333333, \"#9c179e\"], [0.4444444444444444, \"#bd3786\"], [0.5555555555555556, \"#d8576b\"], [0.6666666666666666, \"#ed7953\"], [0.7777777777777778, \"#fb9f3a\"], [0.8888888888888888, \"#fdca26\"], [1.0, \"#f0f921\"]], \"type\": \"contour\"}], \"contourcarpet\": [{\"colorbar\": {\"outlinewidth\": 0, \"ticks\": \"\"}, \"type\": \"contourcarpet\"}], \"heatmap\": [{\"colorbar\": {\"outlinewidth\": 0, \"ticks\": \"\"}, \"colorscale\": [[0.0, \"#0d0887\"], [0.1111111111111111, \"#46039f\"], [0.2222222222222222, \"#7201a8\"], [0.3333333333333333, \"#9c179e\"], [0.4444444444444444, \"#bd3786\"], [0.5555555555555556, \"#d8576b\"], [0.6666666666666666, \"#ed7953\"], [0.7777777777777778, \"#fb9f3a\"], [0.8888888888888888, \"#fdca26\"], [1.0, \"#f0f921\"]], \"type\": \"heatmap\"}], \"heatmapgl\": [{\"colorbar\": {\"outlinewidth\": 0, \"ticks\": \"\"}, \"colorscale\": [[0.0, \"#0d0887\"], [0.1111111111111111, \"#46039f\"], [0.2222222222222222, \"#7201a8\"], [0.3333333333333333, \"#9c179e\"], [0.4444444444444444, \"#bd3786\"], [0.5555555555555556, \"#d8576b\"], [0.6666666666666666, \"#ed7953\"], [0.7777777777777778, \"#fb9f3a\"], [0.8888888888888888, \"#fdca26\"], [1.0, \"#f0f921\"]], \"type\": \"heatmapgl\"}], \"histogram\": [{\"marker\": {\"colorbar\": {\"outlinewidth\": 0, \"ticks\": \"\"}}, \"type\": \"histogram\"}], \"histogram2d\": [{\"colorbar\": {\"outlinewidth\": 0, \"ticks\": \"\"}, \"colorscale\": [[0.0, \"#0d0887\"], [0.1111111111111111, \"#46039f\"], [0.2222222222222222, \"#7201a8\"], [0.3333333333333333, \"#9c179e\"], [0.4444444444444444, \"#bd3786\"], [0.5555555555555556, \"#d8576b\"], [0.6666666666666666, \"#ed7953\"], [0.7777777777777778, \"#fb9f3a\"], [0.8888888888888888, \"#fdca26\"], [1.0, \"#f0f921\"]], \"type\": \"histogram2d\"}], \"histogram2dcontour\": [{\"colorbar\": {\"outlinewidth\": 0, \"ticks\": \"\"}, \"colorscale\": [[0.0, \"#0d0887\"], [0.1111111111111111, \"#46039f\"], [0.2222222222222222, \"#7201a8\"], [0.3333333333333333, \"#9c179e\"], [0.4444444444444444, \"#bd3786\"], [0.5555555555555556, \"#d8576b\"], [0.6666666666666666, \"#ed7953\"], [0.7777777777777778, \"#fb9f3a\"], [0.8888888888888888, \"#fdca26\"], [1.0, \"#f0f921\"]], \"type\": \"histogram2dcontour\"}], \"mesh3d\": [{\"colorbar\": {\"outlinewidth\": 0, \"ticks\": \"\"}, \"type\": \"mesh3d\"}], \"parcoords\": [{\"line\": {\"colorbar\": {\"outlinewidth\": 0, \"ticks\": \"\"}}, \"type\": \"parcoords\"}], \"pie\": [{\"automargin\": true, \"type\": \"pie\"}], \"scatter\": [{\"marker\": {\"colorbar\": {\"outlinewidth\": 0, \"ticks\": \"\"}}, \"type\": \"scatter\"}], \"scatter3d\": [{\"line\": {\"colorbar\": {\"outlinewidth\": 0, \"ticks\": \"\"}}, \"marker\": {\"colorbar\": {\"outlinewidth\": 0, \"ticks\": \"\"}}, \"type\": \"scatter3d\"}], \"scattercarpet\": [{\"marker\": {\"colorbar\": {\"outlinewidth\": 0, \"ticks\": \"\"}}, \"type\": \"scattercarpet\"}], \"scattergeo\": [{\"marker\": {\"colorbar\": {\"outlinewidth\": 0, \"ticks\": \"\"}}, \"type\": \"scattergeo\"}], \"scattergl\": [{\"marker\": {\"colorbar\": {\"outlinewidth\": 0, \"ticks\": \"\"}}, \"type\": \"scattergl\"}], \"scattermapbox\": [{\"marker\": {\"colorbar\": {\"outlinewidth\": 0, \"ticks\": \"\"}}, \"type\": \"scattermapbox\"}], \"scatterpolar\": [{\"marker\": {\"colorbar\": {\"outlinewidth\": 0, \"ticks\": \"\"}}, \"type\": \"scatterpolar\"}], \"scatterpolargl\": [{\"marker\": {\"colorbar\": {\"outlinewidth\": 0, \"ticks\": \"\"}}, \"type\": \"scatterpolargl\"}], \"scatterternary\": [{\"marker\": {\"colorbar\": {\"outlinewidth\": 0, \"ticks\": \"\"}}, \"type\": \"scatterternary\"}], \"surface\": [{\"colorbar\": {\"outlinewidth\": 0, \"ticks\": \"\"}, \"colorscale\": [[0.0, \"#0d0887\"], [0.1111111111111111, \"#46039f\"], [0.2222222222222222, \"#7201a8\"], [0.3333333333333333, \"#9c179e\"], [0.4444444444444444, \"#bd3786\"], [0.5555555555555556, \"#d8576b\"], [0.6666666666666666, \"#ed7953\"], [0.7777777777777778, \"#fb9f3a\"], [0.8888888888888888, \"#fdca26\"], [1.0, \"#f0f921\"]], \"type\": \"surface\"}], \"table\": [{\"cells\": {\"fill\": {\"color\": \"#EBF0F8\"}, \"line\": {\"color\": \"white\"}}, \"header\": {\"fill\": {\"color\": \"#C8D4E3\"}, \"line\": {\"color\": \"white\"}}, \"type\": \"table\"}]}, \"layout\": {\"annotationdefaults\": {\"arrowcolor\": \"#2a3f5f\", \"arrowhead\": 0, \"arrowwidth\": 1}, \"coloraxis\": {\"colorbar\": {\"outlinewidth\": 0, \"ticks\": \"\"}}, \"colorscale\": {\"diverging\": [[0, \"#8e0152\"], [0.1, \"#c51b7d\"], [0.2, \"#de77ae\"], [0.3, \"#f1b6da\"], [0.4, \"#fde0ef\"], [0.5, \"#f7f7f7\"], [0.6, \"#e6f5d0\"], [0.7, \"#b8e186\"], [0.8, \"#7fbc41\"], [0.9, \"#4d9221\"], [1, \"#276419\"]], \"sequential\": [[0.0, \"#0d0887\"], [0.1111111111111111, \"#46039f\"], [0.2222222222222222, \"#7201a8\"], [0.3333333333333333, \"#9c179e\"], [0.4444444444444444, \"#bd3786\"], [0.5555555555555556, \"#d8576b\"], [0.6666666666666666, \"#ed7953\"], [0.7777777777777778, \"#fb9f3a\"], [0.8888888888888888, \"#fdca26\"], [1.0, \"#f0f921\"]], \"sequentialminus\": [[0.0, \"#0d0887\"], [0.1111111111111111, \"#46039f\"], [0.2222222222222222, \"#7201a8\"], [0.3333333333333333, \"#9c179e\"], [0.4444444444444444, \"#bd3786\"], [0.5555555555555556, \"#d8576b\"], [0.6666666666666666, \"#ed7953\"], [0.7777777777777778, \"#fb9f3a\"], [0.8888888888888888, \"#fdca26\"], [1.0, \"#f0f921\"]]}, \"colorway\": [\"#636efa\", \"#EF553B\", \"#00cc96\", \"#ab63fa\", \"#FFA15A\", \"#19d3f3\", \"#FF6692\", \"#B6E880\", \"#FF97FF\", \"#FECB52\"], \"font\": {\"color\": \"#2a3f5f\"}, \"geo\": {\"bgcolor\": \"white\", \"lakecolor\": \"white\", \"landcolor\": \"#E5ECF6\", \"showlakes\": true, \"showland\": true, \"subunitcolor\": \"white\"}, \"hoverlabel\": {\"align\": \"left\"}, \"hovermode\": \"closest\", \"mapbox\": {\"style\": \"light\"}, \"paper_bgcolor\": \"white\", \"plot_bgcolor\": \"#E5ECF6\", \"polar\": {\"angularaxis\": {\"gridcolor\": \"white\", \"linecolor\": \"white\", \"ticks\": \"\"}, \"bgcolor\": \"#E5ECF6\", \"radialaxis\": {\"gridcolor\": \"white\", \"linecolor\": \"white\", \"ticks\": \"\"}}, \"scene\": {\"xaxis\": {\"backgroundcolor\": \"#E5ECF6\", \"gridcolor\": \"white\", \"gridwidth\": 2, \"linecolor\": \"white\", \"showbackground\": true, \"ticks\": \"\", \"zerolinecolor\": \"white\"}, \"yaxis\": {\"backgroundcolor\": \"#E5ECF6\", \"gridcolor\": \"white\", \"gridwidth\": 2, \"linecolor\": \"white\", \"showbackground\": true, \"ticks\": \"\", \"zerolinecolor\": \"white\"}, \"zaxis\": {\"backgroundcolor\": \"#E5ECF6\", \"gridcolor\": \"white\", \"gridwidth\": 2, \"linecolor\": \"white\", \"showbackground\": true, \"ticks\": \"\", \"zerolinecolor\": \"white\"}}, \"shapedefaults\": {\"line\": {\"color\": \"#2a3f5f\"}}, \"ternary\": {\"aaxis\": {\"gridcolor\": \"white\", \"linecolor\": \"white\", \"ticks\": \"\"}, \"baxis\": {\"gridcolor\": \"white\", \"linecolor\": \"white\", \"ticks\": \"\"}, \"bgcolor\": \"#E5ECF6\", \"caxis\": {\"gridcolor\": \"white\", \"linecolor\": \"white\", \"ticks\": \"\"}}, \"title\": {\"x\": 0.05}, \"xaxis\": {\"automargin\": true, \"gridcolor\": \"white\", \"linecolor\": \"white\", \"ticks\": \"\", \"title\": {\"standoff\": 15}, \"zerolinecolor\": \"white\", \"zerolinewidth\": 2}, \"yaxis\": {\"automargin\": true, \"gridcolor\": \"white\", \"linecolor\": \"white\", \"ticks\": \"\", \"title\": {\"standoff\": 15}, \"zerolinecolor\": \"white\", \"zerolinewidth\": 2}}}, \"title\": {\"text\": \"Relative frequence - Headline lenght\", \"x\": 0.5, \"xanchor\": \"center\", \"y\": 0.9, \"yanchor\": \"top\"}, \"width\": 500, \"xaxis\": {\"anchor\": \"y2\", \"domain\": [0.0, 1.0], \"title\": {\"text\": \"Length of a headline\"}, \"zeroline\": false}, \"yaxis\": {\"anchor\": \"free\", \"domain\": [0.0, 1], \"position\": 0.0, \"title\": {\"text\": \"probability\"}}},                        {\"responsive\": true}                    ).then(function(){\n",
       "                            \n",
       "var gd = document.getElementById('a62b138a-6464-46b9-ac92-57b36f2dcdea');\n",
       "var x = new MutationObserver(function (mutations, observer) {{\n",
       "        var display = window.getComputedStyle(gd).display;\n",
       "        if (!display || display === 'none') {{\n",
       "            console.log([gd, 'removed!']);\n",
       "            Plotly.purge(gd);\n",
       "            observer.disconnect();\n",
       "        }}\n",
       "}});\n",
       "\n",
       "// Listen for the removal of the full notebook cells\n",
       "var notebookContainer = gd.closest('#notebook-container');\n",
       "if (notebookContainer) {{\n",
       "    x.observe(notebookContainer, {childList: true});\n",
       "}}\n",
       "\n",
       "// Listen for the clearing of the current output cell\n",
       "var outputEl = gd.closest('.output');\n",
       "if (outputEl) {{\n",
       "    x.observe(outputEl, {childList: true});\n",
       "}}\n",
       "\n",
       "                        })                };                });            </script>        </div>"
      ]
     },
     "metadata": {},
     "output_type": "display_data"
    }
   ],
   "source": [
    "# Use plotly to see the distribution of categorical data\n",
    "fig = ff.create_distplot([news_category['headline'].str.len()], [\"ht\"], show_hist=False, show_rug=False)\n",
    "fig['layout'].update(title={'text':'Relative frequence - Headline lenght', 'y':0.9, 'x':0.5, 'xanchor': 'center','yanchor': 'top'}, xaxis_title=\"Length of a headline\",yaxis_title=\"probability\")\n",
    "fig.update_layout(showlegend = False, width=500,height=500)\n",
    "fig.show()"
   ]
  },
  {
   "cell_type": "markdown",
   "metadata": {},
   "source": [
    "Similarly, it is also possible to plot the lenght of the `short_description`."
   ]
  },
  {
   "cell_type": "code",
   "execution_count": 61,
   "metadata": {},
   "outputs": [
    {
     "data": {
      "application/vnd.plotly.v1+json": {
       "config": {
        "plotlyServerURL": "https://plot.ly"
       },
       "data": [
        {
         "legendgroup": "ht",
         "marker": {
          "color": "rgb(31, 119, 180)"
         },
         "mode": "lines",
         "name": "ht",
         "showlegend": true,
         "type": "scatter",
         "x": [
          0,
          2.944,
          5.888,
          8.832,
          11.776,
          14.72,
          17.664,
          20.608,
          23.552,
          26.496,
          29.44,
          32.384,
          35.328,
          38.272,
          41.216,
          44.16,
          47.104,
          50.048,
          52.992,
          55.936,
          58.88,
          61.824,
          64.768,
          67.712,
          70.656,
          73.6,
          76.544,
          79.488,
          82.432,
          85.376,
          88.32,
          91.264,
          94.208,
          97.152,
          100.096,
          103.04,
          105.984,
          108.928,
          111.872,
          114.816,
          117.76,
          120.704,
          123.648,
          126.592,
          129.536,
          132.48,
          135.424,
          138.368,
          141.312,
          144.256,
          147.2,
          150.144,
          153.088,
          156.032,
          158.976,
          161.92,
          164.864,
          167.808,
          170.752,
          173.696,
          176.64,
          179.584,
          182.528,
          185.472,
          188.416,
          191.36,
          194.304,
          197.248,
          200.192,
          203.136,
          206.08,
          209.024,
          211.968,
          214.912,
          217.856,
          220.8,
          223.744,
          226.688,
          229.632,
          232.576,
          235.52,
          238.464,
          241.408,
          244.352,
          247.296,
          250.24,
          253.184,
          256.128,
          259.072,
          262.016,
          264.96,
          267.904,
          270.848,
          273.792,
          276.736,
          279.68,
          282.624,
          285.568,
          288.512,
          291.456,
          294.4,
          297.344,
          300.288,
          303.232,
          306.176,
          309.12,
          312.064,
          315.008,
          317.952,
          320.896,
          323.84,
          326.784,
          329.728,
          332.672,
          335.616,
          338.56,
          341.504,
          344.448,
          347.392,
          350.336,
          353.28,
          356.224,
          359.168,
          362.112,
          365.056,
          368,
          370.944,
          373.888,
          376.832,
          379.776,
          382.72,
          385.664,
          388.608,
          391.552,
          394.496,
          397.44,
          400.384,
          403.328,
          406.272,
          409.216,
          412.16,
          415.104,
          418.048,
          420.992,
          423.936,
          426.88,
          429.824,
          432.768,
          435.712,
          438.656,
          441.6,
          444.544,
          447.488,
          450.432,
          453.376,
          456.32,
          459.264,
          462.208,
          465.152,
          468.096,
          471.04,
          473.984,
          476.928,
          479.872,
          482.816,
          485.76,
          488.704,
          491.648,
          494.592,
          497.536,
          500.48,
          503.424,
          506.368,
          509.312,
          512.256,
          515.2,
          518.144,
          521.088,
          524.032,
          526.976,
          529.92,
          532.864,
          535.808,
          538.752,
          541.696,
          544.64,
          547.584,
          550.528,
          553.472,
          556.416,
          559.36,
          562.304,
          565.248,
          568.192,
          571.136,
          574.08,
          577.024,
          579.968,
          582.912,
          585.856,
          588.8,
          591.744,
          594.688,
          597.632,
          600.576,
          603.52,
          606.464,
          609.408,
          612.352,
          615.296,
          618.24,
          621.184,
          624.128,
          627.072,
          630.016,
          632.96,
          635.904,
          638.848,
          641.792,
          644.736,
          647.68,
          650.624,
          653.568,
          656.512,
          659.456,
          662.4,
          665.344,
          668.288,
          671.232,
          674.176,
          677.12,
          680.064,
          683.008,
          685.952,
          688.896,
          691.84,
          694.784,
          697.728,
          700.672,
          703.616,
          706.56,
          709.504,
          712.448,
          715.392,
          718.336,
          721.28,
          724.224,
          727.168,
          730.112,
          733.056,
          736,
          738.944,
          741.888,
          744.832,
          747.776,
          750.72,
          753.664,
          756.608,
          759.552,
          762.496,
          765.44,
          768.384,
          771.328,
          774.272,
          777.216,
          780.16,
          783.104,
          786.048,
          788.992,
          791.936,
          794.88,
          797.824,
          800.768,
          803.712,
          806.656,
          809.6,
          812.544,
          815.488,
          818.432,
          821.376,
          824.32,
          827.264,
          830.208,
          833.152,
          836.096,
          839.04,
          841.984,
          844.928,
          847.872,
          850.816,
          853.76,
          856.704,
          859.648,
          862.592,
          865.536,
          868.48,
          871.424,
          874.368,
          877.312,
          880.256,
          883.2,
          886.144,
          889.088,
          892.032,
          894.976,
          897.92,
          900.864,
          903.808,
          906.752,
          909.696,
          912.64,
          915.584,
          918.528,
          921.472,
          924.416,
          927.36,
          930.304,
          933.248,
          936.192,
          939.136,
          942.08,
          945.024,
          947.968,
          950.912,
          953.856,
          956.8,
          959.744,
          962.688,
          965.632,
          968.576,
          971.52,
          974.464,
          977.408,
          980.352,
          983.296,
          986.24,
          989.184,
          992.128,
          995.072,
          998.016,
          1000.96,
          1003.904,
          1006.848,
          1009.792,
          1012.736,
          1015.68,
          1018.624,
          1021.568,
          1024.512,
          1027.456,
          1030.4,
          1033.344,
          1036.288,
          1039.232,
          1042.176,
          1045.12,
          1048.064,
          1051.008,
          1053.952,
          1056.896,
          1059.84,
          1062.784,
          1065.728,
          1068.672,
          1071.616,
          1074.56,
          1077.504,
          1080.448,
          1083.392,
          1086.336,
          1089.28,
          1092.224,
          1095.168,
          1098.112,
          1101.056,
          1104,
          1106.944,
          1109.888,
          1112.832,
          1115.776,
          1118.72,
          1121.664,
          1124.608,
          1127.552,
          1130.496,
          1133.44,
          1136.384,
          1139.328,
          1142.272,
          1145.216,
          1148.16,
          1151.104,
          1154.048,
          1156.992,
          1159.936,
          1162.88,
          1165.824,
          1168.768,
          1171.712,
          1174.656,
          1177.6,
          1180.544,
          1183.488,
          1186.432,
          1189.376,
          1192.32,
          1195.264,
          1198.208,
          1201.152,
          1204.096,
          1207.04,
          1209.984,
          1212.928,
          1215.872,
          1218.816,
          1221.76,
          1224.704,
          1227.648,
          1230.592,
          1233.536,
          1236.48,
          1239.424,
          1242.368,
          1245.312,
          1248.256,
          1251.2,
          1254.144,
          1257.088,
          1260.032,
          1262.976,
          1265.92,
          1268.864,
          1271.808,
          1274.752,
          1277.696,
          1280.64,
          1283.584,
          1286.528,
          1289.472,
          1292.416,
          1295.36,
          1298.304,
          1301.248,
          1304.192,
          1307.136,
          1310.08,
          1313.024,
          1315.968,
          1318.912,
          1321.856,
          1324.8,
          1327.744,
          1330.688,
          1333.632,
          1336.576,
          1339.52,
          1342.464,
          1345.408,
          1348.352,
          1351.296,
          1354.24,
          1357.184,
          1360.128,
          1363.072,
          1366.016,
          1368.96,
          1371.904,
          1374.848,
          1377.792,
          1380.736,
          1383.68,
          1386.624,
          1389.568,
          1392.512,
          1395.456,
          1398.4,
          1401.344,
          1404.288,
          1407.232,
          1410.176,
          1413.12,
          1416.064,
          1419.008,
          1421.952,
          1424.896,
          1427.84,
          1430.784,
          1433.728,
          1436.672,
          1439.616,
          1442.56,
          1445.504,
          1448.448,
          1451.392,
          1454.336,
          1457.28,
          1460.224,
          1463.168,
          1466.112,
          1469.056
         ],
         "xaxis": "x",
         "y": [
          0.005841882367263889,
          0.005597556697619404,
          0.004711940615489981,
          0.003642015725208539,
          0.002802789043149413,
          0.002370704101747307,
          0.0022970761890315113,
          0.0024372731512017926,
          0.002660953585685895,
          0.0028916116007396803,
          0.003097651291362126,
          0.003271548339316782,
          0.0034157745522195642,
          0.0035368294810901265,
          0.0036426334509194447,
          0.003740414249437476,
          0.003835318834548151,
          0.003930416610535495,
          0.0040273706773749415,
          0.004126361667543346,
          0.004224695624458254,
          0.004315025571763331,
          0.004385056105269833,
          0.004420133903525442,
          0.004408297576303503,
          0.0043454055915514355,
          0.0042374042691696555,
          0.00409821065346234,
          0.003944327423322164,
          0.0037893458540981897,
          0.003641179820826285,
          0.0035027384381021444,
          0.0033758380940297748,
          0.0032707552391226576,
          0.003227749495742803,
          0.003353894389631863,
          0.0038571205113393193,
          0.005021437690690654,
          0.007056206502569068,
          0.009838087628583018,
          0.01273315460882222,
          0.014751598692685134,
          0.015059929842516303,
          0.013501242279095289,
          0.010686898509230141,
          0.007589710788683778,
          0.0049996731984297375,
          0.003241489236613886,
          0.002240272960928379,
          0.00174847471198868,
          0.0015301140510029106,
          0.0014322834919796312,
          0.00137883351635839,
          0.001340260594477294,
          0.001308869204876064,
          0.0012849319173235648,
          0.0012705469637181643,
          0.0012672866298160629,
          0.0012753358444820993,
          0.0012933939834488695,
          0.0013192964798358479,
          0.001350882959387035,
          0.0013862239728937734,
          0.001423062726881775,
          0.0014584446883699263,
          0.0014893651325097348,
          0.0015139958813708424,
          0.0015323577331907059,
          0.0015459328622918537,
          0.0015566841355409476,
          0.00156620780680405,
          0.0015753543522387427,
          0.0015842427606495156,
          0.001592468384741061,
          0.001599352602255245,
          0.0016041541161980837,
          0.0016062238223800253,
          0.001605116389592575,
          0.0016006332187795337,
          0.0015927551536499963,
          0.001581567090398593,
          0.001567392390451668,
          0.0015510809681677886,
          0.001533937644029182,
          0.0015169056179489813,
          0.0014995272991953606,
          0.0014798800039825062,
          0.0014560085793341195,
          0.0014277665681253545,
          0.0013972644513699558,
          0.0013673305325876712,
          0.0013392257440178702,
          0.0013113380618010376,
          0.0012795609061790382,
          0.0012388967459187135,
          0.001185333569904378,
          0.0011171053770973694,
          0.00103494766890612,
          0.0009416905079983939,
          0.0008418292891939586,
          0.000741208001184431,
          0.000646307391250459,
          0.0005627931351537954,
          0.0004938576078637407,
          0.0004394068378965236,
          0.00039664126633845307,
          0.00036162197296151297,
          0.00033093077676060376,
          0.00030268302922173955,
          0.00027655004118032757,
          0.0002529409547513801,
          0.000232007618874414,
          0.00021323478340969646,
          0.00019579616047894795,
          0.00017914821932171532,
          0.00016326653379051016,
          0.00014845486294096888,
          0.00013506008143380406,
          0.0001233378832585949,
          0.00011344233136362403,
          0.00010542713368148495,
          9.921947770020711e-05,
          9.456771128915422e-05,
          9.096726994620116e-05,
          8.76336958326358e-05,
          8.36580722114842e-05,
          7.837255914897421e-05,
          7.169501991377996e-05,
          6.412959250444139e-05,
          5.6389837126272055e-05,
          4.899653486173888e-05,
          4.219225999545016e-05,
          3.611598864017012e-05,
          3.0925949425795035e-05,
          2.6737526666876745e-05,
          2.352396750496495e-05,
          2.1127288633059652e-05,
          1.9342917588025126e-05,
          1.7975122720116858e-05,
          1.6844219162117494e-05,
          1.5790636892628313e-05,
          1.469905919615193e-05,
          1.3525381832775615e-05,
          1.2299980272793267e-05,
          1.109724053032747e-05,
          9.989018195699835e-06,
          9.017972095776495e-06,
          8.209390760626799e-06,
          7.596458264689255e-06,
          7.2147716799918885e-06,
          7.057608947073791e-06,
          7.035971740618289e-06,
          6.9913979523470335e-06,
          6.759420438117913e-06,
          6.241908901564146e-06,
          5.455868888257761e-06,
          4.545659729062977e-06,
          3.742111158222785e-06,
          3.2616895655408866e-06,
          3.189692186250567e-06,
          3.431195356799459e-06,
          3.7761326341892587e-06,
          4.030618916893449e-06,
          4.110441844095841e-06,
          4.036069571141226e-06,
          3.8632673580819076e-06,
          3.6276986124185e-06,
          3.3438064324761063e-06,
          3.036954630560751e-06,
          2.7631731568570767e-06,
          2.5898972311620723e-06,
          2.550776546459599e-06,
          2.6170963445991485e-06,
          2.7180814366802702e-06,
          2.7941117497642785e-06,
          2.830044716465894e-06,
          2.8374863150171786e-06,
          2.812795708697557e-06,
          2.7211470504826892e-06,
          2.521229985567966e-06,
          2.2019102152744716e-06,
          1.8002820115896353e-06,
          1.3938687054671234e-06,
          1.072775159142108e-06,
          9.023487683173736e-07,
          8.957070440510889e-07,
          1.0145214154918187e-06,
          1.1950966974567106e-06,
          1.3771884163353438e-06,
          1.5192443927183651e-06,
          1.6043918671022196e-06,
          1.6462388331521607e-06,
          1.6876684935358221e-06,
          1.7773662638802934e-06,
          1.9290288378836734e-06,
          2.0983573768883064e-06,
          2.2105531595084405e-06,
          2.2222376202390015e-06,
          2.1550840968758535e-06,
          2.060252399907147e-06,
          1.9519436859874383e-06,
          1.789140548657458e-06,
          1.5295248729372165e-06,
          1.195498961262658e-06,
          8.822418214527032e-07,
          7.03914196080104e-07,
          7.287998969178585e-07,
          9.471261401201734e-07,
          1.2803185930855637e-06,
          1.6186855707003605e-06,
          1.8653139496490511e-06,
          1.96292887618794e-06,
          1.8973578384321765e-06,
          1.6925412306282163e-06,
          1.407469372854895e-06,
          1.1239264222157146e-06,
          9.151319604702677e-07,
          8.111108587200458e-07,
          7.87791707644742e-07,
          7.883262360494554e-07,
          7.615535067878956e-07,
          6.933746559671202e-07,
          6.110459123013332e-07,
          5.56978897272588e-07,
          5.526703523412686e-07,
          5.833080145341225e-07,
          6.144795672947571e-07,
          6.221274548096846e-07,
          6.07239961350358e-07,
          5.85624247678156e-07,
          5.678133654358908e-07,
          5.496491025651926e-07,
          5.19971944005928e-07,
          4.770449508896579e-07,
          4.413037041737106e-07,
          4.5482821985763907e-07,
          5.637049809491201e-07,
          7.895251237895463e-07,
          1.1069552926006859e-06,
          1.4459141197154484e-06,
          1.7236627828189131e-06,
          1.8892123897722954e-06,
          1.947107605893205e-06,
          1.9396607485385018e-06,
          1.9037490399591166e-06,
          1.8443183468193948e-06,
          1.7479679609804208e-06,
          1.6148289498491857e-06,
          1.4707147345653166e-06,
          1.3516446999745315e-06,
          1.284200105231231e-06,
          1.2784264053145083e-06,
          1.3266322345652418e-06,
          1.4010751887077509e-06,
          1.4599164671156868e-06,
          1.4694272498404823e-06,
          1.4286525386615007e-06,
          1.3729618937744729e-06,
          1.3521267205221025e-06,
          1.4048841469756968e-06,
          1.553464429214715e-06,
          1.814150875165617e-06,
          2.1950703163575494e-06,
          2.6662313615485743e-06,
          3.132047124359067e-06,
          3.4555549689418605e-06,
          3.536332149571823e-06,
          3.376130700812982e-06,
          3.0658102276863757e-06,
          2.7065912231342777e-06,
          2.34580515735836e-06,
          1.983148482217703e-06,
          1.6234450454723122e-06,
          1.310357710023779e-06,
          1.1069732073617255e-06,
          1.0477894932855226e-06,
          1.1130683266608425e-06,
          1.2508228129706692e-06,
          1.4215979263905774e-06,
          1.6191455032069048e-06,
          1.850432615396451e-06,
          2.1029716153376765e-06,
          2.3336937653926924e-06,
          2.4858963256521225e-06,
          2.5208528827433238e-06,
          2.4481874464541915e-06,
          2.336128783643366e-06,
          2.284341066075907e-06,
          2.3660692930715455e-06,
          2.5780597572116587e-06,
          2.8391069996207656e-06,
          3.0417586808760594e-06,
          3.1185405542746625e-06,
          3.0737705480409206e-06,
          2.9630778074670376e-06,
          2.8446595169963925e-06,
          2.7424417892872256e-06,
          2.644453757317694e-06,
          2.529546262340393e-06,
          2.3957571909465237e-06,
          2.2683355050682335e-06,
          2.187977123996707e-06,
          2.1942815670615586e-06,
          2.3132127145315533e-06,
          2.5480041316706064e-06,
          2.875178186267492e-06,
          3.2488919334730118e-06,
          3.6076935811967214e-06,
          3.876165937419798e-06,
          3.973168984283306e-06,
          3.848986351410237e-06,
          3.5420849875799107e-06,
          3.2013724987725118e-06,
          3.0278709211665035e-06,
          3.1585668970871468e-06,
          3.5739268157248812e-06,
          4.096958235888535e-06,
          4.483828898911061e-06,
          4.548542415955698e-06,
          4.251826285095846e-06,
          3.708253640279839e-06,
          3.1114760694367515e-06,
          2.6300042629599e-06,
          2.3453801009146578e-06,
          2.2604219057494994e-06,
          2.3384442801672607e-06,
          2.522940403155933e-06,
          2.7381419138221433e-06,
          2.9061317707447036e-06,
          2.985900901274759e-06,
          2.993700819823588e-06,
          2.9752517138688095e-06,
          2.9568098799090973e-06,
          2.9255472829112626e-06,
          2.8497949171275787e-06,
          2.704514997415882e-06,
          2.4755019419315385e-06,
          2.15512921186692e-06,
          1.7517237158960036e-06,
          1.305703330648065e-06,
          8.872857661119038e-07,
          5.699446883640125e-07,
          4.005061522625555e-07,
          3.8556548443883645e-07,
          4.941889797214202e-07,
          6.687819282493111e-07,
          8.425981248359425e-07,
          9.626657779927122e-07,
          1.0062077235223146e-06,
          9.777967257824946e-07,
          8.932221826823032e-07,
          7.708081488141119e-07,
          6.383170975738663e-07,
          5.389358924472758e-07,
          5.170450591622454e-07,
          5.880958486036007e-07,
          7.192103499203573e-07,
          8.438115338483625e-07,
          9.051498492439234e-07,
          8.935614249186337e-07,
          8.4308899526318e-07,
          7.924631341679793e-07,
          7.536384958786352e-07,
          7.201875606419184e-07,
          6.977906627125503e-07,
          7.122057135660497e-07,
          7.805571186454121e-07,
          8.800790917692939e-07,
          9.538967863667567e-07,
          9.50951920465147e-07,
          8.601828220771483e-07,
          7.102057017799858e-07,
          5.450548586271104e-07,
          4.0326702273872865e-07,
          3.097949027870171e-07,
          2.720886997313735e-07,
          2.7645312692848366e-07,
          2.926668007030088e-07,
          2.915806388550355e-07,
          2.6560175531477445e-07,
          2.3569835542697336e-07,
          2.389739136171235e-07,
          3.0555232206827407e-07,
          4.3871063759693733e-07,
          6.089947615745816e-07,
          7.674045056729755e-07,
          8.729131951198553e-07,
          9.165911122527978e-07,
          9.221454453081248e-07,
          9.205580421020885e-07,
          9.210627652185611e-07,
          9.060743919912287e-07,
          8.554354473698469e-07,
          7.758967002260932e-07,
          7.049020028569317e-07,
          6.821564072485901e-07,
          7.143748808613129e-07,
          7.654433883201504e-07,
          7.80223857475051e-07,
          7.213029613575919e-07,
          5.905845255155233e-07,
          4.23351495126226e-07,
          2.639193127310997e-07,
          1.4237874122022316e-07,
          6.619031838116787e-08,
          2.641876932989108e-08,
          9.024243785762534e-09,
          2.6309961519076697e-09,
          6.53250319084696e-10,
          1.3788358698025525e-10,
          2.4705811258996117e-11,
          3.753600107809429e-12,
          4.831383629460231e-13,
          5.264587004115432e-14,
          4.853845551145334e-15,
          3.7848367126757224e-16,
          2.495164988260584e-17,
          1.391380232092964e-18,
          9.270706464894217e-20,
          6.087143178471639e-19,
          1.1395998782164893e-17,
          1.8108000021556675e-16,
          2.432281507760578e-15,
          2.7624872479402968e-14,
          2.653861925821451e-13,
          2.157390718883006e-12,
          1.4848073794529152e-11,
          8.656917268693982e-11,
          4.2787430102661476e-10,
          1.7942644951152222e-09,
          6.38970735814777e-09,
          1.9344231986505484e-08,
          4.98407229877707e-08,
          1.0941654694377213e-07,
          2.049007675432826e-07,
          3.276602910433766e-07,
          4.478254486014663e-07,
          5.234530560099764e-07,
          5.234530560099764e-07,
          4.478254486014735e-07,
          3.2766029104338546e-07,
          2.0490076754329034e-07,
          1.0941654694377768e-07,
          4.98407229877795e-08,
          1.934423198664664e-08,
          6.389707360986313e-09,
          1.7942645437679133e-09,
          4.2787500527250054e-10,
          8.657777999364215e-11,
          1.4936898902927575e-11,
          2.9313706893688497e-12,
          5.95980238476215e-12,
          3.5402441494953034e-11,
          1.855540293825641e-10,
          8.217899012836781e-10,
          3.0731391231521895e-09,
          9.703518624708198e-09,
          2.587031862113477e-08,
          5.823711217951304e-08,
          1.1069384281658559e-07,
          1.7765319810998025e-07,
          2.4074131228254824e-07,
          2.7546643579239827e-07,
          2.661957504243329e-07,
          2.1746340832971257e-07,
          1.510806252464732e-07,
          9.234523655612813e-08,
          5.8414224532101506e-08,
          5.639625290590175e-08,
          8.663881682942309e-08,
          1.4303982391614844e-07,
          2.0975587958582434e-07,
          2.620351872239802e-07,
          2.7681258948347166e-07,
          2.4697218534956095e-07,
          1.8606057817495285e-07,
          1.1835574106406997e-07,
          6.35697242365488e-08,
          2.882948754594305e-08,
          1.1039490774376044e-08,
          3.5693297311080018e-09,
          9.74428115916036e-10,
          2.246148431297576e-10,
          4.371723347936882e-11,
          7.1845384137848315e-12,
          9.98417892985157e-13,
          1.3429061335711752e-13,
          1.832173758019821e-13,
          1.4236432873843626e-12,
          9.955573390503525e-12,
          5.882277451156462e-11,
          2.934628628992271e-10,
          1.236193148331266e-09,
          4.396884146527859e-09,
          1.3204720737602994e-08,
          3.348412289065226e-08,
          7.169256873961406e-08,
          1.2960891159155317e-07,
          1.9784318443983775e-07,
          2.549956852153591e-07
         ],
         "yaxis": "y"
        }
       ],
       "layout": {
        "barmode": "overlay",
        "height": 500,
        "hovermode": "closest",
        "legend": {
         "traceorder": "reversed"
        },
        "showlegend": false,
        "template": {
         "data": {
          "bar": [
           {
            "error_x": {
             "color": "#2a3f5f"
            },
            "error_y": {
             "color": "#2a3f5f"
            },
            "marker": {
             "line": {
              "color": "#E5ECF6",
              "width": 0.5
             }
            },
            "type": "bar"
           }
          ],
          "barpolar": [
           {
            "marker": {
             "line": {
              "color": "#E5ECF6",
              "width": 0.5
             }
            },
            "type": "barpolar"
           }
          ],
          "carpet": [
           {
            "aaxis": {
             "endlinecolor": "#2a3f5f",
             "gridcolor": "white",
             "linecolor": "white",
             "minorgridcolor": "white",
             "startlinecolor": "#2a3f5f"
            },
            "baxis": {
             "endlinecolor": "#2a3f5f",
             "gridcolor": "white",
             "linecolor": "white",
             "minorgridcolor": "white",
             "startlinecolor": "#2a3f5f"
            },
            "type": "carpet"
           }
          ],
          "choropleth": [
           {
            "colorbar": {
             "outlinewidth": 0,
             "ticks": ""
            },
            "type": "choropleth"
           }
          ],
          "contour": [
           {
            "colorbar": {
             "outlinewidth": 0,
             "ticks": ""
            },
            "colorscale": [
             [
              0,
              "#0d0887"
             ],
             [
              0.1111111111111111,
              "#46039f"
             ],
             [
              0.2222222222222222,
              "#7201a8"
             ],
             [
              0.3333333333333333,
              "#9c179e"
             ],
             [
              0.4444444444444444,
              "#bd3786"
             ],
             [
              0.5555555555555556,
              "#d8576b"
             ],
             [
              0.6666666666666666,
              "#ed7953"
             ],
             [
              0.7777777777777778,
              "#fb9f3a"
             ],
             [
              0.8888888888888888,
              "#fdca26"
             ],
             [
              1,
              "#f0f921"
             ]
            ],
            "type": "contour"
           }
          ],
          "contourcarpet": [
           {
            "colorbar": {
             "outlinewidth": 0,
             "ticks": ""
            },
            "type": "contourcarpet"
           }
          ],
          "heatmap": [
           {
            "colorbar": {
             "outlinewidth": 0,
             "ticks": ""
            },
            "colorscale": [
             [
              0,
              "#0d0887"
             ],
             [
              0.1111111111111111,
              "#46039f"
             ],
             [
              0.2222222222222222,
              "#7201a8"
             ],
             [
              0.3333333333333333,
              "#9c179e"
             ],
             [
              0.4444444444444444,
              "#bd3786"
             ],
             [
              0.5555555555555556,
              "#d8576b"
             ],
             [
              0.6666666666666666,
              "#ed7953"
             ],
             [
              0.7777777777777778,
              "#fb9f3a"
             ],
             [
              0.8888888888888888,
              "#fdca26"
             ],
             [
              1,
              "#f0f921"
             ]
            ],
            "type": "heatmap"
           }
          ],
          "heatmapgl": [
           {
            "colorbar": {
             "outlinewidth": 0,
             "ticks": ""
            },
            "colorscale": [
             [
              0,
              "#0d0887"
             ],
             [
              0.1111111111111111,
              "#46039f"
             ],
             [
              0.2222222222222222,
              "#7201a8"
             ],
             [
              0.3333333333333333,
              "#9c179e"
             ],
             [
              0.4444444444444444,
              "#bd3786"
             ],
             [
              0.5555555555555556,
              "#d8576b"
             ],
             [
              0.6666666666666666,
              "#ed7953"
             ],
             [
              0.7777777777777778,
              "#fb9f3a"
             ],
             [
              0.8888888888888888,
              "#fdca26"
             ],
             [
              1,
              "#f0f921"
             ]
            ],
            "type": "heatmapgl"
           }
          ],
          "histogram": [
           {
            "marker": {
             "colorbar": {
              "outlinewidth": 0,
              "ticks": ""
             }
            },
            "type": "histogram"
           }
          ],
          "histogram2d": [
           {
            "colorbar": {
             "outlinewidth": 0,
             "ticks": ""
            },
            "colorscale": [
             [
              0,
              "#0d0887"
             ],
             [
              0.1111111111111111,
              "#46039f"
             ],
             [
              0.2222222222222222,
              "#7201a8"
             ],
             [
              0.3333333333333333,
              "#9c179e"
             ],
             [
              0.4444444444444444,
              "#bd3786"
             ],
             [
              0.5555555555555556,
              "#d8576b"
             ],
             [
              0.6666666666666666,
              "#ed7953"
             ],
             [
              0.7777777777777778,
              "#fb9f3a"
             ],
             [
              0.8888888888888888,
              "#fdca26"
             ],
             [
              1,
              "#f0f921"
             ]
            ],
            "type": "histogram2d"
           }
          ],
          "histogram2dcontour": [
           {
            "colorbar": {
             "outlinewidth": 0,
             "ticks": ""
            },
            "colorscale": [
             [
              0,
              "#0d0887"
             ],
             [
              0.1111111111111111,
              "#46039f"
             ],
             [
              0.2222222222222222,
              "#7201a8"
             ],
             [
              0.3333333333333333,
              "#9c179e"
             ],
             [
              0.4444444444444444,
              "#bd3786"
             ],
             [
              0.5555555555555556,
              "#d8576b"
             ],
             [
              0.6666666666666666,
              "#ed7953"
             ],
             [
              0.7777777777777778,
              "#fb9f3a"
             ],
             [
              0.8888888888888888,
              "#fdca26"
             ],
             [
              1,
              "#f0f921"
             ]
            ],
            "type": "histogram2dcontour"
           }
          ],
          "mesh3d": [
           {
            "colorbar": {
             "outlinewidth": 0,
             "ticks": ""
            },
            "type": "mesh3d"
           }
          ],
          "parcoords": [
           {
            "line": {
             "colorbar": {
              "outlinewidth": 0,
              "ticks": ""
             }
            },
            "type": "parcoords"
           }
          ],
          "pie": [
           {
            "automargin": true,
            "type": "pie"
           }
          ],
          "scatter": [
           {
            "marker": {
             "colorbar": {
              "outlinewidth": 0,
              "ticks": ""
             }
            },
            "type": "scatter"
           }
          ],
          "scatter3d": [
           {
            "line": {
             "colorbar": {
              "outlinewidth": 0,
              "ticks": ""
             }
            },
            "marker": {
             "colorbar": {
              "outlinewidth": 0,
              "ticks": ""
             }
            },
            "type": "scatter3d"
           }
          ],
          "scattercarpet": [
           {
            "marker": {
             "colorbar": {
              "outlinewidth": 0,
              "ticks": ""
             }
            },
            "type": "scattercarpet"
           }
          ],
          "scattergeo": [
           {
            "marker": {
             "colorbar": {
              "outlinewidth": 0,
              "ticks": ""
             }
            },
            "type": "scattergeo"
           }
          ],
          "scattergl": [
           {
            "marker": {
             "colorbar": {
              "outlinewidth": 0,
              "ticks": ""
             }
            },
            "type": "scattergl"
           }
          ],
          "scattermapbox": [
           {
            "marker": {
             "colorbar": {
              "outlinewidth": 0,
              "ticks": ""
             }
            },
            "type": "scattermapbox"
           }
          ],
          "scatterpolar": [
           {
            "marker": {
             "colorbar": {
              "outlinewidth": 0,
              "ticks": ""
             }
            },
            "type": "scatterpolar"
           }
          ],
          "scatterpolargl": [
           {
            "marker": {
             "colorbar": {
              "outlinewidth": 0,
              "ticks": ""
             }
            },
            "type": "scatterpolargl"
           }
          ],
          "scatterternary": [
           {
            "marker": {
             "colorbar": {
              "outlinewidth": 0,
              "ticks": ""
             }
            },
            "type": "scatterternary"
           }
          ],
          "surface": [
           {
            "colorbar": {
             "outlinewidth": 0,
             "ticks": ""
            },
            "colorscale": [
             [
              0,
              "#0d0887"
             ],
             [
              0.1111111111111111,
              "#46039f"
             ],
             [
              0.2222222222222222,
              "#7201a8"
             ],
             [
              0.3333333333333333,
              "#9c179e"
             ],
             [
              0.4444444444444444,
              "#bd3786"
             ],
             [
              0.5555555555555556,
              "#d8576b"
             ],
             [
              0.6666666666666666,
              "#ed7953"
             ],
             [
              0.7777777777777778,
              "#fb9f3a"
             ],
             [
              0.8888888888888888,
              "#fdca26"
             ],
             [
              1,
              "#f0f921"
             ]
            ],
            "type": "surface"
           }
          ],
          "table": [
           {
            "cells": {
             "fill": {
              "color": "#EBF0F8"
             },
             "line": {
              "color": "white"
             }
            },
            "header": {
             "fill": {
              "color": "#C8D4E3"
             },
             "line": {
              "color": "white"
             }
            },
            "type": "table"
           }
          ]
         },
         "layout": {
          "annotationdefaults": {
           "arrowcolor": "#2a3f5f",
           "arrowhead": 0,
           "arrowwidth": 1
          },
          "coloraxis": {
           "colorbar": {
            "outlinewidth": 0,
            "ticks": ""
           }
          },
          "colorscale": {
           "diverging": [
            [
             0,
             "#8e0152"
            ],
            [
             0.1,
             "#c51b7d"
            ],
            [
             0.2,
             "#de77ae"
            ],
            [
             0.3,
             "#f1b6da"
            ],
            [
             0.4,
             "#fde0ef"
            ],
            [
             0.5,
             "#f7f7f7"
            ],
            [
             0.6,
             "#e6f5d0"
            ],
            [
             0.7,
             "#b8e186"
            ],
            [
             0.8,
             "#7fbc41"
            ],
            [
             0.9,
             "#4d9221"
            ],
            [
             1,
             "#276419"
            ]
           ],
           "sequential": [
            [
             0,
             "#0d0887"
            ],
            [
             0.1111111111111111,
             "#46039f"
            ],
            [
             0.2222222222222222,
             "#7201a8"
            ],
            [
             0.3333333333333333,
             "#9c179e"
            ],
            [
             0.4444444444444444,
             "#bd3786"
            ],
            [
             0.5555555555555556,
             "#d8576b"
            ],
            [
             0.6666666666666666,
             "#ed7953"
            ],
            [
             0.7777777777777778,
             "#fb9f3a"
            ],
            [
             0.8888888888888888,
             "#fdca26"
            ],
            [
             1,
             "#f0f921"
            ]
           ],
           "sequentialminus": [
            [
             0,
             "#0d0887"
            ],
            [
             0.1111111111111111,
             "#46039f"
            ],
            [
             0.2222222222222222,
             "#7201a8"
            ],
            [
             0.3333333333333333,
             "#9c179e"
            ],
            [
             0.4444444444444444,
             "#bd3786"
            ],
            [
             0.5555555555555556,
             "#d8576b"
            ],
            [
             0.6666666666666666,
             "#ed7953"
            ],
            [
             0.7777777777777778,
             "#fb9f3a"
            ],
            [
             0.8888888888888888,
             "#fdca26"
            ],
            [
             1,
             "#f0f921"
            ]
           ]
          },
          "colorway": [
           "#636efa",
           "#EF553B",
           "#00cc96",
           "#ab63fa",
           "#FFA15A",
           "#19d3f3",
           "#FF6692",
           "#B6E880",
           "#FF97FF",
           "#FECB52"
          ],
          "font": {
           "color": "#2a3f5f"
          },
          "geo": {
           "bgcolor": "white",
           "lakecolor": "white",
           "landcolor": "#E5ECF6",
           "showlakes": true,
           "showland": true,
           "subunitcolor": "white"
          },
          "hoverlabel": {
           "align": "left"
          },
          "hovermode": "closest",
          "mapbox": {
           "style": "light"
          },
          "paper_bgcolor": "white",
          "plot_bgcolor": "#E5ECF6",
          "polar": {
           "angularaxis": {
            "gridcolor": "white",
            "linecolor": "white",
            "ticks": ""
           },
           "bgcolor": "#E5ECF6",
           "radialaxis": {
            "gridcolor": "white",
            "linecolor": "white",
            "ticks": ""
           }
          },
          "scene": {
           "xaxis": {
            "backgroundcolor": "#E5ECF6",
            "gridcolor": "white",
            "gridwidth": 2,
            "linecolor": "white",
            "showbackground": true,
            "ticks": "",
            "zerolinecolor": "white"
           },
           "yaxis": {
            "backgroundcolor": "#E5ECF6",
            "gridcolor": "white",
            "gridwidth": 2,
            "linecolor": "white",
            "showbackground": true,
            "ticks": "",
            "zerolinecolor": "white"
           },
           "zaxis": {
            "backgroundcolor": "#E5ECF6",
            "gridcolor": "white",
            "gridwidth": 2,
            "linecolor": "white",
            "showbackground": true,
            "ticks": "",
            "zerolinecolor": "white"
           }
          },
          "shapedefaults": {
           "line": {
            "color": "#2a3f5f"
           }
          },
          "ternary": {
           "aaxis": {
            "gridcolor": "white",
            "linecolor": "white",
            "ticks": ""
           },
           "baxis": {
            "gridcolor": "white",
            "linecolor": "white",
            "ticks": ""
           },
           "bgcolor": "#E5ECF6",
           "caxis": {
            "gridcolor": "white",
            "linecolor": "white",
            "ticks": ""
           }
          },
          "title": {
           "x": 0.05
          },
          "xaxis": {
           "automargin": true,
           "gridcolor": "white",
           "linecolor": "white",
           "ticks": "",
           "title": {
            "standoff": 15
           },
           "zerolinecolor": "white",
           "zerolinewidth": 2
          },
          "yaxis": {
           "automargin": true,
           "gridcolor": "white",
           "linecolor": "white",
           "ticks": "",
           "title": {
            "standoff": 15
           },
           "zerolinecolor": "white",
           "zerolinewidth": 2
          }
         }
        },
        "title": {
         "text": "Relative frequence - Description lenght",
         "x": 0.5,
         "xanchor": "center",
         "y": 0.9,
         "yanchor": "top"
        },
        "width": 500,
        "xaxis": {
         "anchor": "y2",
         "domain": [
          0,
          1
         ],
         "title": {
          "text": "Length of Description"
         },
         "zeroline": false
        },
        "yaxis": {
         "anchor": "free",
         "domain": [
          0,
          1
         ],
         "position": 0,
         "title": {
          "text": "probability"
         }
        }
       }
      },
      "text/html": [
       "<div>                            <div id=\"3ae1c74c-0323-4c68-af33-ce1306324995\" class=\"plotly-graph-div\" style=\"height:500px; width:500px;\"></div>            <script type=\"text/javascript\">                require([\"plotly\"], function(Plotly) {                    window.PLOTLYENV=window.PLOTLYENV || {};                                    if (document.getElementById(\"3ae1c74c-0323-4c68-af33-ce1306324995\")) {                    Plotly.newPlot(                        \"3ae1c74c-0323-4c68-af33-ce1306324995\",                        [{\"legendgroup\": \"ht\", \"marker\": {\"color\": \"rgb(31, 119, 180)\"}, \"mode\": \"lines\", \"name\": \"ht\", \"showlegend\": true, \"type\": \"scatter\", \"x\": [0.0, 2.944, 5.888, 8.832, 11.776, 14.72, 17.664, 20.608, 23.552, 26.496, 29.44, 32.384, 35.328, 38.272, 41.216, 44.16, 47.104, 50.048, 52.992, 55.936, 58.88, 61.824, 64.768, 67.712, 70.656, 73.6, 76.544, 79.488, 82.432, 85.376, 88.32, 91.264, 94.208, 97.152, 100.096, 103.04, 105.984, 108.928, 111.872, 114.816, 117.76, 120.704, 123.648, 126.592, 129.536, 132.48, 135.424, 138.368, 141.312, 144.256, 147.2, 150.144, 153.088, 156.032, 158.976, 161.92, 164.864, 167.808, 170.752, 173.696, 176.64, 179.584, 182.528, 185.472, 188.416, 191.36, 194.304, 197.248, 200.192, 203.136, 206.08, 209.024, 211.968, 214.912, 217.856, 220.8, 223.744, 226.688, 229.632, 232.576, 235.52, 238.464, 241.408, 244.352, 247.296, 250.24, 253.184, 256.128, 259.072, 262.016, 264.96, 267.904, 270.848, 273.792, 276.736, 279.68, 282.624, 285.568, 288.512, 291.456, 294.4, 297.344, 300.288, 303.232, 306.176, 309.12, 312.064, 315.008, 317.952, 320.896, 323.84, 326.784, 329.728, 332.672, 335.616, 338.56, 341.504, 344.448, 347.392, 350.336, 353.28, 356.224, 359.168, 362.112, 365.056, 368.0, 370.944, 373.888, 376.832, 379.776, 382.72, 385.664, 388.608, 391.552, 394.496, 397.44, 400.384, 403.328, 406.272, 409.216, 412.16, 415.104, 418.048, 420.992, 423.936, 426.88, 429.824, 432.768, 435.712, 438.656, 441.6, 444.544, 447.488, 450.432, 453.376, 456.32, 459.264, 462.208, 465.152, 468.096, 471.04, 473.984, 476.928, 479.872, 482.816, 485.76, 488.704, 491.648, 494.592, 497.536, 500.48, 503.424, 506.368, 509.312, 512.256, 515.2, 518.144, 521.088, 524.032, 526.976, 529.92, 532.864, 535.808, 538.752, 541.696, 544.64, 547.584, 550.528, 553.472, 556.416, 559.36, 562.304, 565.248, 568.192, 571.136, 574.08, 577.024, 579.968, 582.912, 585.856, 588.8, 591.744, 594.688, 597.632, 600.576, 603.52, 606.464, 609.408, 612.352, 615.296, 618.24, 621.184, 624.128, 627.072, 630.016, 632.96, 635.904, 638.848, 641.792, 644.736, 647.68, 650.624, 653.568, 656.512, 659.456, 662.4, 665.344, 668.288, 671.232, 674.176, 677.12, 680.064, 683.008, 685.952, 688.896, 691.84, 694.784, 697.728, 700.672, 703.616, 706.56, 709.504, 712.448, 715.392, 718.336, 721.28, 724.224, 727.168, 730.112, 733.056, 736.0, 738.944, 741.888, 744.832, 747.776, 750.72, 753.664, 756.608, 759.552, 762.496, 765.44, 768.384, 771.328, 774.272, 777.216, 780.16, 783.104, 786.048, 788.992, 791.936, 794.88, 797.824, 800.768, 803.712, 806.656, 809.6, 812.544, 815.488, 818.432, 821.376, 824.32, 827.264, 830.208, 833.152, 836.096, 839.04, 841.984, 844.928, 847.872, 850.816, 853.76, 856.704, 859.648, 862.592, 865.536, 868.48, 871.424, 874.368, 877.312, 880.256, 883.2, 886.144, 889.088, 892.032, 894.976, 897.92, 900.864, 903.808, 906.752, 909.696, 912.64, 915.584, 918.528, 921.472, 924.416, 927.36, 930.304, 933.248, 936.192, 939.136, 942.08, 945.024, 947.968, 950.912, 953.856, 956.8, 959.744, 962.688, 965.632, 968.576, 971.52, 974.464, 977.408, 980.352, 983.296, 986.24, 989.184, 992.128, 995.072, 998.016, 1000.96, 1003.904, 1006.848, 1009.792, 1012.736, 1015.68, 1018.624, 1021.568, 1024.512, 1027.456, 1030.4, 1033.344, 1036.288, 1039.232, 1042.176, 1045.12, 1048.064, 1051.008, 1053.952, 1056.896, 1059.84, 1062.784, 1065.728, 1068.672, 1071.616, 1074.56, 1077.504, 1080.448, 1083.392, 1086.336, 1089.28, 1092.224, 1095.168, 1098.112, 1101.056, 1104.0, 1106.944, 1109.888, 1112.832, 1115.776, 1118.72, 1121.664, 1124.608, 1127.552, 1130.496, 1133.44, 1136.384, 1139.328, 1142.272, 1145.216, 1148.16, 1151.104, 1154.048, 1156.992, 1159.936, 1162.88, 1165.824, 1168.768, 1171.712, 1174.656, 1177.6, 1180.544, 1183.488, 1186.432, 1189.376, 1192.32, 1195.264, 1198.208, 1201.152, 1204.096, 1207.04, 1209.984, 1212.928, 1215.872, 1218.816, 1221.76, 1224.704, 1227.648, 1230.592, 1233.536, 1236.48, 1239.424, 1242.368, 1245.312, 1248.256, 1251.2, 1254.144, 1257.088, 1260.032, 1262.976, 1265.92, 1268.864, 1271.808, 1274.752, 1277.696, 1280.64, 1283.584, 1286.528, 1289.472, 1292.416, 1295.36, 1298.304, 1301.248, 1304.192, 1307.136, 1310.08, 1313.024, 1315.968, 1318.912, 1321.856, 1324.8, 1327.744, 1330.688, 1333.632, 1336.576, 1339.52, 1342.464, 1345.408, 1348.352, 1351.296, 1354.24, 1357.184, 1360.128, 1363.072, 1366.016, 1368.96, 1371.904, 1374.848, 1377.792, 1380.736, 1383.68, 1386.624, 1389.568, 1392.512, 1395.456, 1398.4, 1401.344, 1404.288, 1407.232, 1410.176, 1413.12, 1416.064, 1419.008, 1421.952, 1424.896, 1427.84, 1430.784, 1433.728, 1436.672, 1439.616, 1442.56, 1445.504, 1448.448, 1451.392, 1454.336, 1457.28, 1460.224, 1463.168, 1466.112, 1469.056], \"xaxis\": \"x\", \"y\": [0.005841882367263889, 0.005597556697619404, 0.004711940615489981, 0.003642015725208539, 0.002802789043149413, 0.002370704101747307, 0.0022970761890315113, 0.0024372731512017926, 0.002660953585685895, 0.0028916116007396803, 0.003097651291362126, 0.003271548339316782, 0.0034157745522195642, 0.0035368294810901265, 0.0036426334509194447, 0.003740414249437476, 0.003835318834548151, 0.003930416610535495, 0.0040273706773749415, 0.004126361667543346, 0.004224695624458254, 0.004315025571763331, 0.004385056105269833, 0.004420133903525442, 0.004408297576303503, 0.0043454055915514355, 0.0042374042691696555, 0.00409821065346234, 0.003944327423322164, 0.0037893458540981897, 0.003641179820826285, 0.0035027384381021444, 0.0033758380940297748, 0.0032707552391226576, 0.003227749495742803, 0.003353894389631863, 0.0038571205113393193, 0.005021437690690654, 0.007056206502569068, 0.009838087628583018, 0.01273315460882222, 0.014751598692685134, 0.015059929842516303, 0.013501242279095289, 0.010686898509230141, 0.007589710788683778, 0.0049996731984297375, 0.003241489236613886, 0.002240272960928379, 0.00174847471198868, 0.0015301140510029106, 0.0014322834919796312, 0.00137883351635839, 0.001340260594477294, 0.001308869204876064, 0.0012849319173235648, 0.0012705469637181643, 0.0012672866298160629, 0.0012753358444820993, 0.0012933939834488695, 0.0013192964798358479, 0.001350882959387035, 0.0013862239728937734, 0.001423062726881775, 0.0014584446883699263, 0.0014893651325097348, 0.0015139958813708424, 0.0015323577331907059, 0.0015459328622918537, 0.0015566841355409476, 0.00156620780680405, 0.0015753543522387427, 0.0015842427606495156, 0.001592468384741061, 0.001599352602255245, 0.0016041541161980837, 0.0016062238223800253, 0.001605116389592575, 0.0016006332187795337, 0.0015927551536499963, 0.001581567090398593, 0.001567392390451668, 0.0015510809681677886, 0.001533937644029182, 0.0015169056179489813, 0.0014995272991953606, 0.0014798800039825062, 0.0014560085793341195, 0.0014277665681253545, 0.0013972644513699558, 0.0013673305325876712, 0.0013392257440178702, 0.0013113380618010376, 0.0012795609061790382, 0.0012388967459187135, 0.001185333569904378, 0.0011171053770973694, 0.00103494766890612, 0.0009416905079983939, 0.0008418292891939586, 0.000741208001184431, 0.000646307391250459, 0.0005627931351537954, 0.0004938576078637407, 0.0004394068378965236, 0.00039664126633845307, 0.00036162197296151297, 0.00033093077676060376, 0.00030268302922173955, 0.00027655004118032757, 0.0002529409547513801, 0.000232007618874414, 0.00021323478340969646, 0.00019579616047894795, 0.00017914821932171532, 0.00016326653379051016, 0.00014845486294096888, 0.00013506008143380406, 0.0001233378832585949, 0.00011344233136362403, 0.00010542713368148495, 9.921947770020711e-05, 9.456771128915422e-05, 9.096726994620116e-05, 8.76336958326358e-05, 8.36580722114842e-05, 7.837255914897421e-05, 7.169501991377996e-05, 6.412959250444139e-05, 5.6389837126272055e-05, 4.899653486173888e-05, 4.219225999545016e-05, 3.611598864017012e-05, 3.0925949425795035e-05, 2.6737526666876745e-05, 2.352396750496495e-05, 2.1127288633059652e-05, 1.9342917588025126e-05, 1.7975122720116858e-05, 1.6844219162117494e-05, 1.5790636892628313e-05, 1.469905919615193e-05, 1.3525381832775615e-05, 1.2299980272793267e-05, 1.109724053032747e-05, 9.989018195699835e-06, 9.017972095776495e-06, 8.209390760626799e-06, 7.596458264689255e-06, 7.2147716799918885e-06, 7.057608947073791e-06, 7.035971740618289e-06, 6.9913979523470335e-06, 6.759420438117913e-06, 6.241908901564146e-06, 5.455868888257761e-06, 4.545659729062977e-06, 3.742111158222785e-06, 3.2616895655408866e-06, 3.189692186250567e-06, 3.431195356799459e-06, 3.7761326341892587e-06, 4.030618916893449e-06, 4.110441844095841e-06, 4.036069571141226e-06, 3.8632673580819076e-06, 3.6276986124185e-06, 3.3438064324761063e-06, 3.036954630560751e-06, 2.7631731568570767e-06, 2.5898972311620723e-06, 2.550776546459599e-06, 2.6170963445991485e-06, 2.7180814366802702e-06, 2.7941117497642785e-06, 2.830044716465894e-06, 2.8374863150171786e-06, 2.812795708697557e-06, 2.7211470504826892e-06, 2.521229985567966e-06, 2.2019102152744716e-06, 1.8002820115896353e-06, 1.3938687054671234e-06, 1.072775159142108e-06, 9.023487683173736e-07, 8.957070440510889e-07, 1.0145214154918187e-06, 1.1950966974567106e-06, 1.3771884163353438e-06, 1.5192443927183651e-06, 1.6043918671022196e-06, 1.6462388331521607e-06, 1.6876684935358221e-06, 1.7773662638802934e-06, 1.9290288378836734e-06, 2.0983573768883064e-06, 2.2105531595084405e-06, 2.2222376202390015e-06, 2.1550840968758535e-06, 2.060252399907147e-06, 1.9519436859874383e-06, 1.789140548657458e-06, 1.5295248729372165e-06, 1.195498961262658e-06, 8.822418214527032e-07, 7.03914196080104e-07, 7.287998969178585e-07, 9.471261401201734e-07, 1.2803185930855637e-06, 1.6186855707003605e-06, 1.8653139496490511e-06, 1.96292887618794e-06, 1.8973578384321765e-06, 1.6925412306282163e-06, 1.407469372854895e-06, 1.1239264222157146e-06, 9.151319604702677e-07, 8.111108587200458e-07, 7.87791707644742e-07, 7.883262360494554e-07, 7.615535067878956e-07, 6.933746559671202e-07, 6.110459123013332e-07, 5.56978897272588e-07, 5.526703523412686e-07, 5.833080145341225e-07, 6.144795672947571e-07, 6.221274548096846e-07, 6.07239961350358e-07, 5.85624247678156e-07, 5.678133654358908e-07, 5.496491025651926e-07, 5.19971944005928e-07, 4.770449508896579e-07, 4.413037041737106e-07, 4.5482821985763907e-07, 5.637049809491201e-07, 7.895251237895463e-07, 1.1069552926006859e-06, 1.4459141197154484e-06, 1.7236627828189131e-06, 1.8892123897722954e-06, 1.947107605893205e-06, 1.9396607485385018e-06, 1.9037490399591166e-06, 1.8443183468193948e-06, 1.7479679609804208e-06, 1.6148289498491857e-06, 1.4707147345653166e-06, 1.3516446999745315e-06, 1.284200105231231e-06, 1.2784264053145083e-06, 1.3266322345652418e-06, 1.4010751887077509e-06, 1.4599164671156868e-06, 1.4694272498404823e-06, 1.4286525386615007e-06, 1.3729618937744729e-06, 1.3521267205221025e-06, 1.4048841469756968e-06, 1.553464429214715e-06, 1.814150875165617e-06, 2.1950703163575494e-06, 2.6662313615485743e-06, 3.132047124359067e-06, 3.4555549689418605e-06, 3.536332149571823e-06, 3.376130700812982e-06, 3.0658102276863757e-06, 2.7065912231342777e-06, 2.34580515735836e-06, 1.983148482217703e-06, 1.6234450454723122e-06, 1.310357710023779e-06, 1.1069732073617255e-06, 1.0477894932855226e-06, 1.1130683266608425e-06, 1.2508228129706692e-06, 1.4215979263905774e-06, 1.6191455032069048e-06, 1.850432615396451e-06, 2.1029716153376765e-06, 2.3336937653926924e-06, 2.4858963256521225e-06, 2.5208528827433238e-06, 2.4481874464541915e-06, 2.336128783643366e-06, 2.284341066075907e-06, 2.3660692930715455e-06, 2.5780597572116587e-06, 2.8391069996207656e-06, 3.0417586808760594e-06, 3.1185405542746625e-06, 3.0737705480409206e-06, 2.9630778074670376e-06, 2.8446595169963925e-06, 2.7424417892872256e-06, 2.644453757317694e-06, 2.529546262340393e-06, 2.3957571909465237e-06, 2.2683355050682335e-06, 2.187977123996707e-06, 2.1942815670615586e-06, 2.3132127145315533e-06, 2.5480041316706064e-06, 2.875178186267492e-06, 3.2488919334730118e-06, 3.6076935811967214e-06, 3.876165937419798e-06, 3.973168984283306e-06, 3.848986351410237e-06, 3.5420849875799107e-06, 3.2013724987725118e-06, 3.0278709211665035e-06, 3.1585668970871468e-06, 3.5739268157248812e-06, 4.096958235888535e-06, 4.483828898911061e-06, 4.548542415955698e-06, 4.251826285095846e-06, 3.708253640279839e-06, 3.1114760694367515e-06, 2.6300042629599e-06, 2.3453801009146578e-06, 2.2604219057494994e-06, 2.3384442801672607e-06, 2.522940403155933e-06, 2.7381419138221433e-06, 2.9061317707447036e-06, 2.985900901274759e-06, 2.993700819823588e-06, 2.9752517138688095e-06, 2.9568098799090973e-06, 2.9255472829112626e-06, 2.8497949171275787e-06, 2.704514997415882e-06, 2.4755019419315385e-06, 2.15512921186692e-06, 1.7517237158960036e-06, 1.305703330648065e-06, 8.872857661119038e-07, 5.699446883640125e-07, 4.005061522625555e-07, 3.8556548443883645e-07, 4.941889797214202e-07, 6.687819282493111e-07, 8.425981248359425e-07, 9.626657779927122e-07, 1.0062077235223146e-06, 9.777967257824946e-07, 8.932221826823032e-07, 7.708081488141119e-07, 6.383170975738663e-07, 5.389358924472758e-07, 5.170450591622454e-07, 5.880958486036007e-07, 7.192103499203573e-07, 8.438115338483625e-07, 9.051498492439234e-07, 8.935614249186337e-07, 8.4308899526318e-07, 7.924631341679793e-07, 7.536384958786352e-07, 7.201875606419184e-07, 6.977906627125503e-07, 7.122057135660497e-07, 7.805571186454121e-07, 8.800790917692939e-07, 9.538967863667567e-07, 9.50951920465147e-07, 8.601828220771483e-07, 7.102057017799858e-07, 5.450548586271104e-07, 4.0326702273872865e-07, 3.097949027870171e-07, 2.720886997313735e-07, 2.7645312692848366e-07, 2.926668007030088e-07, 2.915806388550355e-07, 2.6560175531477445e-07, 2.3569835542697336e-07, 2.389739136171235e-07, 3.0555232206827407e-07, 4.3871063759693733e-07, 6.089947615745816e-07, 7.674045056729755e-07, 8.729131951198553e-07, 9.165911122527978e-07, 9.221454453081248e-07, 9.205580421020885e-07, 9.210627652185611e-07, 9.060743919912287e-07, 8.554354473698469e-07, 7.758967002260932e-07, 7.049020028569317e-07, 6.821564072485901e-07, 7.143748808613129e-07, 7.654433883201504e-07, 7.80223857475051e-07, 7.213029613575919e-07, 5.905845255155233e-07, 4.23351495126226e-07, 2.639193127310997e-07, 1.4237874122022316e-07, 6.619031838116787e-08, 2.641876932989108e-08, 9.024243785762534e-09, 2.6309961519076697e-09, 6.53250319084696e-10, 1.3788358698025525e-10, 2.4705811258996117e-11, 3.753600107809429e-12, 4.831383629460231e-13, 5.264587004115432e-14, 4.853845551145334e-15, 3.7848367126757224e-16, 2.495164988260584e-17, 1.391380232092964e-18, 9.270706464894217e-20, 6.087143178471639e-19, 1.1395998782164893e-17, 1.8108000021556675e-16, 2.432281507760578e-15, 2.7624872479402968e-14, 2.653861925821451e-13, 2.157390718883006e-12, 1.4848073794529152e-11, 8.656917268693982e-11, 4.2787430102661476e-10, 1.7942644951152222e-09, 6.38970735814777e-09, 1.9344231986505484e-08, 4.98407229877707e-08, 1.0941654694377213e-07, 2.049007675432826e-07, 3.276602910433766e-07, 4.478254486014663e-07, 5.234530560099764e-07, 5.234530560099764e-07, 4.478254486014735e-07, 3.2766029104338546e-07, 2.0490076754329034e-07, 1.0941654694377768e-07, 4.98407229877795e-08, 1.934423198664664e-08, 6.389707360986313e-09, 1.7942645437679133e-09, 4.2787500527250054e-10, 8.657777999364215e-11, 1.4936898902927575e-11, 2.9313706893688497e-12, 5.95980238476215e-12, 3.5402441494953034e-11, 1.855540293825641e-10, 8.217899012836781e-10, 3.0731391231521895e-09, 9.703518624708198e-09, 2.587031862113477e-08, 5.823711217951304e-08, 1.1069384281658559e-07, 1.7765319810998025e-07, 2.4074131228254824e-07, 2.7546643579239827e-07, 2.661957504243329e-07, 2.1746340832971257e-07, 1.510806252464732e-07, 9.234523655612813e-08, 5.8414224532101506e-08, 5.639625290590175e-08, 8.663881682942309e-08, 1.4303982391614844e-07, 2.0975587958582434e-07, 2.620351872239802e-07, 2.7681258948347166e-07, 2.4697218534956095e-07, 1.8606057817495285e-07, 1.1835574106406997e-07, 6.35697242365488e-08, 2.882948754594305e-08, 1.1039490774376044e-08, 3.5693297311080018e-09, 9.74428115916036e-10, 2.246148431297576e-10, 4.371723347936882e-11, 7.1845384137848315e-12, 9.98417892985157e-13, 1.3429061335711752e-13, 1.832173758019821e-13, 1.4236432873843626e-12, 9.955573390503525e-12, 5.882277451156462e-11, 2.934628628992271e-10, 1.236193148331266e-09, 4.396884146527859e-09, 1.3204720737602994e-08, 3.348412289065226e-08, 7.169256873961406e-08, 1.2960891159155317e-07, 1.9784318443983775e-07, 2.549956852153591e-07], \"yaxis\": \"y\"}],                        {\"barmode\": \"overlay\", \"height\": 500, \"hovermode\": \"closest\", \"legend\": {\"traceorder\": \"reversed\"}, \"showlegend\": false, \"template\": {\"data\": {\"bar\": [{\"error_x\": {\"color\": \"#2a3f5f\"}, \"error_y\": {\"color\": \"#2a3f5f\"}, \"marker\": {\"line\": {\"color\": \"#E5ECF6\", \"width\": 0.5}}, \"type\": \"bar\"}], \"barpolar\": [{\"marker\": {\"line\": {\"color\": \"#E5ECF6\", \"width\": 0.5}}, \"type\": \"barpolar\"}], \"carpet\": [{\"aaxis\": {\"endlinecolor\": \"#2a3f5f\", \"gridcolor\": \"white\", \"linecolor\": \"white\", \"minorgridcolor\": \"white\", \"startlinecolor\": \"#2a3f5f\"}, \"baxis\": {\"endlinecolor\": \"#2a3f5f\", \"gridcolor\": \"white\", \"linecolor\": \"white\", \"minorgridcolor\": \"white\", \"startlinecolor\": \"#2a3f5f\"}, \"type\": \"carpet\"}], \"choropleth\": [{\"colorbar\": {\"outlinewidth\": 0, \"ticks\": \"\"}, \"type\": \"choropleth\"}], \"contour\": [{\"colorbar\": {\"outlinewidth\": 0, \"ticks\": \"\"}, \"colorscale\": [[0.0, \"#0d0887\"], [0.1111111111111111, \"#46039f\"], [0.2222222222222222, \"#7201a8\"], [0.3333333333333333, \"#9c179e\"], [0.4444444444444444, \"#bd3786\"], [0.5555555555555556, \"#d8576b\"], [0.6666666666666666, \"#ed7953\"], [0.7777777777777778, \"#fb9f3a\"], [0.8888888888888888, \"#fdca26\"], [1.0, \"#f0f921\"]], \"type\": \"contour\"}], \"contourcarpet\": [{\"colorbar\": {\"outlinewidth\": 0, \"ticks\": \"\"}, \"type\": \"contourcarpet\"}], \"heatmap\": [{\"colorbar\": {\"outlinewidth\": 0, \"ticks\": \"\"}, \"colorscale\": [[0.0, \"#0d0887\"], [0.1111111111111111, \"#46039f\"], [0.2222222222222222, \"#7201a8\"], [0.3333333333333333, \"#9c179e\"], [0.4444444444444444, \"#bd3786\"], [0.5555555555555556, \"#d8576b\"], [0.6666666666666666, \"#ed7953\"], [0.7777777777777778, \"#fb9f3a\"], [0.8888888888888888, \"#fdca26\"], [1.0, \"#f0f921\"]], \"type\": \"heatmap\"}], \"heatmapgl\": [{\"colorbar\": {\"outlinewidth\": 0, \"ticks\": \"\"}, \"colorscale\": [[0.0, \"#0d0887\"], [0.1111111111111111, \"#46039f\"], [0.2222222222222222, \"#7201a8\"], [0.3333333333333333, \"#9c179e\"], [0.4444444444444444, \"#bd3786\"], [0.5555555555555556, \"#d8576b\"], [0.6666666666666666, \"#ed7953\"], [0.7777777777777778, \"#fb9f3a\"], [0.8888888888888888, \"#fdca26\"], [1.0, \"#f0f921\"]], \"type\": \"heatmapgl\"}], \"histogram\": [{\"marker\": {\"colorbar\": {\"outlinewidth\": 0, \"ticks\": \"\"}}, \"type\": \"histogram\"}], \"histogram2d\": [{\"colorbar\": {\"outlinewidth\": 0, \"ticks\": \"\"}, \"colorscale\": [[0.0, \"#0d0887\"], [0.1111111111111111, \"#46039f\"], [0.2222222222222222, \"#7201a8\"], [0.3333333333333333, \"#9c179e\"], [0.4444444444444444, \"#bd3786\"], [0.5555555555555556, \"#d8576b\"], [0.6666666666666666, \"#ed7953\"], [0.7777777777777778, \"#fb9f3a\"], [0.8888888888888888, \"#fdca26\"], [1.0, \"#f0f921\"]], \"type\": \"histogram2d\"}], \"histogram2dcontour\": [{\"colorbar\": {\"outlinewidth\": 0, \"ticks\": \"\"}, \"colorscale\": [[0.0, \"#0d0887\"], [0.1111111111111111, \"#46039f\"], [0.2222222222222222, \"#7201a8\"], [0.3333333333333333, \"#9c179e\"], [0.4444444444444444, \"#bd3786\"], [0.5555555555555556, \"#d8576b\"], [0.6666666666666666, \"#ed7953\"], [0.7777777777777778, \"#fb9f3a\"], [0.8888888888888888, \"#fdca26\"], [1.0, \"#f0f921\"]], \"type\": \"histogram2dcontour\"}], \"mesh3d\": [{\"colorbar\": {\"outlinewidth\": 0, \"ticks\": \"\"}, \"type\": \"mesh3d\"}], \"parcoords\": [{\"line\": {\"colorbar\": {\"outlinewidth\": 0, \"ticks\": \"\"}}, \"type\": \"parcoords\"}], \"pie\": [{\"automargin\": true, \"type\": \"pie\"}], \"scatter\": [{\"marker\": {\"colorbar\": {\"outlinewidth\": 0, \"ticks\": \"\"}}, \"type\": \"scatter\"}], \"scatter3d\": [{\"line\": {\"colorbar\": {\"outlinewidth\": 0, \"ticks\": \"\"}}, \"marker\": {\"colorbar\": {\"outlinewidth\": 0, \"ticks\": \"\"}}, \"type\": \"scatter3d\"}], \"scattercarpet\": [{\"marker\": {\"colorbar\": {\"outlinewidth\": 0, \"ticks\": \"\"}}, \"type\": \"scattercarpet\"}], \"scattergeo\": [{\"marker\": {\"colorbar\": {\"outlinewidth\": 0, \"ticks\": \"\"}}, \"type\": \"scattergeo\"}], \"scattergl\": [{\"marker\": {\"colorbar\": {\"outlinewidth\": 0, \"ticks\": \"\"}}, \"type\": \"scattergl\"}], \"scattermapbox\": [{\"marker\": {\"colorbar\": {\"outlinewidth\": 0, \"ticks\": \"\"}}, \"type\": \"scattermapbox\"}], \"scatterpolar\": [{\"marker\": {\"colorbar\": {\"outlinewidth\": 0, \"ticks\": \"\"}}, \"type\": \"scatterpolar\"}], \"scatterpolargl\": [{\"marker\": {\"colorbar\": {\"outlinewidth\": 0, \"ticks\": \"\"}}, \"type\": \"scatterpolargl\"}], \"scatterternary\": [{\"marker\": {\"colorbar\": {\"outlinewidth\": 0, \"ticks\": \"\"}}, \"type\": \"scatterternary\"}], \"surface\": [{\"colorbar\": {\"outlinewidth\": 0, \"ticks\": \"\"}, \"colorscale\": [[0.0, \"#0d0887\"], [0.1111111111111111, \"#46039f\"], [0.2222222222222222, \"#7201a8\"], [0.3333333333333333, \"#9c179e\"], [0.4444444444444444, \"#bd3786\"], [0.5555555555555556, \"#d8576b\"], [0.6666666666666666, \"#ed7953\"], [0.7777777777777778, \"#fb9f3a\"], [0.8888888888888888, \"#fdca26\"], [1.0, \"#f0f921\"]], \"type\": \"surface\"}], \"table\": [{\"cells\": {\"fill\": {\"color\": \"#EBF0F8\"}, \"line\": {\"color\": \"white\"}}, \"header\": {\"fill\": {\"color\": \"#C8D4E3\"}, \"line\": {\"color\": \"white\"}}, \"type\": \"table\"}]}, \"layout\": {\"annotationdefaults\": {\"arrowcolor\": \"#2a3f5f\", \"arrowhead\": 0, \"arrowwidth\": 1}, \"coloraxis\": {\"colorbar\": {\"outlinewidth\": 0, \"ticks\": \"\"}}, \"colorscale\": {\"diverging\": [[0, \"#8e0152\"], [0.1, \"#c51b7d\"], [0.2, \"#de77ae\"], [0.3, \"#f1b6da\"], [0.4, \"#fde0ef\"], [0.5, \"#f7f7f7\"], [0.6, \"#e6f5d0\"], [0.7, \"#b8e186\"], [0.8, \"#7fbc41\"], [0.9, \"#4d9221\"], [1, \"#276419\"]], \"sequential\": [[0.0, \"#0d0887\"], [0.1111111111111111, \"#46039f\"], [0.2222222222222222, \"#7201a8\"], [0.3333333333333333, \"#9c179e\"], [0.4444444444444444, \"#bd3786\"], [0.5555555555555556, \"#d8576b\"], [0.6666666666666666, \"#ed7953\"], [0.7777777777777778, \"#fb9f3a\"], [0.8888888888888888, \"#fdca26\"], [1.0, \"#f0f921\"]], \"sequentialminus\": [[0.0, \"#0d0887\"], [0.1111111111111111, \"#46039f\"], [0.2222222222222222, \"#7201a8\"], [0.3333333333333333, \"#9c179e\"], [0.4444444444444444, \"#bd3786\"], [0.5555555555555556, \"#d8576b\"], [0.6666666666666666, \"#ed7953\"], [0.7777777777777778, \"#fb9f3a\"], [0.8888888888888888, \"#fdca26\"], [1.0, \"#f0f921\"]]}, \"colorway\": [\"#636efa\", \"#EF553B\", \"#00cc96\", \"#ab63fa\", \"#FFA15A\", \"#19d3f3\", \"#FF6692\", \"#B6E880\", \"#FF97FF\", \"#FECB52\"], \"font\": {\"color\": \"#2a3f5f\"}, \"geo\": {\"bgcolor\": \"white\", \"lakecolor\": \"white\", \"landcolor\": \"#E5ECF6\", \"showlakes\": true, \"showland\": true, \"subunitcolor\": \"white\"}, \"hoverlabel\": {\"align\": \"left\"}, \"hovermode\": \"closest\", \"mapbox\": {\"style\": \"light\"}, \"paper_bgcolor\": \"white\", \"plot_bgcolor\": \"#E5ECF6\", \"polar\": {\"angularaxis\": {\"gridcolor\": \"white\", \"linecolor\": \"white\", \"ticks\": \"\"}, \"bgcolor\": \"#E5ECF6\", \"radialaxis\": {\"gridcolor\": \"white\", \"linecolor\": \"white\", \"ticks\": \"\"}}, \"scene\": {\"xaxis\": {\"backgroundcolor\": \"#E5ECF6\", \"gridcolor\": \"white\", \"gridwidth\": 2, \"linecolor\": \"white\", \"showbackground\": true, \"ticks\": \"\", \"zerolinecolor\": \"white\"}, \"yaxis\": {\"backgroundcolor\": \"#E5ECF6\", \"gridcolor\": \"white\", \"gridwidth\": 2, \"linecolor\": \"white\", \"showbackground\": true, \"ticks\": \"\", \"zerolinecolor\": \"white\"}, \"zaxis\": {\"backgroundcolor\": \"#E5ECF6\", \"gridcolor\": \"white\", \"gridwidth\": 2, \"linecolor\": \"white\", \"showbackground\": true, \"ticks\": \"\", \"zerolinecolor\": \"white\"}}, \"shapedefaults\": {\"line\": {\"color\": \"#2a3f5f\"}}, \"ternary\": {\"aaxis\": {\"gridcolor\": \"white\", \"linecolor\": \"white\", \"ticks\": \"\"}, \"baxis\": {\"gridcolor\": \"white\", \"linecolor\": \"white\", \"ticks\": \"\"}, \"bgcolor\": \"#E5ECF6\", \"caxis\": {\"gridcolor\": \"white\", \"linecolor\": \"white\", \"ticks\": \"\"}}, \"title\": {\"x\": 0.05}, \"xaxis\": {\"automargin\": true, \"gridcolor\": \"white\", \"linecolor\": \"white\", \"ticks\": \"\", \"title\": {\"standoff\": 15}, \"zerolinecolor\": \"white\", \"zerolinewidth\": 2}, \"yaxis\": {\"automargin\": true, \"gridcolor\": \"white\", \"linecolor\": \"white\", \"ticks\": \"\", \"title\": {\"standoff\": 15}, \"zerolinecolor\": \"white\", \"zerolinewidth\": 2}}}, \"title\": {\"text\": \"Relative frequence - Description lenght\", \"x\": 0.5, \"xanchor\": \"center\", \"y\": 0.9, \"yanchor\": \"top\"}, \"width\": 500, \"xaxis\": {\"anchor\": \"y2\", \"domain\": [0.0, 1.0], \"title\": {\"text\": \"Length of Description\"}, \"zeroline\": false}, \"yaxis\": {\"anchor\": \"free\", \"domain\": [0.0, 1], \"position\": 0.0, \"title\": {\"text\": \"probability\"}}},                        {\"responsive\": true}                    ).then(function(){\n",
       "                            \n",
       "var gd = document.getElementById('3ae1c74c-0323-4c68-af33-ce1306324995');\n",
       "var x = new MutationObserver(function (mutations, observer) {{\n",
       "        var display = window.getComputedStyle(gd).display;\n",
       "        if (!display || display === 'none') {{\n",
       "            console.log([gd, 'removed!']);\n",
       "            Plotly.purge(gd);\n",
       "            observer.disconnect();\n",
       "        }}\n",
       "}});\n",
       "\n",
       "// Listen for the removal of the full notebook cells\n",
       "var notebookContainer = gd.closest('#notebook-container');\n",
       "if (notebookContainer) {{\n",
       "    x.observe(notebookContainer, {childList: true});\n",
       "}}\n",
       "\n",
       "// Listen for the clearing of the current output cell\n",
       "var outputEl = gd.closest('.output');\n",
       "if (outputEl) {{\n",
       "    x.observe(outputEl, {childList: true});\n",
       "}}\n",
       "\n",
       "                        })                };                });            </script>        </div>"
      ]
     },
     "metadata": {},
     "output_type": "display_data"
    }
   ],
   "source": [
    "# Use plotly to see the distribution of categorical data\n",
    "# https://www.kaggle.com/vikashrajluhaniwal/recommending-news-articles-based-on-read-articles#6.-Headline-based-similarity-on-new-articles\n",
    "fig = ff.create_distplot([news_category['short_description'].str.len()], [\"ht\"], show_hist=False, show_rug=False)\n",
    "fig['layout'].update(title={'text':'Relative frequence - Description lenght', 'y':0.9, 'x':0.5, 'xanchor': 'center','yanchor': 'top'}, xaxis_title=\"Length of Description\",yaxis_title=\"probability\")\n",
    "fig.update_layout(showlegend = False, width=500,height=500)\n",
    "fig.show()"
   ]
  },
  {
   "cell_type": "markdown",
   "metadata": {},
   "source": [
    "From the past two plots it is possible to see that the text's lenght in the `headline` and in the `short_description` are quite different. Generally, the text in the descripwion is way longer and may provide more information for a classification task."
   ]
  },
  {
   "cell_type": "markdown",
   "metadata": {},
   "source": [
    "## Filtering the dataset\n",
    "\n",
    "The following cells will be used to filter the text within the `headline` and `short_description` features. "
   ]
  },
  {
   "cell_type": "markdown",
   "metadata": {},
   "source": [
    "These lines of code are for testing purpose, and filter the dataset based on the most recent data. The resulting dataset will be stored in a different dataframe called `news_articles`."
   ]
  },
  {
   "cell_type": "code",
   "execution_count": 10,
   "metadata": {},
   "outputs": [
    {
     "name": "stdout",
     "output_type": "stream",
     "text": [
      "The shape of the filtered dataset is: (27487, 6)\n"
     ]
    }
   ],
   "source": [
    "# Filter dataset by date\n",
    "f_articles = news_category[news_category['date'] >= pd.Timestamp(2017,5,5)]\n",
    "#f_articles = news_category.copy()\n",
    "print('The shape of the filtered dataset is: {}'.format(f_articles.shape))"
   ]
  },
  {
   "cell_type": "markdown",
   "metadata": {},
   "source": [
    "One Dwarback from the past lines are that the dataset now has less categories. To validate this, the next cell prints the new list of categories."
   ]
  },
  {
   "cell_type": "code",
   "execution_count": 11,
   "metadata": {},
   "outputs": [
    {
     "name": "stdout",
     "output_type": "stream",
     "text": [
      "The Categories in the dataset are: \n",
      "\n",
      "['CRIME' 'ENTERTAINMENT' 'WORLD NEWS' 'IMPACT' 'POLITICS' 'WEIRD NEWS'\n",
      " 'BLACK VOICES' 'WOMEN' 'COMEDY' 'QUEER VOICES' 'SPORTS' 'BUSINESS'\n",
      " 'TRAVEL' 'MEDIA' 'TECH' 'RELIGION' 'SCIENCE' 'LATINO VOICES' 'EDUCATION'\n",
      " 'COLLEGE' 'PARENTS' 'ARTS & CULTURE' 'STYLE' 'GREEN' 'TASTE'\n",
      " 'HEALTHY LIVING' 'THE WORLDPOST' 'GOOD NEWS']\n",
      "The total number of features are: 28\n"
     ]
    }
   ],
   "source": [
    "# Print unique categories\n",
    "print('The Categories in the dataset are: \\n')\n",
    "print(f_articles.category.unique())\n",
    "print('The total number of features are: {}'.format(len(f_articles.category.unique())))"
   ]
  },
  {
   "cell_type": "markdown",
   "metadata": {},
   "source": [
    "An important step is to remove headlines and descriptions with less than five words. Additionally, as mentioned before there are repeated headlines and short descriptions, an important step is to remove these repeated texts."
   ]
  },
  {
   "cell_type": "code",
   "execution_count": 12,
   "metadata": {},
   "outputs": [
    {
     "name": "stdout",
     "output_type": "stream",
     "text": [
      "Total number of articles after removing duplicates (headlines): 24274\n"
     ]
    }
   ],
   "source": [
    "# Filter headlines with less than 5 characters\n",
    "f_articles = f_articles[f_articles['headline'].apply(lambda x: len(x.split())>5)]\n",
    "f_articles = f_articles[f_articles['short_description'].apply(lambda x: len(x.split())>5)]\n",
    "# Filter headlines in a descending manner\n",
    "f_articles.sort_values('headline',inplace=True, ascending=False)\n",
    "# Make a copy of the dataset\n",
    "duplicated_headlines_series = f_articles.duplicated('headline', keep = False)\n",
    "# Remove repeated headlines \n",
    "news_articles = f_articles[~duplicated_headlines_series]\n",
    "# Make another copy of the dataset\n",
    "duplicated_description_series = f_articles.duplicated('short_description', keep = False)\n",
    "# Remove repeated descriptions \n",
    "news_articles = f_articles[~duplicated_description_series]\n",
    "print(\"Total number of articles after removing duplicates (headlines):\", f_articles.shape[0])"
   ]
  },
  {
   "cell_type": "code",
   "execution_count": 13,
   "metadata": {},
   "outputs": [
    {
     "name": "stdout",
     "output_type": "stream",
     "text": [
      "Total number of articles :  24274\n",
      "Total number of authors :  3922\n",
      "Total number of unqiue categories :  28\n"
     ]
    }
   ],
   "source": [
    "print(\"Total number of articles : \", f_articles.shape[0])\n",
    "print(\"Total number of authors : \", f_articles[\"authors\"].nunique())\n",
    "print(\"Total number of unqiue categories : \", f_articles[\"category\"].nunique())"
   ]
  },
  {
   "cell_type": "markdown",
   "metadata": {},
   "source": [
    "It is interesting thing to visualize is the number of articles per date, the next cell shows the aforementioned."
   ]
  },
  {
   "cell_type": "code",
   "execution_count": 14,
   "metadata": {},
   "outputs": [
    {
     "data": {
      "text/plain": [
       "date\n",
       "2017-05-31    2006\n",
       "2017-06-30    2273\n",
       "2017-07-31    2129\n",
       "2017-08-31    2254\n",
       "2017-09-30    2027\n",
       "2017-10-31    2084\n",
       "2017-11-30    1934\n",
       "2017-12-31    1765\n",
       "2018-01-31    1856\n",
       "2018-02-28    1543\n",
       "2018-03-31    1652\n",
       "2018-04-30    1480\n",
       "2018-05-31    1271\n",
       "Freq: M, Name: category, dtype: int64"
      ]
     },
     "execution_count": 14,
     "metadata": {},
     "output_type": "execute_result"
    }
   ],
   "source": [
    "# Articles per month\n",
    "news_articles_per_month = f_articles.resample('m', on = 'date')['category'].count()\n",
    "news_articles_per_month"
   ]
  },
  {
   "cell_type": "markdown",
   "metadata": {},
   "source": [
    "Now is time to remove the stopwords, as this is a dataset in English, I will use the stopwords provided in the library `stopwords`"
   ]
  },
  {
   "cell_type": "code",
   "execution_count": 15,
   "metadata": {},
   "outputs": [
    {
     "name": "stdout",
     "output_type": "stream",
     "text": [
      "{\"couldn't\", 'needn', 'by', 'below', 'an', 'this', 'a', 'couldn', 'as', \"hasn't\", 'was', 'in', 'shouldn', 'the', 'our', 'you', 'own', 'while', 'both', \"she's\", \"you've\", 'off', 'just', \"won't\", 'did', 'against', 'doing', 'same', 'have', 'my', 're', 'themselves', 'where', 'me', 'be', 'there', 'these', 'don', \"wouldn't\", 'here', 'it', 'when', 'she', 'to', 'didn', \"you'd\", 'isn', 'above', 'few', \"doesn't\", \"weren't\", 'on', \"you'll\", 'is', 'them', \"needn't\", 'he', 'further', \"should've\", 'having', 'ourselves', 'during', 'down', 'mightn', 'their', 'not', 'has', 'ours', 'but', 'only', 'over', 'with', 'very', 'y', \"mightn't\", 'such', 'no', 'your', 'mustn', 'had', 'we', 'does', 'its', 'd', 'haven', 'some', 'theirs', 'then', 'doesn', 'myself', 'more', 'do', \"hadn't\", \"isn't\", 'been', 'wasn', 'wouldn', 'if', 'ma', 'which', 't', 'before', 'now', 'hasn', \"didn't\", 'under', 'most', 've', 'am', 'all', 'are', 'because', 'hers', 'won', \"that'll\", \"you're\", 'after', 'ain', 'itself', 'other', 'aren', 'hadn', \"mustn't\", 'her', 'how', 'any', 'up', 'out', 'himself', 'those', 'shan', 'at', 'between', 'through', 'i', 'what', 'so', 'weren', 'yours', 'from', \"shouldn't\", 'yourselves', 'again', 'herself', 's', 'who', 'o', 'they', 'about', 'him', 'too', \"it's\", 'whom', \"don't\", 'once', 'than', 'why', 'yourself', 'or', 'should', 'were', 'being', \"aren't\", \"haven't\", \"wasn't\", 'can', 'that', 'll', 'into', 'of', 'for', 'm', 'will', 'each', \"shan't\", 'nor', 'and', 'his', 'until'}\n"
     ]
    }
   ],
   "source": [
    "# remove stop words\n",
    "stop_words = set(stopwords.words('english'))\n",
    "# List of stopwords to filter\n",
    "print(stop_words)"
   ]
  },
  {
   "cell_type": "markdown",
   "metadata": {},
   "source": [
    "The following functions are used to create some filters for the dataset. The method `remove_stopwords` is used to remove stop words, `alpha_num` removes any character that is not alphanumeric, finally, rem_lemmatizer converts the words to its base form. These three basic filters are very extremely useful when processing text within a dataset and can considerable improve performance."
   ]
  },
  {
   "cell_type": "code",
   "execution_count": 16,
   "metadata": {},
   "outputs": [],
   "source": [
    "# Removing stopwords\n",
    "def remove_stopwords(text):\n",
    "    final_text = []\n",
    "    # Split text\n",
    "    for i in text.split():\n",
    "        # Check if word is not in stopword, otherwise do not append\n",
    "        if i.strip().lower() not in stop_words:\n",
    "            final_text.append(i.strip())\n",
    "    return \" \".join(final_text)"
   ]
  },
  {
   "cell_type": "code",
   "execution_count": 17,
   "metadata": {},
   "outputs": [],
   "source": [
    "# Remove non alphanumeric characters\n",
    "def alpha_num(text):\n",
    "    return re.sub(r'[^A-Za-z0-9 ]', '', text)"
   ]
  },
  {
   "cell_type": "code",
   "execution_count": 18,
   "metadata": {},
   "outputs": [],
   "source": [
    "# Lemmatize words to its base form\n",
    "# https://www.machinelearningplus.com/nlp/lemmatization-examples-python/\n",
    "lemmatizer = WordNetLemmatizer()\n",
    "def rem_lemmatizer(text):\n",
    "    final_text = []\n",
    "    string_l = \"\"\n",
    "    for w in word_tokenize(text):\n",
    "        string_l += lemmatizer.lemmatize(w, pos = \"v\") + \" \"\n",
    "    final_text.append(string_l.strip())\n",
    "    return \" \".join(final_text)"
   ]
  },
  {
   "cell_type": "markdown",
   "metadata": {},
   "source": [
    "Once our filters are defined it is time to apply it to the dataset to the `headline`, `short_description` and `category` features. One step that is doing inplace is to convert all the caracters to lowercase. When the dataset is showed, it is possible to validate how all the filters are successfully applied."
   ]
  },
  {
   "cell_type": "code",
   "execution_count": 19,
   "metadata": {},
   "outputs": [
    {
     "data": {
      "text/html": [
       "<div>\n",
       "<style scoped>\n",
       "    .dataframe tbody tr th:only-of-type {\n",
       "        vertical-align: middle;\n",
       "    }\n",
       "\n",
       "    .dataframe tbody tr th {\n",
       "        vertical-align: top;\n",
       "    }\n",
       "\n",
       "    .dataframe thead th {\n",
       "        text-align: right;\n",
       "    }\n",
       "</style>\n",
       "<table border=\"1\" class=\"dataframe\">\n",
       "  <thead>\n",
       "    <tr style=\"text-align: right;\">\n",
       "      <th></th>\n",
       "      <th>category</th>\n",
       "      <th>headline</th>\n",
       "      <th>authors</th>\n",
       "      <th>link</th>\n",
       "      <th>short_description</th>\n",
       "      <th>date</th>\n",
       "    </tr>\n",
       "  </thead>\n",
       "  <tbody>\n",
       "    <tr>\n",
       "      <th>21194</th>\n",
       "      <td>healthy living</td>\n",
       "      <td>to bone didnt teach glamour teach respect</td>\n",
       "      <td>Mycah Hazel, Contributorblogger, equal opportu...</td>\n",
       "      <td>https://www.huffingtonpost.com/entry/to-the-bo...</td>\n",
       "      <td>oftentimes film tv show eat disorder try convi...</td>\n",
       "      <td>2017-07-18</td>\n",
       "    </tr>\n",
       "    <tr>\n",
       "      <th>2932</th>\n",
       "      <td>queer voices</td>\n",
       "      <td>will grace creator donate gay bunny book every...</td>\n",
       "      <td>Elyse Wanshel</td>\n",
       "      <td>https://www.huffingtonpost.com/entry/will-grac...</td>\n",
       "      <td>lot easier kid mike pences home state read a d...</td>\n",
       "      <td>2018-04-02</td>\n",
       "    </tr>\n",
       "    <tr>\n",
       "      <th>25186</th>\n",
       "      <td>world news</td>\n",
       "      <td>we blood invisible live indias dalit women</td>\n",
       "      <td>Sara Hylton, Women &amp; Girls Hub</td>\n",
       "      <td>https://www.huffingtonpost.com/entry/we-are-th...</td>\n",
       "      <td>girl dalit village harirajpur odisha chase kit...</td>\n",
       "      <td>2017-05-31</td>\n",
       "    </tr>\n",
       "    <tr>\n",
       "      <th>26210</th>\n",
       "      <td>politics</td>\n",
       "      <td>wannacry ransomware attack raise alarm bell ci...</td>\n",
       "      <td>Stateline, ContributorStateline provides daily...</td>\n",
       "      <td>https://www.huffingtonpost.com/entry/wannacry-...</td>\n",
       "      <td>recent global cyberattack spar federal governm...</td>\n",
       "      <td>2017-05-19</td>\n",
       "    </tr>\n",
       "    <tr>\n",
       "      <th>20973</th>\n",
       "      <td>entertainment</td>\n",
       "      <td>walk dead reportedly cancel comiccon press eve...</td>\n",
       "      <td>Bill Bradley</td>\n",
       "      <td>https://www.huffingtonpost.com/entry/walking-d...</td>\n",
       "      <td>panel still happen</td>\n",
       "      <td>2017-07-20</td>\n",
       "    </tr>\n",
       "  </tbody>\n",
       "</table>\n",
       "</div>"
      ],
      "text/plain": [
       "             category                                           headline  \\\n",
       "21194  healthy living          to bone didnt teach glamour teach respect   \n",
       "2932     queer voices  will grace creator donate gay bunny book every...   \n",
       "25186      world news         we blood invisible live indias dalit women   \n",
       "26210        politics  wannacry ransomware attack raise alarm bell ci...   \n",
       "20973   entertainment  walk dead reportedly cancel comiccon press eve...   \n",
       "\n",
       "                                                 authors  \\\n",
       "21194  Mycah Hazel, Contributorblogger, equal opportu...   \n",
       "2932                                       Elyse Wanshel   \n",
       "25186                     Sara Hylton, Women & Girls Hub   \n",
       "26210  Stateline, ContributorStateline provides daily...   \n",
       "20973                                       Bill Bradley   \n",
       "\n",
       "                                                    link  \\\n",
       "21194  https://www.huffingtonpost.com/entry/to-the-bo...   \n",
       "2932   https://www.huffingtonpost.com/entry/will-grac...   \n",
       "25186  https://www.huffingtonpost.com/entry/we-are-th...   \n",
       "26210  https://www.huffingtonpost.com/entry/wannacry-...   \n",
       "20973  https://www.huffingtonpost.com/entry/walking-d...   \n",
       "\n",
       "                                       short_description       date  \n",
       "21194  oftentimes film tv show eat disorder try convi... 2017-07-18  \n",
       "2932   lot easier kid mike pences home state read a d... 2018-04-02  \n",
       "25186  girl dalit village harirajpur odisha chase kit... 2017-05-31  \n",
       "26210  recent global cyberattack spar federal governm... 2017-05-19  \n",
       "20973                                 panel still happen 2017-07-20  "
      ]
     },
     "execution_count": 19,
     "metadata": {},
     "output_type": "execute_result"
    }
   ],
   "source": [
    "# Headline filtering\n",
    "# Lowercase\n",
    "f_articles['headline'] = f_articles['headline'].str.lower()\n",
    "# Remove stopwords\n",
    "f_articles['headline'] = f_articles['headline'].apply(remove_stopwords)\n",
    "# Remove non alphanumerics\n",
    "f_articles['headline'] = f_articles['headline'].apply(alpha_num)\n",
    "# Lemmatizer\n",
    "f_articles['headline'] = f_articles['headline'].apply(rem_lemmatizer)\n",
    "\n",
    "# Description filtering\n",
    "f_articles['short_description'] = f_articles['short_description'].str.lower()\n",
    "f_articles['short_description'] = f_articles['short_description'].apply(remove_stopwords)\n",
    "f_articles['short_description'] = f_articles['short_description'].apply(alpha_num)\n",
    "f_articles['short_description'] = f_articles['short_description'].apply(rem_lemmatizer)\n",
    "# Category (lowercase)\n",
    "f_articles['category'] = f_articles['category'].str.lower()\n",
    "\n",
    "f_articles.head()"
   ]
  },
  {
   "cell_type": "markdown",
   "metadata": {},
   "source": [
    "To simplify the problem the `headline` and `short_description` text are blended together and used as a unified feature. This new feature is called `full_text`."
   ]
  },
  {
   "cell_type": "code",
   "execution_count": 20,
   "metadata": {},
   "outputs": [
    {
     "data": {
      "text/html": [
       "<div>\n",
       "<style scoped>\n",
       "    .dataframe tbody tr th:only-of-type {\n",
       "        vertical-align: middle;\n",
       "    }\n",
       "\n",
       "    .dataframe tbody tr th {\n",
       "        vertical-align: top;\n",
       "    }\n",
       "\n",
       "    .dataframe thead th {\n",
       "        text-align: right;\n",
       "    }\n",
       "</style>\n",
       "<table border=\"1\" class=\"dataframe\">\n",
       "  <thead>\n",
       "    <tr style=\"text-align: right;\">\n",
       "      <th></th>\n",
       "      <th>category</th>\n",
       "      <th>headline</th>\n",
       "      <th>authors</th>\n",
       "      <th>link</th>\n",
       "      <th>short_description</th>\n",
       "      <th>date</th>\n",
       "      <th>full_text</th>\n",
       "    </tr>\n",
       "  </thead>\n",
       "  <tbody>\n",
       "    <tr>\n",
       "      <th>21194</th>\n",
       "      <td>healthy living</td>\n",
       "      <td>to bone didnt teach glamour teach respect</td>\n",
       "      <td>Mycah Hazel, Contributorblogger, equal opportu...</td>\n",
       "      <td>https://www.huffingtonpost.com/entry/to-the-bo...</td>\n",
       "      <td>oftentimes film tv show eat disorder try convi...</td>\n",
       "      <td>2017-07-18</td>\n",
       "      <td>to bone didnt teach glamour teach respect ofte...</td>\n",
       "    </tr>\n",
       "    <tr>\n",
       "      <th>2932</th>\n",
       "      <td>queer voices</td>\n",
       "      <td>will grace creator donate gay bunny book every...</td>\n",
       "      <td>Elyse Wanshel</td>\n",
       "      <td>https://www.huffingtonpost.com/entry/will-grac...</td>\n",
       "      <td>lot easier kid mike pences home state read a d...</td>\n",
       "      <td>2018-04-02</td>\n",
       "      <td>will grace creator donate gay bunny book every...</td>\n",
       "    </tr>\n",
       "    <tr>\n",
       "      <th>25186</th>\n",
       "      <td>world news</td>\n",
       "      <td>we blood invisible live indias dalit women</td>\n",
       "      <td>Sara Hylton, Women &amp; Girls Hub</td>\n",
       "      <td>https://www.huffingtonpost.com/entry/we-are-th...</td>\n",
       "      <td>girl dalit village harirajpur odisha chase kit...</td>\n",
       "      <td>2017-05-31</td>\n",
       "      <td>we blood invisible live indias dalit women gir...</td>\n",
       "    </tr>\n",
       "    <tr>\n",
       "      <th>26210</th>\n",
       "      <td>politics</td>\n",
       "      <td>wannacry ransomware attack raise alarm bell ci...</td>\n",
       "      <td>Stateline, ContributorStateline provides daily...</td>\n",
       "      <td>https://www.huffingtonpost.com/entry/wannacry-...</td>\n",
       "      <td>recent global cyberattack spar federal governm...</td>\n",
       "      <td>2017-05-19</td>\n",
       "      <td>wannacry ransomware attack raise alarm bell ci...</td>\n",
       "    </tr>\n",
       "    <tr>\n",
       "      <th>20973</th>\n",
       "      <td>entertainment</td>\n",
       "      <td>walk dead reportedly cancel comiccon press eve...</td>\n",
       "      <td>Bill Bradley</td>\n",
       "      <td>https://www.huffingtonpost.com/entry/walking-d...</td>\n",
       "      <td>panel still happen</td>\n",
       "      <td>2017-07-20</td>\n",
       "      <td>walk dead reportedly cancel comiccon press eve...</td>\n",
       "    </tr>\n",
       "  </tbody>\n",
       "</table>\n",
       "</div>"
      ],
      "text/plain": [
       "             category                                           headline  \\\n",
       "21194  healthy living          to bone didnt teach glamour teach respect   \n",
       "2932     queer voices  will grace creator donate gay bunny book every...   \n",
       "25186      world news         we blood invisible live indias dalit women   \n",
       "26210        politics  wannacry ransomware attack raise alarm bell ci...   \n",
       "20973   entertainment  walk dead reportedly cancel comiccon press eve...   \n",
       "\n",
       "                                                 authors  \\\n",
       "21194  Mycah Hazel, Contributorblogger, equal opportu...   \n",
       "2932                                       Elyse Wanshel   \n",
       "25186                     Sara Hylton, Women & Girls Hub   \n",
       "26210  Stateline, ContributorStateline provides daily...   \n",
       "20973                                       Bill Bradley   \n",
       "\n",
       "                                                    link  \\\n",
       "21194  https://www.huffingtonpost.com/entry/to-the-bo...   \n",
       "2932   https://www.huffingtonpost.com/entry/will-grac...   \n",
       "25186  https://www.huffingtonpost.com/entry/we-are-th...   \n",
       "26210  https://www.huffingtonpost.com/entry/wannacry-...   \n",
       "20973  https://www.huffingtonpost.com/entry/walking-d...   \n",
       "\n",
       "                                       short_description       date  \\\n",
       "21194  oftentimes film tv show eat disorder try convi... 2017-07-18   \n",
       "2932   lot easier kid mike pences home state read a d... 2018-04-02   \n",
       "25186  girl dalit village harirajpur odisha chase kit... 2017-05-31   \n",
       "26210  recent global cyberattack spar federal governm... 2017-05-19   \n",
       "20973                                 panel still happen 2017-07-20   \n",
       "\n",
       "                                               full_text  \n",
       "21194  to bone didnt teach glamour teach respect ofte...  \n",
       "2932   will grace creator donate gay bunny book every...  \n",
       "25186  we blood invisible live indias dalit women gir...  \n",
       "26210  wannacry ransomware attack raise alarm bell ci...  \n",
       "20973  walk dead reportedly cancel comiccon press eve...  "
      ]
     },
     "execution_count": 20,
     "metadata": {},
     "output_type": "execute_result"
    }
   ],
   "source": [
    "# Combining text\n",
    "f_articles[\"full_text\"] = f_articles[\"headline\"].map(str) + \" \" + f_articles[\"short_description\"]\n",
    "f_articles.head()"
   ]
  },
  {
   "cell_type": "markdown",
   "metadata": {},
   "source": [
    "An example of how the full text looks like is shown below."
   ]
  },
  {
   "cell_type": "code",
   "execution_count": 21,
   "metadata": {},
   "outputs": [
    {
     "name": "stdout",
     "output_type": "stream",
     "text": [
      "The fused text is: to bone didnt teach glamour teach respect oftentimes film tv show eat disorder try convince victims stop show sickly thin appearance\n"
     ]
    }
   ],
   "source": [
    "print('The fused text is: {}'.format(f_articles.iloc[0][\"full_text\"]))"
   ]
  },
  {
   "cell_type": "markdown",
   "metadata": {},
   "source": [
    "It is also important to see the most common words based on a particle category, to do so, the following cell shows a table with this information."
   ]
  },
  {
   "cell_type": "code",
   "execution_count": 22,
   "metadata": {},
   "outputs": [
    {
     "data": {
      "text/html": [
       "<div>\n",
       "<style scoped>\n",
       "    .dataframe tbody tr th:only-of-type {\n",
       "        vertical-align: middle;\n",
       "    }\n",
       "\n",
       "    .dataframe tbody tr th {\n",
       "        vertical-align: top;\n",
       "    }\n",
       "\n",
       "    .dataframe thead th {\n",
       "        text-align: right;\n",
       "    }\n",
       "</style>\n",
       "<table border=\"1\" class=\"dataframe\">\n",
       "  <thead>\n",
       "    <tr style=\"text-align: right;\">\n",
       "      <th></th>\n",
       "      <th>index</th>\n",
       "      <th>frequency</th>\n",
       "    </tr>\n",
       "  </thead>\n",
       "  <tbody>\n",
       "    <tr>\n",
       "      <th>0</th>\n",
       "      <td>trump</td>\n",
       "      <td>3228</td>\n",
       "    </tr>\n",
       "    <tr>\n",
       "      <th>1</th>\n",
       "      <td>say</td>\n",
       "      <td>609</td>\n",
       "    </tr>\n",
       "    <tr>\n",
       "      <th>2</th>\n",
       "      <td>donald</td>\n",
       "      <td>549</td>\n",
       "    </tr>\n",
       "    <tr>\n",
       "      <th>3</th>\n",
       "      <td>gop</td>\n",
       "      <td>452</td>\n",
       "    </tr>\n",
       "    <tr>\n",
       "      <th>4</th>\n",
       "      <td>house</td>\n",
       "      <td>423</td>\n",
       "    </tr>\n",
       "    <tr>\n",
       "      <th>5</th>\n",
       "      <td>white</td>\n",
       "      <td>367</td>\n",
       "    </tr>\n",
       "    <tr>\n",
       "      <th>6</th>\n",
       "      <td>us</td>\n",
       "      <td>357</td>\n",
       "    </tr>\n",
       "    <tr>\n",
       "      <th>7</th>\n",
       "      <td>new</td>\n",
       "      <td>333</td>\n",
       "    </tr>\n",
       "    <tr>\n",
       "      <th>8</th>\n",
       "      <td>health</td>\n",
       "      <td>305</td>\n",
       "    </tr>\n",
       "    <tr>\n",
       "      <th>9</th>\n",
       "      <td>bill</td>\n",
       "      <td>296</td>\n",
       "    </tr>\n",
       "  </tbody>\n",
       "</table>\n",
       "</div>"
      ],
      "text/plain": [
       "    index  frequency\n",
       "0   trump       3228\n",
       "1     say        609\n",
       "2  donald        549\n",
       "3     gop        452\n",
       "4   house        423\n",
       "5   white        367\n",
       "6      us        357\n",
       "7     new        333\n",
       "8  health        305\n",
       "9    bill        296"
      ]
     },
     "execution_count": 22,
     "metadata": {},
     "output_type": "execute_result"
    }
   ],
   "source": [
    "category_ngram('politics', 1, f_articles, 'category', 'headline')"
   ]
  },
  {
   "cell_type": "markdown",
   "metadata": {},
   "source": [
    "Convert the text into numpy arrays for the classification task."
   ]
  },
  {
   "cell_type": "code",
   "execution_count": 23,
   "metadata": {},
   "outputs": [],
   "source": [
    "# Targets\n",
    "seq_text = np.array([text for text in f_articles['full_text']])\n",
    "# Labels\n",
    "labels = np.array([label for label in f_articles['category']])"
   ]
  },
  {
   "cell_type": "markdown",
   "metadata": {},
   "source": [
    "Now we will print the shape of `seq_text` which should has dimensions equal to the number of samples and an example"
   ]
  },
  {
   "cell_type": "code",
   "execution_count": 24,
   "metadata": {},
   "outputs": [
    {
     "name": "stdout",
     "output_type": "stream",
     "text": [
      "(24274,)\n",
      "to bone didnt teach glamour teach respect oftentimes film tv show eat disorder try convince victims stop show sickly thin appearance\n"
     ]
    }
   ],
   "source": [
    "# Printing the shape and a text \n",
    "print(seq_text.shape)\n",
    "print(seq_text[0])"
   ]
  },
  {
   "cell_type": "markdown",
   "metadata": {},
   "source": [
    "### Encoding the data\n",
    "\n",
    "Now comes one of the most important steps and this is the encoding of the labels. As the Labels of this problem are categorical, we need to create a numeric representation. To do so, `sklearn` is used."
   ]
  },
  {
   "cell_type": "code",
   "execution_count": 25,
   "metadata": {},
   "outputs": [],
   "source": [
    "# Encoding categories\n",
    "label_encoder = LabelEncoder()\n",
    "# Fir the encoder\n",
    "labels = label_encoder.fit_transform(labels)"
   ]
  },
  {
   "cell_type": "markdown",
   "metadata": {},
   "source": [
    "The lenght of the labels must match the lenght of the catories. This information is verifies below. "
   ]
  },
  {
   "cell_type": "code",
   "execution_count": 26,
   "metadata": {},
   "outputs": [
    {
     "name": "stdout",
     "output_type": "stream",
     "text": [
      "The lenght of the labels are: 28\n",
      "The labels are: [ 0  1  2  3  4  5  6  7  8  9 10 11 12 13 14 15 16 17 18 19 20 21 22 23\n",
      " 24 25 26 27]\n"
     ]
    }
   ],
   "source": [
    "print('The lenght of the labels are: {}'.format(len(np.unique(labels))))\n",
    "print('The labels are: {}'.format(np.unique(labels)))"
   ]
  },
  {
   "cell_type": "markdown",
   "metadata": {},
   "source": [
    "The following lines define the model's parameters overall these are given as follows.\n",
    "\n",
    "-  vocab_size: the lenght of the vocabulary\n",
    "-  embedding_dim: The size of the embedding dimension\n",
    "-  max_length: The maximum lenght of the tokenize word\n",
    "-  padding_type: Where to pad the vector, after or before\n",
    "-  oov_tok: Token used to replace out-of-vocabulary of the words"
   ]
  },
  {
   "cell_type": "code",
   "execution_count": 51,
   "metadata": {},
   "outputs": [],
   "source": [
    "# Parameters\n",
    "# Size of the vocabulary\n",
    "vocab_size = 2000\n",
    "# Dimmension of the embedding \n",
    "embedding_dim = 128\n",
    "# LSTM dim\n",
    "lstm_dim = 32\n",
    "# hidden dim (fully connected)\n",
    "hidden_dim = 64\n",
    "# Maximum lenght of the tokenized vector\n",
    "max_length = 120\n",
    "# Padd the vector after the sequence\n",
    "padding_type ='post'\n",
    "# Used to replace out-of-vocabulary words\n",
    "oov_tok = \"<OOV>\""
   ]
  },
  {
   "cell_type": "markdown",
   "metadata": {},
   "source": [
    "Here is the `train_test_split` of the dataset to have a validation dataset"
   ]
  },
  {
   "cell_type": "code",
   "execution_count": 28,
   "metadata": {},
   "outputs": [],
   "source": [
    "# split the dataset\n",
    "train_sentences, validation_sentences, train_labels, validation_labels = train_test_split(seq_text, labels, \n",
    "                                                                                          test_size=0.33, \n",
    "                                                                                          stratify=labels)"
   ]
  },
  {
   "cell_type": "code",
   "execution_count": 29,
   "metadata": {},
   "outputs": [
    {
     "name": "stdout",
     "output_type": "stream",
     "text": [
      "The lenght of the training set is: (16263,)\n",
      "The lenght of the validation set is: (8011,)\n"
     ]
    }
   ],
   "source": [
    "print('The lenght of the training set is: {}'.format(train_sentences.shape))\n",
    "print('The lenght of the validation set is: {}'.format(validation_sentences.shape))"
   ]
  },
  {
   "cell_type": "markdown",
   "metadata": {},
   "source": [
    "Here is where the magic happens and the words are tokenized. To do so, Keras' Tokenizer method is used. This method will automatically create the tokenized vectors with a specified lengh, padding method, etc."
   ]
  },
  {
   "cell_type": "code",
   "execution_count": 30,
   "metadata": {},
   "outputs": [],
   "source": [
    "# Transform text into a vector\n",
    "tokenizer = Tokenizer(num_words = vocab_size, oov_token = oov_tok)\n",
    "# Fir to the train sequence\n",
    "tokenizer.fit_on_texts(train_sentences)\n",
    "# Dictionary with the index of each word\n",
    "word_index = tokenizer.word_index\n",
    "\n",
    "# Transform train dataset to sequence \n",
    "train_sequences = tokenizer.texts_to_sequences(train_sentences)\n",
    "# Pad the sequence to the desired shape (given above)\n",
    "train_padded = pad_sequences(train_sequences, padding = padding_type, maxlen = max_length)\n",
    "\n",
    "# Vectorize and Padd validation dataset\n",
    "validation_sequences = tokenizer.texts_to_sequences(validation_sentences)\n",
    "validation_padded = pad_sequences(validation_sequences, padding = padding_type, maxlen = max_length)"
   ]
  },
  {
   "cell_type": "code",
   "execution_count": 31,
   "metadata": {},
   "outputs": [
    {
     "name": "stdout",
     "output_type": "stream",
     "text": [
      "The shape of the tokenized dataset is: (8011, 120)\n"
     ]
    }
   ],
   "source": [
    "print('The shape of the tokenized dataset is: {}'.format(validation_padded.shape))"
   ]
  },
  {
   "cell_type": "markdown",
   "metadata": {},
   "source": [
    "From above we can see that the tokenized vector has the desired lenght."
   ]
  },
  {
   "cell_type": "markdown",
   "metadata": {},
   "source": [
    "### Defining and training the model\n",
    "\n",
    "\n",
    "Here is defined a simple model to classify the categories in the dataset. Recall that the features `headline` and `short_description` were blended into one single feature called `full_text`. The objective here is to classify the category given the previuos information. \n",
    "\n",
    "The model defined is a neural network with one embedding layer and 2 fully connected layers. Between the Embedding and the Fully connected layers is a `GlobalAveragePooling1D` which drops the sequence dimension in the output of the Embedding layer.\n",
    "\n",
    "As this is a multiclassification task, the crossentropy loss is used, the optimizer is adam and the metric used to evaluate the model is the accuracy. A model description is provided in the cell below.\n",
    "\n",
    "I also defined an early stop call which stops the training if the validation loss starts decreasing.\n",
    "\n",
    "**Note**: Below is another model with a Bidirectional RNN, so recall to just use the cell of with the model you want to use."
   ]
  },
  {
   "cell_type": "code",
   "execution_count": 32,
   "metadata": {},
   "outputs": [
    {
     "name": "stdout",
     "output_type": "stream",
     "text": [
      "Model: \"sequential\"\n",
      "_________________________________________________________________\n",
      "Layer (type)                 Output Shape              Param #   \n",
      "=================================================================\n",
      "embedding (Embedding)        (None, 120, 128)          256000    \n",
      "_________________________________________________________________\n",
      "global_average_pooling1d (Gl (None, 128)               0         \n",
      "_________________________________________________________________\n",
      "dense (Dense)                (None, 64)                8256      \n",
      "_________________________________________________________________\n",
      "dense_1 (Dense)              (None, 28)                1820      \n",
      "=================================================================\n",
      "Total params: 266,076\n",
      "Trainable params: 266,076\n",
      "Non-trainable params: 0\n",
      "_________________________________________________________________\n",
      "None\n"
     ]
    }
   ],
   "source": [
    "# Model definition\n",
    "model = tf.keras.Sequential([\n",
    "    tf.keras.layers.Embedding(vocab_size, embedding_dim, input_length=max_length),\n",
    "    # Flat Dimension\n",
    "    tf.keras.layers.GlobalAveragePooling1D(),\n",
    "    tf.keras.layers.Dense(hidden_dim, activation='relu'),\n",
    "    tf.keras.layers.Dense(len(np.unique(labels)), activation='softmax')\n",
    "])\n",
    "# Compiling the model\n",
    "model.compile(loss='sparse_categorical_crossentropy',\n",
    "              optimizer='adam',\n",
    "              metrics=['accuracy'])\n",
    "\n",
    "# model summary\n",
    "print(model.summary())"
   ]
  },
  {
   "cell_type": "markdown",
   "metadata": {},
   "source": [
    "### Defining and training a model with a Bidirectional RNN\n",
    "\n",
    "This implementation now has a `Bidirectional` LSTM layer. This particular layer basically makes a copy of the orinal LSTM and processes the information in backwards order. It is important to take into consideration that if the number of LSTM units are 8 the   `Bidirectional` will make a copy and therefore, we will end up with a total of 16 LSTM units."
   ]
  },
  {
   "cell_type": "code",
   "execution_count": 54,
   "metadata": {},
   "outputs": [
    {
     "name": "stdout",
     "output_type": "stream",
     "text": [
      "Model: \"sequential_3\"\n",
      "_________________________________________________________________\n",
      "Layer (type)                 Output Shape              Param #   \n",
      "=================================================================\n",
      "embedding_3 (Embedding)      (None, 120, 128)          256000    \n",
      "_________________________________________________________________\n",
      "bidirectional_3 (Bidirection (None, 64)                41216     \n",
      "_________________________________________________________________\n",
      "dense_4 (Dense)              (None, 64)                4160      \n",
      "_________________________________________________________________\n",
      "dense_5 (Dense)              (None, 28)                1820      \n",
      "=================================================================\n",
      "Total params: 303,196\n",
      "Trainable params: 303,196\n",
      "Non-trainable params: 0\n",
      "_________________________________________________________________\n",
      "None\n"
     ]
    }
   ],
   "source": [
    "# Model definition\n",
    "model = tf.keras.Sequential([\n",
    "    tf.keras.layers.Embedding(vocab_size, embedding_dim, input_length=max_length),\n",
    "    # Flat Dimension\n",
    "    tf.keras.layers.Bidirectional(tf.keras.layers.LSTM(lstm_dim)), # Output of LSTM is Batch x Net out x 2\n",
    "    tf.keras.layers.Dense(hidden_dim, activation='relu'),\n",
    "    tf.keras.layers.Dense(len(np.unique(labels)), activation='softmax')\n",
    "])\n",
    "\n",
    "# Compiling the model\n",
    "model.compile(loss='sparse_categorical_crossentropy',\n",
    "              optimizer='adam',\n",
    "              metrics=['accuracy'])\n",
    "\n",
    "# model summary\n",
    "print(model.summary())"
   ]
  },
  {
   "cell_type": "code",
   "execution_count": 55,
   "metadata": {},
   "outputs": [
    {
     "name": "stdout",
     "output_type": "stream",
     "text": [
      "Epoch 1/50\n",
      "341/341 - 19s - loss: 2.2773 - accuracy: 0.4117 - val_loss: 1.9536 - val_accuracy: 0.4880\n",
      "Epoch 2/50\n",
      "341/341 - 19s - loss: 1.7294 - accuracy: 0.5441 - val_loss: 1.7360 - val_accuracy: 0.5528\n",
      "Epoch 3/50\n",
      "341/341 - 19s - loss: 1.4110 - accuracy: 0.6258 - val_loss: 1.6414 - val_accuracy: 0.5702\n",
      "Epoch 4/50\n",
      "341/341 - 19s - loss: 1.2076 - accuracy: 0.6750 - val_loss: 1.6456 - val_accuracy: 0.5791\n",
      "Epoch 5/50\n",
      "341/341 - 19s - loss: 1.0532 - accuracy: 0.7119 - val_loss: 1.6890 - val_accuracy: 0.5823\n",
      "Epoch 6/50\n",
      "341/341 - 20s - loss: 0.9130 - accuracy: 0.7464 - val_loss: 1.7946 - val_accuracy: 0.5672\n"
     ]
    }
   ],
   "source": [
    "# Callback for early stopping after val stop improving\n",
    "early_stop = tf.keras.callbacks.EarlyStopping(monitor='val_loss', patience=3)\n",
    "\n",
    "# Train the model\n",
    "num_epochs = 50\n",
    "history = model.fit(train_padded, train_labels, \n",
    "                    epochs = num_epochs, verbose=2, \n",
    "                    validation_split=0.33, callbacks= [early_stop])\n",
    "\n",
    "# Predict over the validation test\n",
    "pred_val = model.predict(validation_padded)\n",
    "pred_val = np.array([np.argmax(i) for i in pred_val])"
   ]
  },
  {
   "cell_type": "markdown",
   "metadata": {},
   "source": [
    "As shown above, the model was successfully trained, for a deeper dive I will plot the Losses and Accuracy of the training."
   ]
  },
  {
   "cell_type": "code",
   "execution_count": 56,
   "metadata": {
    "scrolled": true
   },
   "outputs": [
    {
     "data": {
      "image/png": "[encoded data removed]",
      "text/plain": [
       "<Figure size 1440x360 with 2 Axes>"
      ]
     },
     "metadata": {},
     "output_type": "display_data"
    }
   ],
   "source": [
    "# Plotting the history of the model\n",
    "plot_history(history)"
   ]
  },
  {
   "cell_type": "markdown",
   "metadata": {},
   "source": [
    "Finally, An interesting step is to plot the confusion matrix of the validation text. This information will tell us how good the model is performing on unseen data."
   ]
  },
  {
   "cell_type": "code",
   "execution_count": 35,
   "metadata": {},
   "outputs": [
    {
     "name": "stdout",
     "output_type": "stream",
     "text": [
      "The overall training accuracy is: 0.5622269379603045\n"
     ]
    },
    {
     "data": {
      "image/png": "[encoded data removed]",
      "text/plain": [
       "<Figure size 1440x1440 with 1 Axes>"
      ]
     },
     "metadata": {},
     "output_type": "display_data"
    }
   ],
   "source": [
    "from sklearn.metrics import accuracy_score\n",
    "from sklearn.metrics import classification_report\n",
    "# Confusion matrix\n",
    "# label_encoder.classes_ show the classes encoded\n",
    "print('The overall training accuracy is: {}'.format(accuracy_score(pred_val, validation_labels)))\n",
    "plot_cmatrix(pred_val, label_encoder.classes_, 20, validation_labels)"
   ]
  },
  {
   "cell_type": "code",
   "execution_count": 36,
   "metadata": {},
   "outputs": [
    {
     "name": "stdout",
     "output_type": "stream",
     "text": [
      "                precision    recall  f1-score   support\n",
      "\n",
      "arts & culture       0.00      0.00      0.00         0\n",
      "  black voices       0.32      0.53      0.40       182\n",
      "      business       0.00      0.00      0.00         0\n",
      "       college       0.00      0.00      0.00         0\n",
      "        comedy       0.47      0.54      0.50       235\n",
      "         crime       0.14      0.35      0.20        52\n",
      "     education       0.29      0.34      0.31        50\n",
      " entertainment       0.74      0.48      0.59      1558\n",
      "     good news       0.00      0.00      0.00         0\n",
      "         green       0.25      0.36      0.30        87\n",
      "healthy living       0.38      0.26      0.31       429\n",
      "        impact       0.03      0.25      0.06        12\n",
      " latino voices       0.00      0.00      0.00         0\n",
      "         media       0.18      0.56      0.28        75\n",
      "       parents       0.58      0.39      0.46       345\n",
      "      politics       0.83      0.69      0.75      3530\n",
      "  queer voices       0.58      0.65      0.61       396\n",
      "      religion       0.00      0.00      0.00         2\n",
      "       science       0.00      0.00      0.00         0\n",
      "        sports       0.30      0.45      0.36       116\n",
      "         style       0.00      0.00      0.00         0\n",
      "         taste       0.09      0.44      0.14        18\n",
      "          tech       0.00      0.00      0.00         0\n",
      " the worldpost       0.00      0.00      0.00         0\n",
      "        travel       0.00      0.00      0.00         3\n",
      "    weird news       0.01      1.00      0.02         1\n",
      "         women       0.15      0.17      0.16       195\n",
      "    world news       0.58      0.55      0.57       725\n",
      "\n",
      "      accuracy                           0.56      8011\n",
      "     macro avg       0.21      0.29      0.21      8011\n",
      "  weighted avg       0.68      0.56      0.61      8011\n",
      "\n"
     ]
    },
    {
     "name": "stderr",
     "output_type": "stream",
     "text": [
      "/home/sherlock/anaconda3/envs/ml/lib/python3.8/site-packages/sklearn/metrics/_classification.py:1221: UndefinedMetricWarning:\n",
      "\n",
      "Recall and F-score are ill-defined and being set to 0.0 in labels with no true samples. Use `zero_division` parameter to control this behavior.\n",
      "\n"
     ]
    }
   ],
   "source": [
    "# Printing all the metrics\n",
    "print(classification_report(pred_val, validation_labels, target_names = label_encoder.classes_))"
   ]
  },
  {
   "cell_type": "markdown",
   "metadata": {},
   "source": [
    "Besides the last metrics, I wanted to see the number of good classifications per class, to do so the following cell print the results."
   ]
  },
  {
   "cell_type": "code",
   "execution_count": 37,
   "metadata": {},
   "outputs": [
    {
     "name": "stdout",
     "output_type": "stream",
     "text": [
      "Test Accuracy of arts & culture:  0% ( 0/65)\n",
      "Test Accuracy of black voices: 31% (96/302)\n",
      "Test Accuracy of business:  0% ( 0/106)\n",
      "Test Accuracy of college:  0% ( 0/11)\n",
      "Test Accuracy of comedy: 46% (127/271)\n",
      "Test Accuracy of crime: 14% (18/128)\n",
      "Test Accuracy of education: 29% (17/58)\n",
      "Test Accuracy of entertainment: 74% (755/1019)\n",
      "Test Accuracy of good news:  0% ( 0/ 3)\n",
      "Test Accuracy of green: 25% (31/123)\n",
      "Test Accuracy of healthy living: 37% (110/292)\n",
      "Test Accuracy of impact:  3% ( 3/97)\n",
      "Test Accuracy of latino voices:  0% ( 0/87)\n",
      "Test Accuracy of media: 18% (42/229)\n",
      "Test Accuracy of parents: 57% (133/231)\n",
      "Test Accuracy of politics: 83% (2424/2903)\n",
      "Test Accuracy of queer voices: 58% (256/440)\n",
      "Test Accuracy of religion:  0% ( 0/81)\n",
      "Test Accuracy of science:  0% ( 0/28)\n",
      "Test Accuracy of sports: 30% (52/173)\n",
      "Test Accuracy of style:  0% ( 0/83)\n",
      "Test Accuracy of taste:  8% ( 8/93)\n",
      "Test Accuracy of  tech:  0% ( 0/38)\n",
      "Test Accuracy of the worldpost:  0% ( 0/66)\n",
      "Test Accuracy of travel:  0% ( 0/59)\n",
      "Test Accuracy of weird news:  0% ( 1/121)\n",
      "Test Accuracy of women: 15% (34/224)\n",
      "Test Accuracy of world news: 58% (397/680)\n"
     ]
    }
   ],
   "source": [
    "class_correct = list(0. for i in range(len(np.unique(labels))))\n",
    "class_total = list(0. for i in range(len(np.unique(labels))))\n",
    "\n",
    "for i in range(len(validation_labels)):\n",
    "    # current target's label\n",
    "    label = validation_labels[i]\n",
    "    if validation_labels[i] == pred_val[i]:\n",
    "        class_correct[label] += 1\n",
    "    # Sum label\n",
    "    class_total[label] += 1\n",
    "        \n",
    "for i in range(len(np.unique(labels))):\n",
    "    if class_total[i] > 0:\n",
    "        print('Test Accuracy of %5s: %2d%% (%2d/%2d)' % (\n",
    "            str(label_encoder.classes_[i]), 100 * class_correct[i] / class_total[i],\n",
    "            np.sum(class_correct[i]), np.sum(class_total[i])))\n",
    "    else:\n",
    "        print('Test Accuracy of %5s: N/A (no training examples)' % (classes[i]))"
   ]
  },
  {
   "cell_type": "markdown",
   "metadata": {},
   "source": [
    "## Second point\n",
    "\n",
    "To analize the writing style of the authors, I will use a bag of words. With this bag of words I pretend to analize the top 10 most used words by author and thus give a insights.\n",
    "\n",
    "First of all, I will list all the authors in the dataframe."
   ]
  },
  {
   "cell_type": "code",
   "execution_count": 38,
   "metadata": {},
   "outputs": [
    {
     "name": "stdout",
     "output_type": "stream",
     "text": [
      "The Authors in the dataset are: \n",
      "\n",
      "['healthy living' 'queer voices' 'world news' 'politics' 'entertainment'\n",
      " 'comedy' 'black voices' 'green' 'impact' 'latino voices' 'business'\n",
      " 'women' 'weird news' 'taste' 'crime' 'media' 'parents' 'travel'\n",
      " 'arts & culture' 'tech' 'education' 'sports' 'religion' 'science' 'style'\n",
      " 'the worldpost' 'college' 'good news']\n",
      "The total number of features are: 28\n"
     ]
    }
   ],
   "source": [
    "# Make a copy of the dataset\n",
    "category_df = f_articles.copy()\n",
    "\n",
    "print('The Authors in the dataset are: \\n')\n",
    "categories = category_df.category.unique()\n",
    "print(categories)\n",
    "print('The total number of features are: {}'.format(len(categories)))"
   ]
  },
  {
   "cell_type": "markdown",
   "metadata": {},
   "source": [
    "Due to the inmense volume of authors in the dataset, I will use a wordCloud to show the most common authors."
   ]
  },
  {
   "cell_type": "code",
   "execution_count": 39,
   "metadata": {},
   "outputs": [
    {
     "name": "stdout",
     "output_type": "stream",
     "text": [
      "          category     0\n",
      "0         politics  8797\n",
      "2       world news  2061\n",
      "3     queer voices  1332\n",
      "4     black voices   916\n",
      "5   healthy living   886\n",
      "6           comedy   821\n",
      "7          parents   699\n",
      "8            media   694\n",
      "9            women   678\n",
      "10          sports   525\n"
     ]
    }
   ],
   "source": [
    "# counting unique items\n",
    "#item_counts = f_articles[\"authors\"].value_counts()\n",
    "item_counts = category_df[[\"category\"]].value_counts(sort=True).reset_index()\n",
    "# Drop annoyng index\n",
    "item_counts = item_counts.drop([1])\n",
    "print(item_counts[:10])"
   ]
  },
  {
   "cell_type": "code",
   "execution_count": 40,
   "metadata": {},
   "outputs": [
    {
     "name": "stdout",
     "output_type": "stream",
     "text": [
      "       index  frequency\n",
      "0      trump       4634\n",
      "1        say       1985\n",
      "2  president        971\n",
      "3      state        838\n",
      "4     donald        833\n",
      "5      house        828\n",
      "6         us        780\n",
      "7      white        724\n",
      "8        new        721\n",
      "9        gop        634\n"
     ]
    }
   ],
   "source": [
    "cat_df = category_ngram('politics', 1, category_df, 'category', 'full_text')\n",
    "cat_tuple = [tuple(x) for x in cat_df.values]\n",
    "print(cat_df)"
   ]
  },
  {
   "cell_type": "markdown",
   "metadata": {},
   "source": [
    "Showing a single Word cloud for a particular category"
   ]
  },
  {
   "cell_type": "code",
   "execution_count": 41,
   "metadata": {},
   "outputs": [
    {
     "data": {
      "image/png": "[encoded data removed]",
      "text/plain": [
       "<Figure size 576x576 with 1 Axes>"
      ]
     },
     "metadata": {},
     "output_type": "display_data"
    }
   ],
   "source": [
    "# Create and generate a word cloud image:\n",
    "wordcloud = WordCloud(max_words = 200, background_color ='white', stopwords = stop_words).generate_from_frequencies(dict(cat_tuple))\n",
    "# plot the WordCloud image                        \n",
    "plt.figure(figsize = (8, 8), facecolor = None) \n",
    "plt.imshow(wordcloud) \n",
    "plt.axis(\"off\") \n",
    "plt.tight_layout(pad = 0) \n",
    "\n",
    "plt.show() "
   ]
  },
  {
   "cell_type": "markdown",
   "metadata": {},
   "source": [
    "Show wordclouds for the 12 more frequent categories"
   ]
  },
  {
   "cell_type": "code",
   "execution_count": 43,
   "metadata": {},
   "outputs": [
    {
     "name": "stderr",
     "output_type": "stream",
     "text": [
      "/home/sherlock/Desktop/whale_jaguar_test/utils.py:75: MatplotlibDeprecationWarning:\n",
      "\n",
      "Passing non-integers as three-element position specification is deprecated since 3.3 and will be removed two minor releases later.\n",
      "\n"
     ]
    },
    {
     "data": {
      "image/png": "[encoded data removed]",
      "text/plain": [
       "<Figure size 1152x432 with 12 Axes>"
      ]
     },
     "metadata": {},
     "output_type": "display_data"
    }
   ],
   "source": [
    "display_wordcloud(category_df,stop_words, 12)"
   ]
  },
  {
   "cell_type": "code",
   "execution_count": null,
   "metadata": {},
   "outputs": [],
   "source": []
  }
 ],
 "metadata": {
  "kernelspec": {
   "display_name": "Python 3",
   "language": "python",
   "name": "python3"
  },
  "language_info": {
   "codemirror_mode": {
    "name": "ipython",
    "version": 3
   },
   "file_extension": ".py",
   "mimetype": "text/x-python",
   "name": "python",
   "nbconvert_exporter": "python",
   "pygments_lexer": "ipython3",
   "version": "3.8.5"
  }
 },
 "nbformat": 4,
 "nbformat_minor": 4
}
